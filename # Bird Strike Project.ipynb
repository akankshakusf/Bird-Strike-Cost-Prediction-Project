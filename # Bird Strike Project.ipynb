{
 "cells": [
  {
   "cell_type": "markdown",
   "metadata": {},
   "source": [
    "# Bird Strike Project"
   ]
  },
  {
   "cell_type": "markdown",
   "metadata": {},
   "source": [
    "In this assignment, we will focus on airline incidents. The data set for this assignment includes information on the cost of bird strikes. Use this data set to see if you can predict the cost of a bird strike (i.e., the `Total Cost` column in the data set) based on the attributes of the incident. This is important because this model can make a cost prediction as soon as a bird strike incident happens."
   ]
  },
  {
   "cell_type": "markdown",
   "metadata": {},
   "source": [
    "## Description of Variables\n",
    "\n",
    "The description of variables are provided in \"Airline - Data Dictionary.docx\""
   ]
  },
  {
   "cell_type": "markdown",
   "metadata": {},
   "source": [
    "## Goal\n",
    "\n",
    "Use the **airline.csv** data set and build models to predict **Total Cost**.\n",
    "\n",
    "**Be careful: this is a REGRESSION task**"
   ]
  },
  {
   "cell_type": "markdown",
   "metadata": {},
   "source": [
    "# Section 1: "
   ]
  },
  {
   "cell_type": "code",
   "execution_count": 2,
   "metadata": {},
   "outputs": [],
   "source": [
    "import pandas as pd\n",
    "import numpy as np\n",
    "\n",
    "np.random.seed(42)"
   ]
  },
  {
   "cell_type": "markdown",
   "metadata": {},
   "source": [
    "# Get the data"
   ]
  },
  {
   "cell_type": "code",
   "execution_count": 3,
   "metadata": {},
   "outputs": [
    {
     "data": {
      "text/html": [
       "<div>\n",
       "<style scoped>\n",
       "    .dataframe tbody tr th:only-of-type {\n",
       "        vertical-align: middle;\n",
       "    }\n",
       "\n",
       "    .dataframe tbody tr th {\n",
       "        vertical-align: top;\n",
       "    }\n",
       "\n",
       "    .dataframe thead th {\n",
       "        text-align: right;\n",
       "    }\n",
       "</style>\n",
       "<table border=\"1\" class=\"dataframe\">\n",
       "  <thead>\n",
       "    <tr style=\"text-align: right;\">\n",
       "      <th></th>\n",
       "      <th>Aircraft</th>\n",
       "      <th>Number_Objects</th>\n",
       "      <th>Engines</th>\n",
       "      <th>Airline</th>\n",
       "      <th>Origin State</th>\n",
       "      <th>Phase</th>\n",
       "      <th>Description</th>\n",
       "      <th>Object Size</th>\n",
       "      <th>Weather</th>\n",
       "      <th>Warning</th>\n",
       "      <th>Altitude</th>\n",
       "      <th>Total Cost</th>\n",
       "    </tr>\n",
       "  </thead>\n",
       "  <tbody>\n",
       "    <tr>\n",
       "      <th>0</th>\n",
       "      <td>B-737-400</td>\n",
       "      <td>859</td>\n",
       "      <td>2.0</td>\n",
       "      <td>US AIRWAYS*</td>\n",
       "      <td>New York</td>\n",
       "      <td>Climb</td>\n",
       "      <td>FLT 753. PILOT REPTD A HUNDRED BIRDS ON UNKN T...</td>\n",
       "      <td>Medium</td>\n",
       "      <td>No Cloud</td>\n",
       "      <td>N</td>\n",
       "      <td>1500.0</td>\n",
       "      <td>30736</td>\n",
       "    </tr>\n",
       "    <tr>\n",
       "      <th>1</th>\n",
       "      <td>LEARJET-25</td>\n",
       "      <td>227</td>\n",
       "      <td>2.0</td>\n",
       "      <td>BUSINESS</td>\n",
       "      <td>Delaware</td>\n",
       "      <td>Climb</td>\n",
       "      <td>NaN</td>\n",
       "      <td>Small</td>\n",
       "      <td>No Cloud</td>\n",
       "      <td>N</td>\n",
       "      <td>150.0</td>\n",
       "      <td>1481711</td>\n",
       "    </tr>\n",
       "    <tr>\n",
       "      <th>2</th>\n",
       "      <td>A-320</td>\n",
       "      <td>320</td>\n",
       "      <td>2.0</td>\n",
       "      <td>UNITED AIRLINES</td>\n",
       "      <td>DC</td>\n",
       "      <td>Approach</td>\n",
       "      <td>WS ASSISTED IN CLEAN-UP OF 273 STARLINGS AND 1...</td>\n",
       "      <td>Small</td>\n",
       "      <td>Some Cloud</td>\n",
       "      <td>Y</td>\n",
       "      <td>100.0</td>\n",
       "      <td>1483141</td>\n",
       "    </tr>\n",
       "    <tr>\n",
       "      <th>3</th>\n",
       "      <td>HAWKER 800</td>\n",
       "      <td>3</td>\n",
       "      <td>2.0</td>\n",
       "      <td>EXECUTIVE JET AVIATION</td>\n",
       "      <td>Colorado</td>\n",
       "      <td>Approach</td>\n",
       "      <td>SAW SML FLOCK FLYING UPON LDG FLARE, ACROSS RW...</td>\n",
       "      <td>Small</td>\n",
       "      <td>No Cloud</td>\n",
       "      <td>N</td>\n",
       "      <td>20.0</td>\n",
       "      <td>8600</td>\n",
       "    </tr>\n",
       "    <tr>\n",
       "      <th>4</th>\n",
       "      <td>DC-9-10</td>\n",
       "      <td>5</td>\n",
       "      <td>2.0</td>\n",
       "      <td>NORTHWEST AIRLINES</td>\n",
       "      <td>Minnesota</td>\n",
       "      <td>Climb</td>\n",
       "      <td>FLT 1493 STATED HE FLEW THRU A FLOCK OF ABOUT ...</td>\n",
       "      <td>Large</td>\n",
       "      <td>Overcast</td>\n",
       "      <td>Y</td>\n",
       "      <td>800.0</td>\n",
       "      <td>35146</td>\n",
       "    </tr>\n",
       "  </tbody>\n",
       "</table>\n",
       "</div>"
      ],
      "text/plain": [
       "     Aircraft  Number_Objects  Engines                 Airline Origin State  \\\n",
       "0   B-737-400             859      2.0             US AIRWAYS*     New York   \n",
       "1  LEARJET-25             227      2.0                BUSINESS     Delaware   \n",
       "2       A-320             320      2.0         UNITED AIRLINES           DC   \n",
       "3  HAWKER 800               3      2.0  EXECUTIVE JET AVIATION     Colorado   \n",
       "4     DC-9-10               5      2.0      NORTHWEST AIRLINES    Minnesota   \n",
       "\n",
       "      Phase                                        Description Object Size  \\\n",
       "0     Climb  FLT 753. PILOT REPTD A HUNDRED BIRDS ON UNKN T...      Medium   \n",
       "1     Climb                                                NaN       Small   \n",
       "2  Approach  WS ASSISTED IN CLEAN-UP OF 273 STARLINGS AND 1...       Small   \n",
       "3  Approach  SAW SML FLOCK FLYING UPON LDG FLARE, ACROSS RW...       Small   \n",
       "4     Climb  FLT 1493 STATED HE FLEW THRU A FLOCK OF ABOUT ...       Large   \n",
       "\n",
       "      Weather Warning  Altitude  Total Cost  \n",
       "0    No Cloud       N    1500.0       30736  \n",
       "1    No Cloud       N     150.0     1481711  \n",
       "2  Some Cloud       Y     100.0     1483141  \n",
       "3    No Cloud       N      20.0        8600  \n",
       "4    Overcast       Y     800.0       35146  "
      ]
     },
     "execution_count": 3,
     "metadata": {},
     "output_type": "execute_result"
    }
   ],
   "source": [
    "#We will predict the \"price\" value in the data set:\n",
    "\n",
    "airline = pd.read_csv(\"airline.csv\")\n",
    "airline.head()"
   ]
  },
  {
   "cell_type": "code",
   "execution_count": 4,
   "metadata": {},
   "outputs": [
    {
     "data": {
      "text/plain": [
       "Description    56\n",
       "dtype: int64"
      ]
     },
     "execution_count": 4,
     "metadata": {},
     "output_type": "execute_result"
    }
   ],
   "source": [
    "# Check for missing values\n",
    "\n",
    "airline[['Description']].isna().sum()"
   ]
  },
  {
   "cell_type": "code",
   "execution_count": 5,
   "metadata": {},
   "outputs": [],
   "source": [
    "# If there were missing values:\n",
    "\n",
    "airline['Description'].fillna('missing', inplace=True)"
   ]
  },
  {
   "cell_type": "markdown",
   "metadata": {},
   "source": [
    "# Split the data into train and test"
   ]
  },
  {
   "cell_type": "code",
   "execution_count": 6,
   "metadata": {},
   "outputs": [],
   "source": [
    "from sklearn.model_selection import train_test_split\n",
    "\n",
    "train_set, test_set = train_test_split(airline, test_size=0.3)"
   ]
  },
  {
   "cell_type": "markdown",
   "metadata": {},
   "source": [
    "# Check the missing values"
   ]
  },
  {
   "cell_type": "code",
   "execution_count": 7,
   "metadata": {},
   "outputs": [
    {
     "data": {
      "text/plain": [
       "Aircraft           0\n",
       "Number_Objects     0\n",
       "Engines           23\n",
       "Airline           13\n",
       "Origin State      15\n",
       "Phase             13\n",
       "Description        0\n",
       "Object Size       13\n",
       "Weather            0\n",
       "Warning           13\n",
       "Altitude          13\n",
       "Total Cost         0\n",
       "dtype: int64"
      ]
     },
     "execution_count": 7,
     "metadata": {},
     "output_type": "execute_result"
    }
   ],
   "source": [
    "train_set.isna().sum()"
   ]
  },
  {
   "cell_type": "code",
   "execution_count": 8,
   "metadata": {},
   "outputs": [
    {
     "data": {
      "text/plain": [
       "Aircraft          0\n",
       "Number_Objects    0\n",
       "Engines           6\n",
       "Airline           1\n",
       "Origin State      3\n",
       "Phase             1\n",
       "Description       0\n",
       "Object Size       1\n",
       "Weather           0\n",
       "Warning           1\n",
       "Altitude          1\n",
       "Total Cost        0\n",
       "dtype: int64"
      ]
     },
     "execution_count": 8,
     "metadata": {},
     "output_type": "execute_result"
    }
   ],
   "source": [
    "test_set.isna().sum()"
   ]
  },
  {
   "cell_type": "markdown",
   "metadata": {},
   "source": [
    "## Data Prep "
   ]
  },
  {
   "cell_type": "code",
   "execution_count": 9,
   "metadata": {},
   "outputs": [],
   "source": [
    "from sklearn.compose import ColumnTransformer\n",
    "from sklearn.pipeline import Pipeline\n",
    "from sklearn.impute import SimpleImputer\n",
    "from sklearn.preprocessing import StandardScaler\n",
    "from sklearn.preprocessing import OneHotEncoder\n",
    "from sklearn.preprocessing import FunctionTransformer\n",
    "\n",
    "from sklearn.feature_extraction.text import TfidfVectorizer\n",
    "from sklearn.decomposition import TruncatedSVD"
   ]
  },
  {
   "cell_type": "markdown",
   "metadata": {},
   "source": [
    "# Separate the target variable"
   ]
  },
  {
   "cell_type": "code",
   "execution_count": 10,
   "metadata": {},
   "outputs": [],
   "source": [
    "train_target = train_set[['Total Cost']]\n",
    "test_target = test_set[['Total Cost']]\n",
    "\n",
    "train_inputs = train_set.drop(['Total Cost'], axis=1)\n",
    "test_inputs = test_set.drop(['Total Cost'], axis=1)"
   ]
  },
  {
   "cell_type": "markdown",
   "metadata": {},
   "source": [
    "## Feature Engineering\n",
    "\n",
    "Create one NEW feature from existing data. You either transform a single variable, or create a new variable from existing ones. \n"
   ]
  },
  {
   "cell_type": "markdown",
   "metadata": {},
   "source": [
    "The new feature I have created is Engine/No.of objects"
   ]
  },
  {
   "cell_type": "code",
   "execution_count": 11,
   "metadata": {},
   "outputs": [],
   "source": [
    "def new_col1(df):\n",
    "    \n",
    "    #Create a copy so that we don't overwrite the existing dataframe\n",
    "    df1 = df.copy()\n",
    "\n",
    "    # Use the formula, though fill in 0s when the value is 0/0 (because 0/0 generates \"nan\" values)\n",
    "    df1['Engine_to_Object_Ratio'] = (df1['Engines']/df1['Number_Objects']).fillna(0)\n",
    "\n",
    "    # Replace the infinity values with 1 (because a value divided by 0 generates infinity)\n",
    "    df1['Engine_to_Object_Ratio'].replace(np.inf, 1, inplace=True)\n",
    "\n",
    "    return df1[['Engine_to_Object_Ratio']]\n",
    "    # You can use this to check whether the calculation is made correctly:\n",
    "    #return df1"
   ]
  },
  {
   "cell_type": "code",
   "execution_count": 12,
   "metadata": {},
   "outputs": [
    {
     "data": {
      "text/html": [
       "<div>\n",
       "<style scoped>\n",
       "    .dataframe tbody tr th:only-of-type {\n",
       "        vertical-align: middle;\n",
       "    }\n",
       "\n",
       "    .dataframe tbody tr th {\n",
       "        vertical-align: top;\n",
       "    }\n",
       "\n",
       "    .dataframe thead th {\n",
       "        text-align: right;\n",
       "    }\n",
       "</style>\n",
       "<table border=\"1\" class=\"dataframe\">\n",
       "  <thead>\n",
       "    <tr style=\"text-align: right;\">\n",
       "      <th></th>\n",
       "      <th>Engine_to_Object_Ratio</th>\n",
       "    </tr>\n",
       "  </thead>\n",
       "  <tbody>\n",
       "    <tr>\n",
       "      <th>864</th>\n",
       "      <td>2.0</td>\n",
       "    </tr>\n",
       "    <tr>\n",
       "      <th>1083</th>\n",
       "      <td>2.0</td>\n",
       "    </tr>\n",
       "    <tr>\n",
       "      <th>692</th>\n",
       "      <td>2.0</td>\n",
       "    </tr>\n",
       "    <tr>\n",
       "      <th>354</th>\n",
       "      <td>2.0</td>\n",
       "    </tr>\n",
       "    <tr>\n",
       "      <th>1081</th>\n",
       "      <td>0.0</td>\n",
       "    </tr>\n",
       "    <tr>\n",
       "      <th>...</th>\n",
       "      <td>...</td>\n",
       "    </tr>\n",
       "    <tr>\n",
       "      <th>1044</th>\n",
       "      <td>2.0</td>\n",
       "    </tr>\n",
       "    <tr>\n",
       "      <th>1095</th>\n",
       "      <td>2.0</td>\n",
       "    </tr>\n",
       "    <tr>\n",
       "      <th>1130</th>\n",
       "      <td>2.0</td>\n",
       "    </tr>\n",
       "    <tr>\n",
       "      <th>860</th>\n",
       "      <td>2.0</td>\n",
       "    </tr>\n",
       "    <tr>\n",
       "      <th>1126</th>\n",
       "      <td>2.0</td>\n",
       "    </tr>\n",
       "  </tbody>\n",
       "</table>\n",
       "<p>847 rows × 1 columns</p>\n",
       "</div>"
      ],
      "text/plain": [
       "      Engine_to_Object_Ratio\n",
       "864                      2.0\n",
       "1083                     2.0\n",
       "692                      2.0\n",
       "354                      2.0\n",
       "1081                     0.0\n",
       "...                      ...\n",
       "1044                     2.0\n",
       "1095                     2.0\n",
       "1130                     2.0\n",
       "860                      2.0\n",
       "1126                     2.0\n",
       "\n",
       "[847 rows x 1 columns]"
      ]
     },
     "execution_count": 12,
     "metadata": {},
     "output_type": "execute_result"
    }
   ],
   "source": [
    "#Let's test the new function:\n",
    "\n",
    "# Send the train set to the function we created\n",
    "new_col1(train_set)"
   ]
  },
  {
   "cell_type": "code",
   "execution_count": 13,
   "metadata": {},
   "outputs": [
    {
     "data": {
      "text/plain": [
       "Aircraft           object\n",
       "Number_Objects      int64\n",
       "Engines           float64\n",
       "Airline            object\n",
       "Origin State       object\n",
       "Phase              object\n",
       "Description        object\n",
       "Object Size        object\n",
       "Weather            object\n",
       "Warning            object\n",
       "Altitude          float64\n",
       "dtype: object"
      ]
     },
     "execution_count": 13,
     "metadata": {},
     "output_type": "execute_result"
    }
   ],
   "source": [
    "train_inputs.dtypes"
   ]
  },
  {
   "cell_type": "markdown",
   "metadata": {},
   "source": [
    "Justification of the new feature \n",
    "\n",
    "I believe that, \"Engine to Object Ratio\" is a valuable tool for determining the number of impacts on an aircraft per engine and this metric can help a lot in analytics . A higher ratio could indicate significant damage to the aircraft. This feature plays a crucial role in enhancing risk evaluations and predictive models, and can greatly impact maintenance and safety choices by pinpointing the areas of greatest impact in aviation incidents."
   ]
  },
  {
   "cell_type": "markdown",
   "metadata": {},
   "source": [
    "# Sklearn: Text preparation"
   ]
  },
  {
   "cell_type": "code",
   "execution_count": 14,
   "metadata": {},
   "outputs": [],
   "source": [
    "def new_col(df):\n",
    "    #Create a copy so that we don't overwrite the existing dataframe\n",
    "    df1 = df.copy()\n",
    "    \n",
    "    # First, conver the dataframe column to a numpy array. Then, call the ravel function to make it one-dimensional\n",
    "    return np.array(df['Description']).ravel()"
   ]
  },
  {
   "cell_type": "code",
   "execution_count": 15,
   "metadata": {},
   "outputs": [
    {
     "data": {
      "text/plain": [
       "array(['HIT BIRD IN REDUCED VISABILITY (ABOUT 4 MILES) RAIN. DID NOT SEE BIRD UNTIL LAST MOMENT. ONLY REALIZED STRIKE HAPPENED AFTER LDG DURING POST FLT INSPN. BIRD WAS INGESTED INTO #2 ENG WITH NO DMG NOTED DURING BORESCOPE. UNABLE TO RECOVER ANY USABLE FEATHERS',\n",
       "       'BIRD WAYON RWY, FLEW UP, STRUCK RT LEADING EDGE MIDWING. NO DMG',\n",
       "       'NOTIFIED DEPTARTURE. DO NOT KNOW IF REMAINS WERE COLLECTED. EST $100 FOR INSPN.',\n",
       "       'FLT1040',\n",
       "       \"MALLARD STRUCK RADOME, DAMAGING BOTH RADOME AND RADAR. CARCASS COLLECTED BY ARPT OPS AND ID/ADDED TO STRIKE DATABASE BY USDA/WILDLF SPEC. MALE MALLARD DUCK ID'S FROM CARCASS COLLECTION BY USDA/WILDLF SPEC.\",\n",
       "       'BIRD HIT FWD EDGE OF WING JUST ABOVE & RT OF COCKPIT. DENTED LE 12\" WIDE AND 3\" DEEP. ATIS WARNING.',\n",
       "       'ENG WAS CLEANED OF BIRD DEBRIS. NO FURTHER WORK WAS REQUIRED.',\n",
       "       'INITIAL CLIMB, GEESE SPOTTED COMING UP IN FRONT OF A/C. NO TIME TO AVOID. NUMEROUS STRIKES, #1 ENG FAILED DUE TO INGESTION. FLT DIVERTED TO AGS & LANDED UNEVENTFULLY. 14 GEESE FOUND ON RWY. 3 FOUND ON A/C INLET. MIN STRUCK 17. ID BY SMITHSONIAN FAA 910.',\n",
       "       'HARD BRASS BRAKE LINE ON RT MAIN GEAR CRACKED. BIRD REMAINS WEDGED THROUGHOUT MAIN GEAR COMPLEX ON RT SIDE. DAMAGE TO RT ENG INLET AND SUBSEQUENT COLLATERAL DMG TO ENG FANS AND INTERNAL PARTS. INGESTION?',\n",
       "       'FLT 77. #2 ENG FAILED. EXTENSIVE FOD DMG TO STAGES 1-8 COMPRESSOR AND STATORS. PILOT DECLARED EMERGENCY & MADE A PREC LDG AT WILLOW RUN ARPT IN DETROIT W/O INCIDENT',\n",
       "       'STATOR BLADES BENT. STRIKE AT ROTATION.',\n",
       "       \"DAMAGED RT WING UPPER LEADING EDGE 2' INBD FROM TIP TANK AND LWR NOSE AREA BY OPENING FOR AIR INLET FOR HEATER.\",\n",
       "       'ATIS WARNING. CABIN DOOR SMASHED. PILOT SAW 2 DEER. RWY WAS  WET MAKING IT HARD TO BRAKE. DEER HIT BELLY OF A/C.& EXITED BTWN THE LDG GEAR. SHE DAMAGED THE DOOR, MOST INNER PART  OF WING ROOT & DENTED SOME BELLY SKIN. NO ONE WAS HURT. RWY WAS CLOSED WHILE',\n",
       "       'BIRD SEEN ON RWY JUST PRIOR TO ROTATION. BIRD TOOK OFF JUST PRIOR TO A/C PASSING OVERHEAD. HIT L MAIN LDG GEAR BTWN TIRES. FLT CREW UNAWARE OF IMPACT UNTIL ARRIVAL AT DESTINATION. BIRD WAS FOUND LODGED IN LDG GEAR. FWD BRAKE LINES WERE BROKEN BY IMPACT, B',\n",
       "       'I SAW A WHITE OBJECT OUT MY L SIDE WINDOW FOR LESS THAN 1 SECOND. I THOUGH WE MAY HAVE JUST HIT SOMETHING AND TOLD MY F/O. I DID NOT HEAR OR FEEL ANYTHING. AT THE GATE, THE NEXT F/O DID AN PRE-FLT INSPN AND FUND A DENT ON THE #1 ENG NACELLE. MX WAS NOTIFI',\n",
       "       \"HIT MULTIPLE BIRDS, TRIED TO ABORT T/O, RAN 125' OFF END OF RWY.  INGESTED AT LEAST 1 BIRD. ID BY SMITHSONIAN FAA 517. NO BIRDS SEEN  FROM TOWER.  ARPT CLOSED ABOUT 1/2 HOUR & RWY 5 REMAINED CLOSED LONGER. DMG REPTD AS MINOR. STAGE 1 COMPRESSOR BLADES WER\",\n",
       "       'DENT IN VERTICAL FIN.',\n",
       "       'ID BY SMITHSONIAN, FAA 4181, DNA. PILOT REPTD BIRDSTRIKE DURING T/O. RETD TO APRT. VIBRATION /NOISE STOPPED AFTER REDUCING THRUST ON AFFECTED ENG. UPON INSPN FOUND AT LEAST 3 FAN BLADES DAMAGED. 9(DATE ENTRY NOTE: FOLLOW UP CALL FOUND THAT  BLADES WERE RE',\n",
       "       'A/C NEEDED A CONSIDERABLE AMOUNT OF RESKINNING AND SEVERAL STRINGERS WERE REPLACED. REPAIRS TOTALED OVER $17,000. (DATA ENTRY NOTE: ORIGINAL REPT SHOWED COST AT $30,000)',\n",
       "       \"ACCORDING TO CAPT, JUST AFTER T/O ON DOWNWIND OF RWY 9L AT 1100'  HE SAW 3 LRG BLACK BIRDS ABOUT 150' ABOVE HIM. A FEW SECONDS LATER HE SAW ONE DIVE AND WAS UNABLE TO AVOID THE STRIKE. THE BIRD WAS LODGED IN THE WING. AS HE TURNED AROUND TO RETURN TO KTMB\",\n",
       "       \"STRIKE WAS AT ROTATION. MADE PREC LDG TO CHECK FOR DMG. BIRD HIT CO/P'S SIDE WINDOW. MINOR SCRATCHES ONLY. PHOTO OF BIRD SENT.\",\n",
       "       'SML DOVE-LIKE BIRD. THERE IS A BIG PROBLEM WITH BIRDS AT PHF. SEEMS TO BE NO CONCERN FROM ARPT MGR. GRASS NOT MOWED, NO AIR CANNON OR ANY OTHER PROCEDURE FOR LIMITING # OF BIRDS. WE HAVE A PROBLEM HERE. 2 BIRDSTRIKES IN 3 DAYS. #1 ENG DAMAGED. 4 FAN BLADE',\n",
       "       'NO DMG. INGESTED ONE. HIT 6-8 ON FINAL APCH. . BORESCOPED. COST REPTD FOR INSPN.',\n",
       "       'A/C LANDED AFTER DARK AND REPTD A DEER STRIKE. PHOTOS OF DMG SENT. DAMAGED RT LANDING GEAR DOORS, RT FLAP.',\n",
       "       '4 HRS OUT OF SERVICE. ESTIAMTED OTHER COST REPT AT $5000 BUT NOT EXPLANATION FOR WHAT.',\n",
       "       'ID BY SMITHSONIAN. HIT BIRD ON 1.5 MILE FINAL. DMG TO ENG COWLING. A/C FERRIED OUT FOR REPAIRS IN PHX.',\n",
       "       'ENG #1 RINGLET WAS DAMAGED. COST BETWEEN $15,000-$20,000.',\n",
       "       'DMG TO FRONT NOSE WHEEL GEAR DOOR.',\n",
       "       'ID BY SMITHSONIAN, FAA 5609. WHOLE FEATHER. LESS THAN A MINUTE AFTER DEPARTURE, BIRD HIT DORSAL FIND CAUSED DAMAGE. A/C WILL BE OUT OF SERVICE UNTIL IT IS REPLACED. PHOTOS. NO PATIENT ON BOARD.',\n",
       "       'HIT SML-MED BIRDS ON FINAL APCH. DMG TO LE CENTER SECTION OF TAIL.',\n",
       "       'PILOT REPTD BIRD AS LRG AND WHITE. INGESTED. SLIGHT VIBRATION. ENG INDICATIONS UNCHANGED. PILOT RETARDED #2 ENG THROTTLE & VIB DIMINISHED. ATC NOTIFIED & FLT CLEARED TO LAND. LANDED W/O INCIDENT. 5 FAN BLADES REPLACED).',\n",
       "       \"WHITE BIRD. BLOOD SMUDGE ABOVE F/O'S WINDSHLD.\", 'missing',\n",
       "       'IMMED AFTER LIFT-OFF, A FLOCK OF MED BIRDS (LINE ABREAST FORMATION) APPEARED. I PULLED NOSE UP TO CLIMB OVER FLOCK. BIRDS DISAPPARED FROM VIEW AT THE SAME TIME WE FELT A THUD. RT WING TIP HAD BEEN STRUCK.',\n",
       "       'ON DESCENT TO HOSPITAL HELIPAD AT 2000 MSL STRUCK SMALL BIRD ON CENTER OF COPILOT (L) WINDSHLD. MX INSPECTED  A/C AND FOUND NO DMG. TIME OUT OF SERVICE = 2.5 HRS. DIST FROM ARPT = 9 MILES 341 DEGREES FROM KLFK.',\n",
       "       'DENTED SHEET METAL ON NOSE.',\n",
       "       'ID BY SMITHSONIAN. PS FOUND HAWK ALONG WITH PARTS ON RWY. USDA/WS COLLECTED FEATHER SAMPLE FROM PARTS TO BE SURE STRIKE WAS THE SAME BIRD. A/C REPAIRED AT DESTINATION.',\n",
       "       'ID BY SMITHSONIAN, FAA 2606. 100% DNA MATCH. ON ENGINE RUN UP, IN PREPARATION FOR TAKE OFF, EXPERIENCED LEFT ENG PROBLEMS. INSPN OF A/C AFTER ABORTED T/O REVEALED BIRD INGESTED AND FODDED LEFT. ENG.  (DATA ENTRY NOTE: #2 ENG WAS CHECKED ON FORM WHICH INDI',\n",
       "       'ATIS WARNING. BIRD DMGD RADOME UPON INSPN AT DEST ARPT. DID NOT PENETRATE THE DOME BUT CRACKED THE INNER LAYERS OF FIBERGLASS ON INTERIOR OF DOME. NO OTHER DMG FOUND ON A/C. LOCATION REPTD AS ONE MILE N OF DER 34.',\n",
       "       'ID BY SMITHSONIAN, FAA 4199. PEREGRINE FALCON - WHOLE FEATHER, AND MOURNING DOVE - DNA. PILOT REPORTED STRIKE ON ROTATION. CONTD WITH TAKE OFF BUT AT 10,000 FEET REPTD SEVERE VIBRATION IN ENG. RETD TO LAND W/O INCIDENT.',\n",
       "       'PILOTS HEARD THUMP SOUND OF BIRDSTRIKE ON RADOME ON APRCH. NIGHT CONDITIONS SO THERE WAS NO VISUAL OF BIRDS. SUBSEQUENT APRCH UNEVENTFUL. POSTFLT REVEALED ENG DMG FROM INGESTED BIRD. ENG REMOVED.',\n",
       "       'IN TRAFFIC PATTERN ON DOWNWIND LEG, 2 LARGE BLACK BIRDS APPEARED DIRECTLY IN FRONT OF PLANE. 1 FLEW OVER THE A/C, THE OTHER BARELY CLEARED THE PROP AND HIT THE VERT STABIL. NO REMAINS AVAILABLE FOR SUBMITTAL.',\n",
       "       'JUVENILE WHOOPING CRANE. SAW 4, HIT 1. LEFT INBD FLAP DMG. HAD TO RENT A FLAP WHILE REPAIRS WERE BEING MADE. THIS CRANE WAS PART OF THE FLOCK THAT WAS BEING TRAINED TO MIGRATE BY OPERATION MIGRATION AND WAS KNOWN AS DAR 741.',\n",
       "       \"9 CARCASSES FOUND. BOTH FLAPS WERE BROKEN, 1 WAS BARELY HANGING ON. AT 60 ' AGL, PILOT PULLED UP, BANKED AND LANDED FROM OTHER RWY. THIS WAS ALMOST A FATAL MISTAKE AS WAS SEEN THE BY AFTERMATH AND THE SEVERELY COMPROMISED FLAPS. (LETTER SENT TO OPERATOR F\",\n",
       "       'ID BY SMITHSONIAN, FAA 1877. INGESTED IN #2 ENG. MX INSPN. NO DMG.',\n",
       "       'NO REMAINS.', 'RH INBD LDG LIGHT LENS DAMAGE.',\n",
       "       'BIRD REMAINS PLUGGED ENG AND DAMAGED MANY PARTS INTERNALLY AS WELL AS FAN BLADES. 11 INLET GUIDE VANES AND 7 1ST STAGE COMPRESSOR BLADES DAMAGED. BIRD DEBRIS THUR CORE AND BYPASS SECTION OF ENG.',\n",
       "       'missing',\n",
       "       'NO REMAINS FOUND ON RWY AFTER REPTD STRIKE. A/C RETURNED TO KDTW AND INSPN FOUND REMAINS OF A SANDPIPER IN RT ENG INNER INTAKE. CAPT STATED ENG WOULD BE TAKEN APRT FOR INSPN. NO EST ON COST OF REPAIRS. DAL MX REPTD THAT TWO BLADES NEEDED TO BE REPLACED AT',\n",
       "       \"A STORM HAD JUST PASSED THRU THE NY AREA. ARPTS HAD BEEN CLOSED FOR SEVERAL HRS. WE WERE 1ST A/C INTO LGA. SAW A FLOCK OF GULLS ABOUT 75' OFF THE GROUND. TIME WAS 9:30-10). HIT 15-20 BIRDS. FOUND INGESTION ON #1 ENG. SUSPECT INGESTION IN #2 ENG. FOUND BIR\",\n",
       "       \"A/C STRUCK DEER AT ROTATION. DIVERTED TO TOL TO CHECK GEAR. ARPT GROUND OBSERVERS INDICATED NOSEWHEEL BENT & NOT FULLY EXTENDED. AFTER BURNING ADDITIONAL FUEL, PILOT SHUT DOWN ENGS, GENERATORS & FUEL100' AGL. A/C CAME TO REST ON FORK OF NOSE GEAR AND GEAR\",\n",
       "       'DURING WALKAROUND NOTICED A/C RT LANDING LIGHT BROKEN WITH REMAINS OF BIRD. REPTD TO MX OF BIRDSTRIKE. KJAC TOWER REQUESTED CALL, THEY INFORMED THAT THEY FOUND GLASS AND BIRD REMAINS ON RWY. DID NOT NOTICE BIRD ON FINAL TO RWY 19. A/C TIME OUT OF SERV REP',\n",
       "       'HAWK OR OWL INGESTED BUT DID NOT CUT OUT ENG. NO PAX. COST FOR LEASING ANOTHER AIRCRAFT WAS $20,000.',\n",
       "       'SML BIRD (LIKELY A SPARROW) HIT LIP OF #1 ENG INLET. BIRD WAS CHOPPED IN HALF. PART WENT UNDER NACELLE AND PART WAS FOUND AGAIN ENG INTAKE SCREEN.',\n",
       "       'HIT LRG BIRD ON APCH IN LINE W/ RWY. DID NOT SEE THE BIRD. POST FLT INSPN FOUND DENT TO RT FWD FUSELAGE ABOVE COCKPIT. DMG WITHIN TOLERANCES FOR CONTD SVC. CONVERSATION WITH PILOT CONFIRMED MINOR DMG.',\n",
       "       'DMG WITHIN LIMITS TO CONTINUE IN SERVICE. FINAL REPAIR TO FLAP WILL BE DONE LATER. (I TRIED 3 TIMES TO FILL OUT THIS REPORT AND EACH TIME THE PROGRAM TIMED OUT AND I LOST ALL DATA. THE SAME TODAY TWICE AND I WAS TOLD BY MY COMPANY THAT THE FAA COMPUTER IS',\n",
       "       'BIRD HIT OTBD FLAP CAUSING SIGNIFICANT DMG.',\n",
       "       'SAW BIRD IN LDG LIGHTS. HEARD  STRIKE NEAR COCKPIT. FOUND REMAINS ON STALL VANE ON RT SIDE.',\n",
       "       \"NO DMG. DIDN'T SEE IT JUST HEARD IT AND FOUND SPOT AFTER WE PARKED. HIT NOSE GEAR DOOR.\",\n",
       "       'LEADING EDGE OF LEFT WING, PITOT TUBE, LEFT SIDE WINDOW AND CENTER SECTION BETWN WINDOWS WERE DAMAGED. A/C WAS OUT OF SERVICE UNTIL APPROX SEPT 9TH.',\n",
       "       'DENT IN RADOME. REPLACED RADOME. CREW REPTD POSSIBLE BIRDSTRIKE ON APCH AT 1000 FT. EVIDENCE FOUND ON RADOME AND WINDSCREEN. PHOTO.',\n",
       "       'ID BY SMITHSONIAN, FAA 2371. BOTH RT SIDE OF NOSE AND LE OF RT WING DENTED. SOME WENT THRU THE ENG FAN. PRELIM REPT NO ENG DMG. ARPT CASE NO. 08-3286',\n",
       "       'DURING ROLLOUT SAW 5 SANDHILL CRANES STANDING IN CENTER OF RWY. NO WAY TO AVOID THEM.',\n",
       "       'RADOME DESTROYED ($10-20,000). LARGE BROWN AND WHITE BIRD. 5-10 DAYS OUT OF SERVICE',\n",
       "       'ID BY SMITHSONIAN. BOTH BAGS WERE GADWALL.',\n",
       "       'ID BY SMITHSONIAN.  REMAINS COLLECTED BY MX AND SUBMITTED TO USDA/WS. REPLACED RADOME DUE TO 16\" DIAMETER DENT. LAST FLT FOR A/C THAT DAY.',\n",
       "       'missing',\n",
       "       'CRACKED WINDSHIELD. A/C LANDED OUT OF PRECAUTION. GLASS COCKIT WAS BROKEN AND NEEDED REPLACEMENT. REMAINS OF BIRD WERE COLLECTED AND SENT IN TO THE IDENTIFCATION LAB FOR ANALYSIS. (DATA ENTRY NOTE: SMITHSONIAN DID NOT RECEIVE REMAINS)',\n",
       "       'PILOT REPTD INGESTION OF BIRD IN #2 ENG. ID BY SMITHSONIAN FAA 859',\n",
       "       'DMG FOUND ON RADOME.', 'missing',\n",
       "       'BIRD HIT LT ENG INBOARD EXHAUST STACK, DEFORMING STACK AND CAUSING A SMALL TEAR IN THE MATERIAL. MINOR PAINT DMG DUE TO HEAT ESCAPING FROM TEAR. ENG CONT TO OPERATE AND WAS NOT SHUT DOWN. PILOT NOTED HIGHER THAN NORMAL ITT ON GRND BUT WITHIN LIMITS. EXHAU',\n",
       "       'EVENT 11435. ID BY SMITHSONIAN, FAA 1830. (ALT REPTD AS 4000 MSL AND 200 FT AGL SINCE PILOT SAID THEY WERE 15 MILES FROM ARPT, ASSUME 3000 FT ALG.)',\n",
       "       'missing',\n",
       "       'BIRD WAS ON RWY AND TOOK OFF AS A/C WAS IN ROUNDOUT FOR LDG. COLLISION WAS APPROX AT TOUCHDOWN. L MAIN GEAR DOOR WAS DAMAGED/DENTED. AIRCREW WAS UNSURE OF COLLISION UNTIL ADVISED BY TWR.',\n",
       "       \"ON FINAL PIC SAW SEVERAL GEESE IN FLIGHT IN FRONT OF A/C AS THEY CROSSED THE THRESHOLD. HE TRIED TO PULL UP TO AVOID THEM. 1 HIT JUST BELOW PILOTS' WINDOW ON L SIDE. GLANCING BLOW. SOME SKIN DAMAGE VISIBLE. RECOVERED DEAD GOOSE FROM RWY. INTACT. A/C CAN S\",\n",
       "       'DMG TO LE OF RT WING JUST OTBD OF WING STRUT. INCLUDED DENTED SKIN AND 2 BENT INTERNAL RIBS. STUDENT PILOT WAS FLYING AT THE TIME OF THE STRIKE. INSTRUCTOR TOOK CONTROL AND VERIFIED ALL PRIMARY FLT CONTROLS WERE OKAY. THEN RETD TO ARPT FOR PREC LDG. FLYIN',\n",
       "       'EVIDENCE OF BIRDSTRIKE ON L MAIN LANDING GEAR ASSEMBLY. LANDING ROLL OUT-FLARE ON. (DATA ENTRY NOTE: # STRUCK NOT REPTD, ASSUME 2-10, SAME AS # SEEN.)',\n",
       "       'UNK IF INGESTION. OUT OF SERVICE 1.5 HRS',\n",
       "       'BIRD REMAINS SPLATTERED ON CAPT WINDSCREEN. LOCATION REPTD AS 6 MILES W KAUS.',\n",
       "       'ATIS ONLY.  BIRD HIT #1 ENG COOLER INLET. MOST OF BIRD REMAINED AFTER LDG. DMG TO ENG COWLING.',\n",
       "       'LOCATION REPTD AS APPROX 5NM FINAL.',\n",
       "       \"ENTERED THE CLOUDS AT 100' AGL AT 1200 MSL ENCOUNTERED THE GEESE IN THE CLOUDS. HIT 4. ABOUT 25-30 IN CLOUDS. 1 IT PIC WINDSHLD, 1 MID RT WING, 2 TO L WING. DMG TO WING. ID BY SMITHSONIAN. BIRDS REPTD AS GEESE BY PILOT.\",\n",
       "       'DMG TO FLAP',\n",
       "       'ID BY SMITHSONIAN, FAA 2470. PHOTOS. BIRD FLEW INTO THE LEFT TIP TANK AND BIRD PARTS STRUCK THE LEFT WING AND BOOT AND FUEL TANK VENT. THERE WAS DAMAGE. DURING APPROACH I CHECKED FOR AIRBORNE HAZARDS ON EITHER SIDE. AS I WAS TURNING MY EYES BACK TO RWY 04',\n",
       "       'DAMAGE TO LEADING EDGE OF WING. CONFIRMED ID. OUTBOUND FLT CANCELLED. SLAT WAS TEMPORARILY REPAIRED. PERMANENT REPAIR IS SCHEDULED. COSTS INCLUDE FERRY FLIGHT, LABOR, DOWNTIME, & REPAIRS.',\n",
       "       '2 GEESE FOUND ON RWY.  1 STILL ALIVE BUT INJURED. DMG TO LE OF RT WING ON A/C.',\n",
       "       'NO DMG TO A/C. DATA ENTRY NOTE: # STRUCK NOT REPTD, ASSUME 1, SAME AS # SEEN.',\n",
       "       'ID BY SMITHSONIAN, FAA 2622 A & B. SEVERAL BIRDSTRIKES (8 FOUND) ON SHORT FINAL. HAD TO SEND MX FROM ORLANDO TO INSPECT. FOUND EVIDENCE OF INGESTION IN BOTH ENGINES. BORESCOPE FOUND NO DMG. COST FOR INSPN ESTIMATED AT OR BELOW $5,000. ARFLD GRASS AREAS WE',\n",
       "       \"ID BY SMITHSONIAN. PILOT REPTD BIRDSTRIKE ON T/O FROM RWY 19 AT APPROX 1200' OVER POTOMAC RIVER. A/C DIVERTED TO IAD DUE TO A POSSIBLE ENG SHUTDOWN. USDA COLLECTED SNARGE FROM #1 ENG AND PHOTOS. FLT WAS CANCELLED. PAX WERE BOOKED ON OTHER FLTS. ENG MANU C\",\n",
       "       'BIRDS HIT A/C IN TWO WAVES, THE FIRST CENTERED ON LEFT SIDE OF NOSE, THE SECOND CENTERED ON THE LEFT ENG. SITKA ARPT PERSONNEL RECOVERED 85 CARCASSES FROM THE RWY. ANOTHER 3 WERE FOUND IN AND AROUND THE #1 ENG OIL COLLER INLET. ONCE A/C WAS CLEANED, INSPN',\n",
       "       'ENGINE SURGED BRIEFLY AND RETD TO NORMAL. ENG REDUCED TO IDLE THRUST AS PRECAUTION. ENG WAS DESTROYED. DAMAGED THE REVERSERS AND PRESSURIZATION SYSTEM. FEATHERS WERE COMING OUT OF THE VENTS IN THE CABIN.',\n",
       "       'BIRDS REPTD AS GULLS ON 1 FORM AND GOOSE ON ANOTHER. DMG TO ENG INLET REQD IMMED. REPAIR. NO ENG IRREGULARITIES',\n",
       "       'NOTICED BIRDS ON THRESHOLD LIGHTS AND GRASS. THEY FLEW UP ON OUR ARRIVAL. SML DENT IN SIDE SKIN, LHS FIRST BLUKHEAD AFT OF RADOME. COST 200-2000 IF SKIN HAS TO BE REPLACED.',\n",
       "       'RT LE ABOUT 6\\' FROM FUSELAGE. DENT ABOUT 12\" LONG AND 1\" DEEP.',\n",
       "       'SEVERAL A/C REPTD NUMEROUS FLOCKS OF BIRDS TO APCH CONTROL. WE WERE LOOKING FOR THEM. AT 20 MILES NORTH OF ARPT WE ENCOUNTERED A LRG FLOCK OF SMALL BLACK BIRDS. (SEVERAL HUNDRED). MX FOUND VERT. STAB. LE  HAD A DEEP DENT WHICH WAS OUT OF LIMITS. THE VERT',\n",
       "       'NO DMG TO A/C. EST COST OF REPAIR AND EST COST OTHER COST BOTH REPTD AS GREATER THAN $200.',\n",
       "       'BLADE DMG FROM INGESTION. 6 BLADES REPAIRED, 4 NEW BLADES PURCHASED.',\n",
       "       'BIRD REPTD AS\" STARLING SIZED BIRD\".',\n",
       "       'PILOT SIDE ENG COWLING  AND PILOT SIDE FLAP WERE DAMAGED.',\n",
       "       'SMALL BIRD (SPARROW SIZED) STRUCK NOSE GEAR DOOR, TOOK OUT CHUNK OF PAINT ABOUT 2\" SQUARE.(DATA ENTRY NOTE: RWY REPTD AS 31 BUT KDTO HAS RWYS 17 & 35.',\n",
       "       'BIRD HIT L WING THEN WAS INGESTED THRU ENG. BORESCOPE INSPN. COMPRESSOR WASH. ID BY SMITHSONIAN FAA 1202',\n",
       "       'ID BY SMITHSONIAN, FAA 1572. FLT DELAY FOR 5 HRS. BORESCOPE INSPN FOUND NO ENG DMG. COST WAS FOR INSPN.',\n",
       "       '2,000 TO 3,000 FT DOWN RWY. NOSE CONE DENTED, PAINT REMOVED. CONDUCTED 2 RWY INSPECTIONS. NO REMAINS FOUND. WS GAVE BIRD COLLECTION KITS TO MX SUPV. ESTIMATED COSTS OBTAINED FROM AIR CHINA HQ. REPAIRS MADE IN CHINA.',\n",
       "       'SMALL EUROPEAN STARLING. 1200 AGL ON RWY C/L. $100 = INSPN COST.',\n",
       "       'ID BY SMITHSONIAN, FAA 2125.  PITOT TUBE DAMAGED AND REPLACED.',\n",
       "       'BIRD STRUCK LT WING L/E. NO DMG TO WING BUT PNEUMATIC DE-ICE BOOT CUT AND REQUIRED REPLACEMENT. FINAL APRCH.',\n",
       "       'STARLINGS AND SPARROWS. NO DMG.', 'missing',\n",
       "       'ON T/O  I SAW A BIRD CLOSE BY THE A/C RIGHT AFTER ROTATION. WE DID NOT HEAR OR FEEL AN IMPACT. AFTER LDG AT BIL, NO DMG WAS NOTICED. 2 DAYS LATER, AN A/C CLEANER FOUND EVIDENCE OF A BIRDSTRIKE ON BOTTOM OF L ENG INLET.',\n",
       "       'COST FOR 1 HR INSPN. $45. HIT NOW, RT FWD SIDE.',\n",
       "       'RT WING L/W SLAT WAS EXTENDED AND THE BIRD DAMAGED THE SLAT AND THE L/W OF WING. PILOT REPTD A FLUTTERING SOUND AND SMALL VIBRATION IN CONTROL YOKE. A/C DID NOT LOSE ANY CONTROL EFFECTIVENESS. DATA ENTRY NOTE: # STRUCK NO REPTD, ASSUME 1, SAME AS # SEEN.',\n",
       "       'BIRD REPTD AS MED SIZED WATERFOWL. BORESCOPE FOUND NO DMG. FLT CANCELLED. REMAINS ON CORE AND BYPASS SECTION OF #2 ENG. FATAL INJURIES TO BIRD.',\n",
       "       'ID BY SMITHSONIAN, FAA 1960 & 2039. FLT WAS RUNNING 4 HRS LATE. RWY HAD NOT BEEN USED MUCH AT THIS TIME. DID NOT SEE BIRDS ON RWY DURING TAXI. SAW A FEW GULLS AT 110 KTS, WATCHED TO MAKE SURE THEY DID NOT GO INTO ENGS. AT 150 KTS WE HIT A LRG FLOCK. FUEL',\n",
       "       'BIRDS HIT US JUST AFTER ROTATION, THEREFORE WE WERE TECHNICALLY ON GRND, THEREFORE \"0\" FT. COSTS REFLECTED EST FOR COST OF CONTRACT MX TO INSPECT A/C IN SAN ANTONIO.',\n",
       "       'ATIS WARNING. 3 NM NW OF OMN ARPT. LARGE DENT ON PILOT SIDE LEADING EDGE TOWARD WING TIP.',\n",
       "       'ON LDG ROLL, SML FLOCK OF BIRDS FLEW ACROSS RWY 9L, VERY CLOSE TO THE GROUND. WE HIT 1 ON LWR L FUSELAGE JUST BEHIND RADOME. NO DMG. MX INSPCTD AND CLEANED UP REMAINS. I INCLUDED $600 FOR COST BECAUSE WE HAD TO USE CONTRACT MX AND I THINK THAT IS THE GOIN',\n",
       "       'DAMAGED LEFT TIP TANK. TME LOST WAS MOSTLY DUE TO PAINT NOT  MATCHING.',\n",
       "       'BIRD HIT NOSE GEAR & WENT INTO GEAR BAY. FLT CONTD & LANDED. NO PROBLEMS. COST FOR INSPN.',\n",
       "       'NO DMG TO A/C. ENG BORESCOPED-NO DMG.',\n",
       "       'DEER JUMPED IN FRONT OF A/C. CREW DID NOT HAVE TIME TO AVOID. EXTENSIVE DMG TO RADOME WITH COLLATERAL DMG TO NOSE. BLOOD ON L WING ROOT. TOTAL DMG UNKN',\n",
       "       'SAW BIRD JUST AFTER ROTATION. I TRIED TO AVOID BIRD BY TURNING, BUT IT FLEW INTO THE DIRECTION I HAD TURNED.',\n",
       "       \"WS PICKED UP 5 CARCASSES FROM RWY 35 AT 3000' RM. A/C WAS UNABLE TO LEAVE AND WAS DOWN FOR 36 HRS AFTER AA MX CONDUCTING BORESCOPE OF #2 ENG FOUND NO DMG. PART OF WING AND FEATHERS WERE PULLED OUT OF THE ENG. ESTIMATED COST FOR ENTIRE EVENT WAS $300,000.\",\n",
       "       'ENG INLET DAMAGED.',\n",
       "       \"HIT L SIDE FUSELAGE UNDER CAPT'S WINDOW. NO DMG. COST FOR 1 HR INSPN. CAPT HEARD A POP SOUND ON HIS SIDE OF A/C. SUSPECTED BIRDSTRIKE.\",\n",
       "       'CREW REPTD A BIRDSTRIKE TO RADOME ON CLIMB. MX FOUND RADOME WAS DELAMINATED FROM STRIKE. RADOME WAS REPLACED. EVENT 11311.',\n",
       "       'BIRDS SWARMED JUST AS WE APPROACHED UNDERRUN. ARPT PERSONNEL WERE  NOT NOTIFIED BY PILOT OR AIRLINE SO WERE NOT ABLE TO IDENTIFY ANY REMAINS OR TAKE A SNARGE SAMPLE.',\n",
       "       'INGESTED SML BIRD IN #1 ENG. REPTD BY GROUND CREW TO OPS. FOUND BY A/C MX. ENG WAS BORESCOPED. NO DMG FOUND. ESTIMATED COST WAS $8,000 - 9,000.',\n",
       "       'FEATHERS & BLOOD SMEAR, NO DMG. (PART OF FORM TORN, SOME INFO MISSING). TIME OUT OF SERVICE 15 MINS,  CIST $50 FOR MX SIGN OFF.',\n",
       "       'DID NOT SEE BIRD UNTIL IT APPEARED ON RT SIDE OF A/C. RT HORIZONTAL TAILE STRUCK. MINOR DMG. SUSPECT BIRD WAS OVERTAKEN SINCE IT DID NOT TAKE ANY EVASIVE ACTION.',\n",
       "       'LARGE BLACK BIRD SWOOPED DOWN IN FRONT OF L WING AND STRUCK LE NEAR OUTER PORTION OF WING, BUCKLED AREA INWARD, SIGNIFICANT DMG TO OUTER 1/4 OF WING (BEFORE END CAP). BLACK BIRD, LARGE CROW OR SIMILAR. NO REMAINS FOUND.',\n",
       "       'BLACK BIRD OR SMALLER. ROTATION. DATA ENTRY NOTE: # STRUCK NOT REPTD, ASSUME 1.',\n",
       "       'NO DMG NOTED BY MX ON INSPN. ALL STRIKES WERE ON RT WING.',\n",
       "       'A/C WAS SUBSTANTIALLY DAMAGED ON LDG AFTER COLLIDING WITH A DEER ON RWY. SAW 4 DEER RUN ACROSS RWY FROM WEST. PILOT TRIED TO AVOID THEM BY RAISING NOSE TO LET DEER GO UNDER. 1 HIT AND SHEARED OFF THE NOSE WHEEL CAUSING NOSE AND PROP TO HIT RWY. PILOT LOWE',\n",
       "       'LOCATION REPTD 35 MILES FROM LAX. ABOVE F/O WINDSCREEN. NO DMG REPTD OR SAMPLE COLLECTED BY MX. NO DMG REPTD OR SAMPLE COLLECTED BY MX. WS TOLD BY MX THEY DID NOT KNOW THAT BLOOD OR SNARGE SAMPLES COULD BE COLLECTED FOR ID. A/C OUT OF SERV TIME REPTD AS 4',\n",
       "       'missing',\n",
       "       'INITIAL INSPN INDICATES BIRDS WERE INGESTED IN BOTH ENGS. CORE INGESTION. AIRLINE REPTS NO DMG AFTER BORESCOPE OF BOTH ENGS.',\n",
       "       'RT SIDE RADOME HAD LRG DENT. NO CONTROL PROBLEMS. 15 NM S OF ABQ. REPTD AS VULTURE, ASSUME TURKEY.',\n",
       "       '2 TURKEYS. T/O ABORTED BEFORE V1. 3 CREW AND 50 PAX ONBOARD. #2 ENG INLET, INNER PANEL OF WINDSHLD AND AT 14 BY 4 INCH SECTION OF FUSELAGE SKIN JUST BELOW WINDSHLD WERE DAMAGED. TURKEY ENTERED THE COCKPIT SPRAYING GLASS AND  PIECES OF BIRD MATTER ON FLT C',\n",
       "       'BIRD IMPACTED LE MID PORTION OF VERTICAL STABILIZER. NO DMG. ARPT OPS RECOVERED AN INTACT BIRD AT TWY A5 AND RWY 16R WHICH WAS A GREAT EGRET. SMF MX INSPN FOUND STRIKES ON HORIZONTAL STABILIZER AT APPROX 4\" UP FROM TOP OF #2 ENG. NO DMG NOTED.  A/C TIME O',\n",
       "       'COSMETIC DMG. RADOME BOOT REPLACED. A/C WAS NOT TAKEN OUT OF SERVICE.',\n",
       "       'STRUCK RADOME NEAR NOSE AND DEFLECTED OFF CAPT SIDE FRONT WINDSHIELD. LOCATION REPTD AS 11NM NNW KSNA.',\n",
       "       'VIS DMG.',\n",
       "       'DMG TO OUTSIDE ANTI-ICE AREA OF LE RT WING. 6\"-7\" DIA DENT ABOUT 1-1.5\" DEEP WITH BIRD REMAINS CONTINUING INTO RT MAIN LDG GEAR.',\n",
       "       'ID BY SMITHSONIAN. CREW SAW 4 LARGE BLACK BIRDS. RADOME DAMAGED BEYOND REPAIR. PRESSURE BULKHEAD TORN AWAY FROM FUSELAGE IN ONE 6\" TO 8\" AREA. A/C WAS FLOWN TO DFW FOR REPAIR. REMAINS WERE RECOVERED FROM THE RADOME. STRIKE WAS 3-5 MILES S OF ARPT. NO REMA',\n",
       "       'WE WERE IN THE LANDING FLARE WHEN WE SAY THE BIRDS AND THEY FLEW UP INTO THE A/C. I COULD NOT AVOID THEM.',\n",
       "       'DEPARTED RWY 14 DURING CLIMBOUT. A/C STRUCK A BIRD. PILOT RECVD THE APPROPRIATE ATIS BROADCAST AND ACKNOWLEDGED HE HEARD THE BIRD ADVISORIES INCLUDED IN IT. STATED HE ONLY SAW THE ONE BIRD AND IT STRUCK THE R WING RESULTING IN ABOUT A TWO FT GASH IN LE. P',\n",
       "       'missing',\n",
       "       'LOST #1 ENG UPON INGESTNG BIRD AT ROTATION. A/C BEGAN TO YAW TO THE LEFT. RETD TO ARPT. EMERGENCY DECLARED. 1 BLADE FRACTURES. FAN CASE HEAVILY DAMAGED.  VIOLENT COMPRESSOR STALLS. RETARDED THROTTLE TO JUST ABOVE IDLE. ENG STABILIZED. L ENG RUNNING AT IDE',\n",
       "       'DAMAGED DLG GEAR DOOR SQUAT SWITCH AND ROD. EXACT TIME OUT OF SERCIE UNKN. AT LEAST FROM  SEP 29 TO OCT 15TH.',\n",
       "       'PILOT REPTD STRIKE IMMED AFTERWARD. JUST AFTER T/O, 20-25 TURKEYS SUDDENLY APPEARED JUST ABOVE THE RWY FROM L TO RT. 3 WERE HIT, MOSTLY BY STRUT & LEADING EDGE OF WING. LDG GEAR WAS NOT RETRACTED AS A PRECAUTION BUT NO DMG TO GEAR. REPORTED COSTS  ARE PIL',\n",
       "       'HIT SEVERAL SML BLACK BIRDS ON DEPTR. ARFF RESPONDED. DMG TO L WING. DENTS. BLOOD ON PROP.',\n",
       "       'NO DMG.',\n",
       "       'RADAR WAS ON. MULTI FAN BLADES SHINGLED AND DMG TO OIL COOLER. ENG REMOVED. ID BY SMITHSONIAN FAA 985. (DAILY REPORT FROM TWR SAID DMG UNKN)',\n",
       "       'ON FINAL, HIT 1 OF 2 TURKEYS STANDING ON RWY. HIT RT MAIN GEAR. FILED REPT WITH TWR.',\n",
       "       'ID BY SMITHSONIAN, FAA 4504. DNA. UPON LDG, PILOT SAW 10 BIRDS FLY LFT TO RT. T LEAST 1 WENT OVER THE WINDSHLD. POST FLT INSPN FOUND STRIKE EVIDENCE ON PROP. WS TOOK DNA SWAB. A/C WAS GROUNDED FOR INSPN. NO DMG. OUT OF SERVICE 2.5 HRS.',\n",
       "       'ARPT PERIMETER FENCE HAD BEEN REMOVED ALONG THE S BORDER. COLLISION WITH SEVERAL DEER WOULD HAVE BEEN INEVITABLE AND POSSIBLY FATAL, 2 SECONDS EARLIER. SAW 6 DEER. HIT RT WINGTIP. NO INJURIES. MINOR DMG. A/C - CIRRUS SR 20',\n",
       "       'ID BY SMITHSONIAN, FAA 1144. #2 ENG 1ST STAGE CENTRIFUGAL COMPRESSOR BLADE DEFORMED AND ADJACENT BLADE SCRATCHED. ENG HAD TO BE SENT OUT FOR REPAIR. THRE ARE CROPS AROUND ARPT.',\n",
       "       '# STRUCK NOT REPTD, ASSUME 1.', \"HIT CAPT'S SIDE WINDOW.\",\n",
       "       'A/C INGESTED AN EAGLE INTO THE LEFT ENG WHICH SHUT DOWN. LOUD BANG WAS HEARD FOLLOWED BY VIBRATIONS AND COMPRESSOR STALLS. T/O WAS ABORTED. A/C TAXIED BACK TO TERMINAL ON REMAINING ENG. PAX SAW FLAMES COMING FROM THE ENG. 2ND A/C THAT CAME TO TAKE THE  PA',\n",
       "       'COST FOR INSPN. BLOOD FOUND ON RADOME.',\n",
       "       'ID BY SMITHSONIAN, FAA 2922. HAD RAINED 2 HRS PRIOR TO STRIKE. COST WAS FOR MAN HRS (ASSUME INSPN) (DATA ENTRY NOTE; ONLY RECEIVED SMITHSONIAN COPY OF THE REPORT, NOT THE ORIGINAL)',\n",
       "       \"BIRDSTRIKE ON LDD ROLLOUT. SEVERAL SML BIRDS (ASSUME 2-10). UNDER RADOME. 1 MAN HR FOR INSPN. (UNKN REPORTER SAID PHASE WAS 100' AGL ON APCH)\",\n",
       "       'ON FINAL, DURING FLARE, A FLOCK OF PTARMIGANS FLEW UP. 1 LEFT A FOOTBALL SIZED HOLE IN WINDSHLD. LANDING UNEVENTFUL. REPLACED WINDSHLD.',\n",
       "       \"ID BY SMITHSONIAN, FAA 2455. PILOT REPORTE A GULL WAS INGESTED  INTO AND THROUGHOUT LEFT ENG.  VEHICLE FOUND PART OF CARCASS ABOUT 50' SHORT OF RWY 15L IN GRASS. COMPANY USED RENTAL ENG DURING REPAIR. 1 STAGEIMPELLER WAS DAMAGED. ENG WAS DISASSEMBLED FOR\",\n",
       "       \"PILOT REPTD PAINT DMG ON NOSE. CALLED ROC AND NOTIFIED FSDO PER PILOT'S REQUEST. SMASHED NOSE. 3 GEESE IN RT ENG. 1 LODGED IN NOSE. GLANCING BLOWS IN L ENG. RT ENG OK. REPLACED NOSE, RADAR, NOSE BOWL.\",\n",
       "       'RETD TO ARPT AFTER INGESTING 24-30 STARLINGS. CABIN FILLED WITH INTENSE SMELL. MX AND DISPATCH NOTIFIED.  LANDED W/O INCIDENT. DEPLANED AT GATE.  L ENG TURBINE BLADE BENT BEYOND ACCEPTABLE LIMITS. ENG WAS REMOVED AND REPLACED. ALSO DMG TO PROP.',\n",
       "       'BIRD, BROWN BIRD. A/C WAS DESCENDING INTO PATTERN. PILOT SAW BIRD BUT WAS UNABLE TO AVOID IT. HIT WINDSCREEN NEAR THE TOP AND LEFT A FIST SIZED HOLE NEAR THE TEMP GAUGE. BUT DID NOT PENETRATE IT.  LANDED SAFELY  HAD TO FLY A TEAM IN TO REPLACE WINDSHLD.',\n",
       "       'MEDIUM SIZED BLACK BIRDS. CONTRACT MX INSPN OF A/C AND ENGINE. NO DMG. BORESCOPED REQUIRED WITHIN 10 CYCLES.',\n",
       "       'JUST AFTER T/O DECISION SPEED REACHED (95-97 KNOTS), MULTIPLE BIRDS ENTERED T/O PATH. SEVEN TO NINE BIRDS IMPACTED CAUSING TWO SMALL DENTS IN LE OF WINGS. ONE (SMALLER) ON LT WING, OTHER LARGER ON RT WING. BIRDS WERE IN UNIMPROVED AREAS BTWN RWY AND TWY.',\n",
       "       'ABOUT 10-12 MINUTES INTO THE FLIGHT A/C HIT AT LEAST 3 CANADA GEESE. F/O WINDSHIELD SHATTERED, CUTTING COPILOT ON FACE. RADOME HEAVILY DAMAGE. PHOTOS. EMERGENCY LDG. GOOSE WA PULLED OUT OF RADOME AT ARPT.',\n",
       "       '\"RESIDUE\" ON LT EYEBROW WINDOW. BOTH COPILOT, PILOT AT CONTROLS AND CAPT DUCKED AS THE BIRD LOUDLY \"SMACKED\" THE A/C.',\n",
       "       'POSSIBLY ROBIN/SPARROW. HIT CENTER WINDSHLD. RAINING BEFORE AND AFTER, BUT NOT DURING STRIKE. MADE A MESS. MECH INSPN COST $1000.',\n",
       "       'TRAINING FLIGHT WAS DISCONTINUED FOR MX INSPN. (REPORT NOT RECEIVED IN OFFICE UNTIL JUNE 2007)',\n",
       "       'HEARD A SHARP BIRDSTRIKE ON RADOME. PF SAID HE SAW THE BIRD SHORTLY BEFORE IMPACT . WE LET SO CAL APPROACH KNOW WE HIT A BIRD TO SHARE THE INFO WITH OTHER AVIATORS. ON POST-FLT, STRIKE WAS CONFIRMED. DISPATCH WAS NOTIFIED WHO COORDINATED MX.',\n",
       "       'CAPT REPTD BIRDS AS SPARROWS. WILDLF BIOL AT ARPT COULD NOT CONFIRM SPECIES. SAW 30-40. INGESTED 1-2 IN EACH ENGINE. COSTS AND TIME OUT OF SERVICE ARE ESTIMATES FROM THE CAPT.',\n",
       "       'BEACON LENS AND GUARD DESTROYED. SMALL HOLE IN ANTENNA SEALANT. THRESHOLD RWY 25.',\n",
       "       'L ENG CHANGED. INGESTION. (ENG MANU REPTS NO FAN BLADE DMG)',\n",
       "       'NO DMG. REMAINS WERE LEFT AT KMMU, NO WAY TO COLLECT AND MAIL TO SMITHSONIAN',\n",
       "       'IMMATURE BALD EAGLE. DNT TO RT SIDE ANGLE OF ATTACK VANE. SMALL DENT IN FROTN OF AOA. A/C RETURNED TO LAND. FLT DELAYED 4 HRS 20 MINS. CREW PERFORMED A LOW APCH TO HAVE A/C INSPECTED FROM GROUND BEFORE LANDING.',\n",
       "       'BIRD STRIKE AT ROTATION. SML BROWN. NO DMG. TIME OUT OF SERVICE 1/2 HR. COST WAS FOR LABOR.',\n",
       "       'GULL OR CROW. WINDOW SMACKED BY BIRD AND OUTER HEATING ELEMENT DAMAGED BY IMPACT AND OVERHEATED.',\n",
       "       'ID BY SMITHSONIAN. CAPT REPTD AT 600 FT ON APCH OVER THE BAY. HIT ABOVE COCKPIT WINDOW. SNARGE SWAB TAKEN FOR DNA ANALYSIS.',\n",
       "       'CARCASS FOUND ON RWY SHORTLY AFTER A/C LANDED. LARGE DENT TO L HORIZ STABIL. AIRSPEED IS APPROXIMATE.  A/C HAD TO BE FLOWN EMPTYBACK TO SEATTLE FOR REPAIRS. THAT COST WAS NOT AVAILABLE FROM OPER.',\n",
       "       'ID BY SMITHSONIAN. PILOT DESCENDING IN FULL FLIGHT CONFIGURATION. BIRD OBSERVED AT WINDSHLD LEVEL, FOLDED AND DROPPED. GLANCING IMPACT AT LOWER PART OF RADOME RESULTING IN DAMAGE TO PROTECTIVE FINISH. CONE REQUIRES FACTORY REPAIR/REFINISHING.',\n",
       "       'ON SHORT FINAL TO RWY 17, FLOCK OF GEESE AT THRESHOLD TOOK OFF INTO FLT PATH. RT ENG PROP BLADE DAMAGED BY 1 GOOSE. WINDSCREEN/CANOPY IMPACTED BY 2ND GOOSE. L WING STRUCK BY 3RD GOOSE. INSTR & STUDENT ABOARD. NO INJURIES. (DATA ENTRY NOTE: DATE NOT REPTD,',\n",
       "       'FINAL APCH. SML DENT IN LE RT WING. HIT A LRG BIRD POSSIBLY A SEAGULL.',\n",
       "       'BIRD HIT LT LOWER FUSELAGE BEHIND RADOME. NO DMG NOTED.',\n",
       "       'DMG TO BOTH PROPELLER ASSEMBLIES REQUIRING REPAIR & ENG TEARDOWN FOR INSPN.',\n",
       "       'BIRD REPTD AS BLUE GOOSE. DMG TO LWR L ENG COWL, VERT STABILIZER AND RT HORIZ STABILIZER. PILOT HEARD THE BIRDS STRIKE THEN CONTACTED FDS TWR TO RETURN FOR PREC LDG.',\n",
       "       'FINAL APRCH. CONT APRCH TO UNEVENTFUL LANDING. MX CALLED FOR INSPN PRIOR TO NEXT FLT. LOCATION REPTD AS 1.5 NM FROM KCRP.',\n",
       "       'ID BY SMITHSONIAN, FAA 1709.  PHOTOS. DMG TO RT ENG FAN.',\n",
       "       'NO DMG. MX CLEANED & CLEARED A/C FOR FLT. COST IF FOR LABOR.',\n",
       "       'DATA ENTRY NOTE: UNCERTAIN HOW PREC LDG MADE WHILE ON APCH UNLESS DOING TOUCH AND GO. DAMAGE TO BOTH WINDSHIELDS, NOSE BAGGAGE DOOR, &  TAIL. AIRCRAFT WILL BE OUT OF SERVICE UNTIL MARCH 2012.',\n",
       "       'ENG PARAMETERS NORMAL, BUT NEEDS INSPN. COST WAS FOR INSPN',\n",
       "       'ID BY SMITHSONIAN, FAA 6572. DNA. HIT LWR RT AFT OF RADOME. BLOOD/FEATHERS STUCK TO A/C. NO DMG. COSTS FOR LABOR REPTD AS $200.',\n",
       "       'BIRDSTRIKE WHILE ON ARRIVAL. AFTER SUNSET WITH A FULL MOON. VFR CONDITIONS. WE WERE LEVEL AT 1100 FT AND STEADY 300KNOTS INDICATED WHIEL BEING VECTORED FOR A VISUAL APCH FOR RWY 29R. NOT OF BLACK FOREST VOR ABOUT 10 MINUTES FROM LDG. A VERY LOUD POP WAS H',\n",
       "       'PROP WA DRESSED TO REDUCE NICK ON 1 BLADE',\n",
       "       'FLT 2356. DMG BETWEEN FUSELAGE AND #2 ENG ON RH WING LE. DENT IS CRACKED AND OUT OF LIMITS RIB ALSO CRACKED ON IB FLANGE. RIB REPLACED.',\n",
       "       'ID BY SMITHSONIAN. FAA 3735. WHOLE FEATHER, DNA. 5 NM WNW OF TPA.SAW A SMALL OBJECT PASS VERY QUICKLY BY THE L SIDE OF A/C NOSE. ALMOST SIMULTANEOUSLY I HEARD A BANG FROM L F/O SIDE OF NOSE. BIRD FEATHERS AND WHAT APPEARED TO BE BLOOD SMEARED ON F/O FRWD',\n",
       "       'NO DMG. BLOOD STAIN ON RADOME.',\n",
       "       'DEPARTING RWY 36, KRPB AT DAWN, AT START OF ROTATION, FIRST, A DOE DEER RAN OUT AND ALONG RT SIDE OF A/C. SECOND, BIRDSTRIKE AT ABOUT 300 FT AGL. A GROUP OF THREE BLACK BIRDS. GROUP OF BLACK BIRDS DOVE AND I HAD JUST ENOUGH AIRSPEED TO PULL BACK YOKE TO A',\n",
       "       'DID NOT DISCOVER STRIKE UNTIL ON THE GROUND NO DMG. ESTIMATE GOOSE. 1/2 HOUR OUT OF SERVICE.',\n",
       "       'STRUCK NOSE UNDER F/O FOOT, BOUNCED OFF OF #2 ENG COWL AND RT INBD FLAP.',\n",
       "       'A BIRD HIT RT SLAT. EVIDENCE OF BIRD PART HIT THE FAN ON #2 ENG. RT SLAT DENTED.',\n",
       "       'NO DMG. COST FOR CLEANING AND INSPN. HIT LE OF STABILIZER.',\n",
       "       'WHILE ON APCH, NON FLYING PILOT SAW A SHADOW GO BY RT SIDE COCKPIT WINDOW. HE ASSUMED IT TO BE A SML BIRD. NO ENG ANOMOLIES NOTED BUT THERE WAS A SMELL IN THE COCKPIT OF BURNT HAIR & BONE. FOUND REMAINS OF A BIRD IN THE STATOR SECTION OF RT ENG. MECHANIC',\n",
       "       'INGESTED OWL ON DEPTR. RETD TO LAND.  ENG VIBRATION WENT TO FULL SCALE 2-3 MINUTES AFTER INGESTION. BORESCOPED. REPLACED 4 PAIRS OF BLADES.',\n",
       "       'RT WING WAS DENTED BY LARGE BLACK BIRD. DENT WAS 4\" IN DIAMETER AND 1.5\" DEEP.',\n",
       "       'SAW BIRD DISAPPEAR BELOW LEFT WING AND FELT IMPACT. POSTFLT REVEALED NO TRACE AND NO DMG. BIRD POSSIBLY  HIT LEFT MAIN TIRES. LOCATION REPTD AS ILS 9L, 2 MILE FINAL.',\n",
       "       'BLOOD AND FEATHERS STREAKED DOWN CAPT SIDE OF RADOME.',\n",
       "       'NO DMG TO A/C. SWALLOW?',\n",
       "       'Large bird ingested down left engine.  Severe engine damage followed',\n",
       "       'MX REPTD SOME DMG TO LDG GEAR. PARTS WILL COST $300, TOTAL COST ESTIMATED AS $500-1000.',\n",
       "       'DENTED @ 2 ENG INLET RING. BIRD WAS MEDIUM SIZE WITH GRAY FEATHERS.',\n",
       "       'ID BY SMITHSONIAN. FAA 4785. WHOLE FEATHER. TWO SMALL BIRDS STRUCK OUTBOARD SECTION OF RT WING DURING L/R. A/C HAD TO DELAY OUTBOUND FLT FOR INSPN BY MX.',\n",
       "       'MINOR DMG, L/E OF WING. NOT SURE OF STRIKE UNTIL POST LANDING INSPN.',\n",
       "       'SUSPECT SEAGULLS. SAW A FORMATION OF ABOUT 3 BIRDS JUST PRIOR TO IMPACT. ONE HIT NOSE, LOW. ONE OR TWO WENT IN #1 ENG. NO ABNORMAL ENG INDICATIONS. LANDED NORMALLY AND CALLED MX. BEGAN TO SMELL FOUL SMELL ON TAXI IN. ARPT OPS NOT NOTIFIED. LOCATION REPTD',\n",
       "       'FLOCK OF 4-5 BIRDS FLEW RT TO LEFT.  POSSIBLY SPARROWS. INSPN FOUND #2 ENG HAS 5 DAMAGED BLADES. 3 WERE BLENDED AND 2 WERE SCRAPPED. THE #4 & #7 TIRES WERE DAMAGED DUE TO THE ABORTED T/O.',\n",
       "       '7 STRIKES, 2 DENTED RT WINGSLEADING EDGE. 12 MILES EAST OF OSCEOLA.',\n",
       "       \"NO DMG. COST FOR 1 HR INSPN. HIT FRONT RT SIDE OF A/C CLOSE TO F/O'S WINDOW. (DATA ENTRY NOTE: WS BIOL HAD OPER AS DAL)\",\n",
       "       'BIRD WAS LODGED IN OUT FLAP OF RT WING. FLAP AND UNDERSIDE OF WING DENTED.',\n",
       "       \"DID NOT SEE ANY DMG ON A/C WHILE AT ORD. WHEN WE GOT HOME, NOTICED A DAMAGED FLAP. (THREE REPORTS SHOWEDAPPROACH BUT TWO HAD ALT AT 3' AND 100' - TOOK PILOT'S REPORTED ALT. ARPT BIO SHOWED LDG GEAR STRUCK BUT PILOT INDICATED FLAP WAS STRUCK AND DAMAGED)\",\n",
       "       'ATIS WARNING. RETD TO MCO DUE TO BIRDSTRIKE. FLT CREW REPTD BIRDSTIRKE ON T/O ROLL. HIT F/O UPPER PITOT TUBE CAUSING AIR DATA INSTRUMENT DISAGREEEMENT. PHOTOS. ID BY ARPT  BIOL REPLACED PITOT. NO OVERWT INSPN REQD. NO EMERG DECLARED.',\n",
       "       'NO DMG TO BASIC STRUCTURE. PROTECTIVE PAINT ERODED APPROX 3 INCH CIRCLE AT IMPACT PT. LOCATION REPTD AS 17DME NE.',\n",
       "       'A/C WAS ON L BSE TO RWY 17. RT WING HAD LRG DENT ON LEADING EDGE.',\n",
       "       'STRUCK UPPER NACELLE LIP WITH PARTIAL INGESTION. NO DMG OBSERVED.',\n",
       "       'MINOR DMG TO L NOSE & FUSELAGE. RETRACTABLE LDG LITES DMGD. HOLE IN FUSELAGE FWD OF PRESSURE BULKHEAD WHERE RIVETS POPPED. A/C FERRIED FOR REPAIRS. YOUNG DOE. NO PERIMETER FENCE, DEER ARE COMMON. WHERE WE HIT DEER IS A COMMON CROSSING POINT. NOTIFIED OF T',\n",
       "       'CAPT SAW BIRD(S) ILLUMINATED BY LANDING LIGHTS FLY TO LEFT OF COCKPIT AT ABOUT WING HT WHILE OLN APCH TO RWY 32L AT 1000 FT AGL. ENG INSTRUMENTS APPEARED TO BE  NORMAL. POST FLT REVEALED EVIDENCE OF SML BIRDSTRIKE ON #1 ENG INSIDE OF INLET. NO APPARENT DM',\n",
       "       'ID BY SMITHSONIAN FAA 657. # BIRDS STRUCK NOT REPTD, ASSUME 1, SAME AS # SEEN.  SAW AND HEARD BIRD AT SAME TIME. ALL FLT CONTROLS AND ENG INDICATIONS SHOWED NO ABNORMALITIES. LANDED W/O INCIDENT. DUCK HIT COWLING AND WENT OUTSIDE OF ENG.',\n",
       "       'SAW LARGE BIRD APPEAR FROM BELOW AT THE 11:30 POSITION FROM THE FRONT OF THE A/C. I BANKED RT TO AVOID CONTACT BUT WAS UNABLE TO AVOID IT. STRIKE PUSHED LEADING EDGE OF L WING INTO WING SPAR. DAMAGE CAUSED CONTROL DIFFICULTIES SO I DECLARED AN EMERGENCY A',\n",
       "       '5 FAN BLADES DAMAGED AND --- IN CORE OF ENG. INGESTION.',\n",
       "       'missing',\n",
       "       'FLT 753. PILOT REPTD A HUNDRED BIRDS ON UNKN TYPE. #1 ENG WAS SHUT DOWN AND DIVERTED TO EWR. SLIGHT VIBRATION. A/C WAS OUT OF SVC FOR REPAIRS TO COWLING, FAN DUCT ACCOUSTIC PANEL. INGESTION. DENTED FAN BLADE #26 IN #1 ENG. HEAVY BLOOD STAINS ON L WINGTIP',\n",
       "       'BIRD ID BY SMITHSONIAN (FAA 086). BIRD STRIKE DELAMINATED 12\" ON OUTER AND INNER SKIN WITH CORE DAMAGE. 8\" DEPRESSION IN RADOME.',\n",
       "       '(DATA ENTRY NOTE: DMG COST REPTD AS $2,000, ASSUME IT BELONGED WITH OTHER COST SINCE NO DAMAGE WAS CHECKED. DID NOT RECEIVE REPLY FROM QUESTION SENT TO REPORTER)',\n",
       "       'FAN BLADE DMG.',\n",
       "       'ID BY SMITHSONIAN FAA 2955. SPECIES WAS EITHER MALLARD OR BLACK DUCK. DNA ANALYSIS UNABLE TO DISTINGUISH BTWN THESE TWO CLOSELY RELATED SPECIES. MALLARD MORE COMMON OCCURRENCE. AVG WT 1735G. HIT FUSELAGE IMMED ABOVE CO/P WINDSCREEN. COUPLE OF MINOR PAINT',\n",
       "       '# STRUCK NOT REPTD, ASSUME 1, SAME AS # SEEN. PHOTOS OF WING DMG SENT. LRG BIRD WAS LODGED IN WING AND LARGE DENT ON LEADING EDGE. FEATHERS WERE VERY LIGHT BROWN AND WHITE AND NOT VERY LARGE.',\n",
       "       'ON VERY SHORT FINAL, 1 VERY SML BIRD SEEN IN LDG LIGHTS. SML IMPACT HEARD FOLLOW A COUPLE OF SECONDS LATER BY ANOTHER ONE. CONTACT MX INSPN ONLY FOUND 1 VERY SML STREAK ON BOTTOM OF RADOME.',\n",
       "       'The aircraft sruck and killed a Coyote on runway 15R at Sheppard AFB.  The coyote was decapatated by the left main landing gear.  Minmum damage to the aircraft.',\n",
       "       \"1 BIRD HIT L SIDE OF NOSE ABOUT 1.5 FT FWD OF L WINDSHLD DAMAGING THE NOSE STRUCTURE AND OPENING A HOLE IN THE NOSE SKIN. PART OF THE BIRD HIT RT WINDSHLD OBSCURING VISION. 2 ND BIRD HIT L WING ABOUT 5' OUT FROM FUSELAGE CAUSING A LRG DENT IN LE (FOOTBALL\",\n",
       "       \"COWLING WAS BENT SO THE RT SIDE OF THE INTAKE ON THE NOSE WAS BLOCKED. THERE WAS A BURNING SMELL SO I AM NOT SURE HWAT OR HOW MUCH OF ANYTHING WENT IN THE ENGINE. THEY CAME UP FROM UNDER ME AND THERE WASN'T EVEN ANY TIME TO REACT. THEY MADE NO ATTEMPT TO\",\n",
       "       'HIT A PIGEON ON ARRIVAL. DMG REPTD TO LE OF RT WING. DENT ON LE OF RT WING NEAR WINGTIP. SIZE 5\" WIDE BY 3\" HIGH',\n",
       "       '5 MEDIUM BLACK BIRDS WERE FOUND ON RWY. PILOT SAW 15-20. REPTD A DENT IN WING & RT OTBD WITH POSSIBLE DMG TO ENG AND OTHER PARTS OF A/C.',\n",
       "       'SMALL AMT OF FEATHERS/REMAINS ON LT SIDE OF RADOME AND INBOARD SIDE OF #1 ENG.',\n",
       "       'ATIS CALLED FOR BIRDS IN AREA. FLOCK OF SML BIRDS FLEW DIRECTLY IN FRONT OF A/C. DURING T/O ROLL AFTER  VI BUT BEFORE ROTATE. MULTIPLE IMPACTS HEARD ON UNDERSIDE OF NSOE AND RADOME. T/O UNEVENTFUL. NO INDICATIONS ON INSTRUMENTS OR SMELL TO INDICATE INGEST',\n",
       "       'DURING LDG, PILOT HEARD A THUMP FOLLOWED BY A BURNING SMELL. RT ENG INTAKE HAD REMAINS OF BIRD. (DATA ENTRY NOTE: DAMAGE BOX NOT CHECKED ON FORM BUT COST WAS SHOWN FOR REPAIRS)',\n",
       "       'HEARD BIRD IMPACT ON FISELAGE. POSTFLT INSPN REVEALED BIRD FEATHERS ON AOA VANE AND A BLOOD SMEAR IMMED BEHIND THE AOA VANE. CONTRACT MX CONTACTED TO INSPECT FOR DMG AND CLEAN REMAINS. LOCATION REPTD AS 20 MILES WEST.',\n",
       "       'BIRDS INGESTED INTO #1 ENG. MULTIPLE BIRD PARTS STUCK TO BOTTOM OF #1 ENG STATOR VANES. REPLACEMENT A/C USED TO COMPLETE THE FOLLOWING FLIGHT. MX FOUND NO DMG.',\n",
       "       'HIT 2 SML BIRDS ON NOSE & #1 ENG. DMG UNKN AT THIS TIME. NO DMG FOUND UPON BORESCOPE. COST WAS FOR INSPN.',\n",
       "       'ID BY SMITHSONIAN, FAA 1878. SMOKE IN CABIN. BENT BLADE. BIRD WENT STRAIGHT THRU ENG. ATIS WARNING.',\n",
       "       'TOTAL REBUILD OF #1 ENG. RT WING LE DENTED. RT WING FLAP DAMAGED. 16 GEESE WERE FOUND. INGESTION IN BOTH ENGS. ONE FLAME OUT. PRELIM EST $1.5 MILLION. PHOTOS.',\n",
       "       'ID BY ARPT STAFF. HAWK IS RARE OF THIS LOCATION. HAWK HAD DEPTD RWY AFTER CATCHING PREY. AT T/O ROLL/ROTATION BEGAN, HAWK DROPPED PREY AND CAME BACK TO GET IT. STRIKE OCCURRED AT THIS TIME. WE CONTD T/O AND CAME BACK AROUND FOR PREC LDG TO INSPECT FOR DMG',\n",
       "       'CRACKED F/O SLIDING WINDOW. BIRDS REPTD AS GEESE, ASSUME CAGO FROM DATE AND LOCATION.',\n",
       "       \"HEARD IMPACT IN FLT. HIT NEAR PITOT TUBE. FOUND IMPACT MARK ON POSTFLT. BIRD BLOOD, ETC. NO DENT OR DMG.  REPT FROM AIRSIDE AGENT INDICATED 100' ON APCH TO 9L AND THAT NO MARKS WERE FOUND.\",\n",
       "       'HIT DEER JUST AT ROTATION. NEVER SAW DEER. HIT NOSEWHEEL & RT LDG GEAR STRUT AND FUSELAGE. CONCERNED WE LOST OR SEVERELY DAMAGED NOSEGEAR. LANDED ON GRASS RWY WITH POWER OFF TO AVOID PROP STRIKE. FULLY EXPECTED NOSE OVER EVENT, BUT IT WORKED FINE. STILL I',\n",
       "       'DAMAGED FINS IN #2 ENG. LANDED OK ON ONE ENG. A/C RETD TO RAMP W/O INCIDENT. REPLACED 12 FAN BLADES AND STATOR. BLADES WERE REPAIRED, SO COST WAS NOT HIGH.',\n",
       "       'WING, LEADING EDGE HAD A DENT 18\" WIDE, 8\" DEEP. 3 HRS TO APPLY TEMP PATCH.',\n",
       "       'PROBABLY OWL AS MENTIONED BY JUMPSEATER BEHIND F/O. ASYMETRICAL ELEVATOR TRIM WARNING ON EICAS. IT HIT RADOME JUST FWD OF RT PITOT TUBE. NO RADOME DMG. HAD TO DISPATCH ANOTHER A/C. TO PICK UP LOAD FROM PHL. FUEL COST EST AT $3000.',\n",
       "       \"ID BY SMITHSONIAN. FEATHERS WERE REMOVED FROM TOP OF NOSE OF PLANE. DISCREPANCY RE ALT 1400' ON ORIGINAL REPT AND 3000' ON AIRPORT REPT.\",\n",
       "       'ENTIRE STABILATOR WAS REMOVED AND REPLACED THE ENTIRE RH LEADING EDGE.',\n",
       "       'FLEW THRU A FLOCK OF SML BIRDS JUST AFTER LIFTOFF, PRIOR TO LDG GEAR RETRACTION. NO STRIKES HEARD OR FELT. CONTD TO DESTINATION. MX FOUND EVIDENCE OF 2 STRIKES, 1 UNDER RT OUTBOARD FLAP & OTHER ON L WINGROOT AREA JUST ABOVE LDG LIGHT. CLEANED & INSPECTED.',\n",
       "       'ENG INLETS DAMAGED. NO NOTICEABLE EFFECT ON PERFORMANCE IN FLIGHT. DMG BEING ASSESSED AT GARRETT AGS, EST 30 DAYS FOR REPAIRS.',\n",
       "       'DMG TO OTBD SLAT REQUIRING OVERHAUL. BIRD REPTD AS GOOSE, ASSUME CANADA, FROM DATE AND LOCATION.',\n",
       "       'BOTH PROPS DMGD A BIRD STRUCK NOSE CONE WHICH CAUSED DMG TO THE RADAR AND AVIONICS BAY, ENG NACELLES WILL NEED REPAIR. MINOR DMG TO L WING.',\n",
       "       'PILOT REPTD STRIKING BIRD WHEN TURNING BASE TO JOIN FINAL APCH. THERE APPEARS TO BE SOME BUCKLING OF SKIN. A/C WAS STRUCK ON THE NOSE. THE BULKHEAD HAD TO BE REPLACED. PHOTOS.',\n",
       "       'ID BY SMITHSONIAN, FAA 2740. 100% DNA MATCH. AIRLINE REPTD SUBSTANTIAL DMG TO THE ENG COWLING AND HORIZONTAL STABILIZER.',\n",
       "       'HIT FUSELAGE AFT OF F/O EYEBROW WINDOW.',\n",
       "       'ID BY SMITHSONIAN, FAA 2979. HIT MEDIUM FLOCK OF BIRDS ON APCH TO 16R NEAR ILS 3 MILE MARKER. PILOT UNCERTAIN OF #  IN FLOCK. WEATHER CONDITIONS INCLUDED HEAVY FOG. A/C OUT OF SERVICE NUMEROUS DAYS. PHOTOS. DMG TO NOSE, PROP, RT STRUT AND L WING.',\n",
       "       'PILOT HEARD LOUD THUMP ON LDG. FOLLOWED BY LOSS OF STEERING. COULD NOT KEEP A/C ON RWY WITH DIFF BRAKING AND REVERSE. PULLED OFF RT SIDE RWY.OWL SEVERED FRONT MAIN GEAR CABLE. A/C WAS DEPLANED & REMOVED FROM BAY. STEERING CABLE WAS REPLACED.  2 NOSE & 2 R',\n",
       "       'BIRD HIT BOTTOM L FWRD WINDSCREEN AND LODGED INTO WIPER BLADE. LANDING ON RWY RIGHT AFTER T/D.',\n",
       "       \"DEER LEFT GRASS AREA BTWN WOODS AND RWY, ENTERED LDG AREA AND HIT A/C AT 90 DEGREE ANGLE IN RT LWR FIREWALL AREA,(NO DMG HERE), LWR WING LIFT STRUT AND RT MAIN LDG GEAR SUPPORT/STRUT. PILOT REPTD DEER'S HEAD HIT THE FUELING STEP WHICH IS JUST FWD OF THE W\",\n",
       "       'ANGLE OF ATTACK INDICATOR BROKEN OFF RT SIDE OF A/C.',\n",
       "       'ATIS WARNING. AIR TURNBACK DUE TO ENG VIBRATION. SOME TYPE OF FLUID WAS LEAKING FROM THE AIRCRAFT. ID BY SMITHSONIAN FAA 909. BIRDS FIRST REPTD AS GEESE. 6 FAN BLADES REPLACED. CONFLICTING INFO ON WHICH ENG 1 OR 2. A/C WAS 5 MILES NW OF ARPT.',\n",
       "       'BIRD APPEARED TO BE A SMALL SPARROW. A/C TIME OUT OF SERV = 0.5 HRS.',\n",
       "       'missing',\n",
       "       'DMG TO A/C. DENT IN BOTH WINGS. L/E AND UNDERSIDE. TOP TAIL ROTATING BEACON DMG. RIP IN DE-ICE BOOT.',\n",
       "       'AT ROTATION, TWO LARGE FLOCKS OF SMALL BIRDS ROSE OFF RWY AND SPLIT DIRECTIONS AS WE WENT THOUGH VARIOUS HITS ON WINDSCREEN AND NOSE AREA. NO DMG.',\n",
       "       'ID BY SMITHSONIAN, FAA 3800. DNA.  CHIPPING SPARROW. RT WING JUST OUTBD OF ENG INLET WAS STRUCK AND DAMAGED. SML DENT(6-8\") IN LEADING EDGE OF HEATED SURFACE WITH SOME PARTS BEHING THE LEADING EDGE SUFFERING DMG AS WELL. A/C HAD NO NOTICEABLE HANDLING CHA',\n",
       "       'HIT 3 BIRDS. FOUND CRACK IN NOSE DOME.',\n",
       "       'UNAWARE OF COSTS, A/C TIME OUT OF SERV OR OTHER COSTS. CHANGED A/C AND DEPARTED LAX. MX ESTIMATES AT LEAST 30 MTS INSPN TIME. ALSO UNAWARE OF WHAT MX DID WITH THE REMAINS. LOCATION REPTD AS 40 MILES E OF LAX. NO DMG REPTD AND REMAINS WERE DISCARDED BY MX.',\n",
       "       'ID BY SMITHSONIAN. OPS WAS NOTIFIED OF BIRDSTRIKE AND RESPONDED TO AEROSIM RAMP. MADE CONTACT WITH PILOT. REMOVED SML FEATHER FORM RT WING. NO DMG. A/C WAS DOING TOUCH  AND GO PRACTICE.',\n",
       "       'BIRDSTRIKE REPORTED ON FINAL. ARFF RESPONDED. DENT IN RADOME AND DAMAGE TO RADAR ENTENNA. CARCASS REMOVED FROM RWY.',\n",
       "       'missing',\n",
       "       'STARLINGS? NO DMG. FOUND FEATHERS AND RESIDUE IN ENG BYPASS DUCT. BORESCOPED. COST WAS FOR INSPN.',\n",
       "       'ATIS WARNING. BIRDS REPTD AS CROWS, ASSUME AMERICAN CROW FROM LOCATION. L PROP,  L FUSELAGE, & L HORIZ STABIL. WERE STRUCK.  COST WAS FOR WASHING.',\n",
       "       'FLT INSTRUCTOR AND STUDENT PILOT, THE CFI WAS LANDING ON INSTRUMENTS. ABOUT 5 SECONDS AFTER T/D, THE PILOT SAW 4-5 DEER ON RT SIDE OF RWY. 1 RAN ONTO THE RWY AND INTO THE A/C. PILOT SWERVED TO AVOID IMPACT. SEVERE DMG TO RT WING AND RT ENG COMPARTMENT. PH',\n",
       "       'NO DMG. COST FOR INSPN ONLY.',\n",
       "       'CREW SAW BIRD. THOUGHT IT WAS A LRG HAWK WITH A 4+ FT WINGSPAN SITTING ON RWY. AS WE APCHD IT TRIED TO FLY. AFTER SEVERAL MANEUVERS THE BIRD PASSED BY THE COCKPIT ON L SIDE WITH VERY LOUD BANG AND ENG SURGE.  I CALLED ABORT AND CAPT EXECUTED THE ABORT AT',\n",
       "       'CLEANED AND INSPECTED. NO DMG.',\n",
       "       'ID BY SMITHSONIAN. BIRDSTRIKE ON APCH ON CHINS 7 ARRIVAL INTO KSEA JUST OVER RADDY INTXN. VMC CONDITIONS. A/C WAS NOT SERVICEABLE AND WAS FERRIED TO KMSP FOR REPAIRS. SPARE A/C WAS FLOWN TO KSEA TO TRANSPORT PAX THAT WERE SCHEDULED ON DAMAGED A/C. FAA REP',\n",
       "       'NO DMG. RADAR IN WX/URB MODE. ALL LDG LIGHTS ON. A/C INSPCTD BY FLT CREW & CONTRACT MX PRIOR TO NEXT FLT. COST WAS FOR INSPN.',\n",
       "       \"DEER WALKED INTO PATH OF A/C. TRIED TO PULL UP OVER IT AND STRUCK WHEEL PANT AND GEAR LEG. DENTED FUSELAGE UNDER PILOT'S DOOR.\",\n",
       "       '# BIRDS STRUCK NOT REPTD, ASSUME 2-10, SAME AS # SEEN.',\n",
       "       'DENTED TOP LE RT WING. BIRD REPTD AS \"FIELD LARK\"',\n",
       "       'SHORT FINAL. LOW VISABILITY. FLOCK TOOK OFF INTO A/C. ATIS WARNING. BOTH ENGS INGESTED BIRD. ENG MANU WAS CALLED IN TO PULL BOTH FANS AND BORSCOPE ENGS. NO DMG. NOT A CORE INGESTION.',\n",
       "       'SWALLOW TYPE BIRD. BIRD HIT LWR PART OF WINDSHLD AND BROKE THROUGH. 2 X 4\" HOLE IN PLEXIGLASS. NO INJURIES. LANDED W/O INCIDENT. FERRY PERMIT OBTAINED AND A/C WAS FLOWN TO MX FOR REPAIRS.',\n",
       "       'RADOME IMPACTED AND LOST PAINT WITH IMPACT DMG. DID NOT PENETRATE RADOME. PAINT SCRAPE RIGHT ABOVE NOSE CONE. LOCATION REPTD AS 30  NE OF KIXD.',\n",
       "       'COST FOR CONTRACT MX. CLEANED DEBRIS FROM WINDSHLD. NO DMG.',\n",
       "       'DAMAGED RT FLAP', 'HIT FUSELAGE JUST ABOVE PILOTS WINDOW.',\n",
       "       'A/C WAS ABOVE CLOUD DECK. SLIGHT DENT IN WING AND DENTED EXHAUST STACK IN ENG.',\n",
       "       '4\" DIAMETER DENT  BY 1\\' DEEP ON LE OF RT WING',\n",
       "       'NO EFFECT ON A/C PERFORMANCE. FEATHERS AND REMAINS PARTLY OBSCURED F/O FRONT WINDSHIELD.',\n",
       "       'ID BY SMITHSONIAN, FAA 2661. 3 FAN BLADES DAMAGED IN LEFT ENG. REMAINS FOUND IN COWLING. (DATA ENTRY NOTE: COST INFORMATION GATHERED FROM A CERTIFIED MECHANIC FOR B-737 AS A MINIMUM COST OF REPAIRS, DID  NOT COME FROM SWA.)',\n",
       "       'DAMAGE WAS 2\\' INBD FROM TIP OF LEFT WING. DENT IN LEADING EDGE ABOUT 6\" LONG AND 1\" DEEP.',\n",
       "       'DMG TO BLADES ON #2 ENG.',\n",
       "       'ON FINAL APCH AT OUTER MARKER FOREM, SML BIRD HIT JUST AHEAD OF AND BELOW L EYEBROW WINDOW. FOUND BLOOD SMEAR. COST WAS FOR BIRD STRIKE INSPN.',\n",
       "       'TURKEY HIT LE OF RT WING. DENT WAS 12-14 IN. SEPARATED 6 RIVETS ON TOP OF WING.',\n",
       "       'ID BY SMITHSONIAN, FAA 3066. NO DNA. RT INBD WING LEADING EDGE JUST OUTBOARD OF INTERCOOLER INLET 6\" WIDE, 1\" DEEP DEPRESSION, BENT SKIN PANEL, STRINGER AND DEICE BOOT. LEFT HORIZ STABILIZER LEADING EDGE DENTED AND WRINKLED ALONG WITH DEICE BOOT.',\n",
       "       \"AT 1200 FT DOWN RWY, WE HIT 2 GEESE SLEEPING RT OF CENTERLINE ON RWY. IT WAS RAINING HARD AND WE DIDNT'S EE THEM UNTIL LANDING LITES ILLUMINATED THEM. HIT RT MAIN GEAR. DMG T OUT DEAR DOOR HINGE.\",\n",
       "       'DMG TO LEFT LDG GEAR, FUSELAGE, ROTATING BEACON UNDER FUSELAGE. NO LOSS OF CONTROL. ABLE TO FLY AFTER MINOR REPAIRS. DENTED SHEET METAL ON LDG GEAR, TORE OFF ANTENNA. 3 YEARS LATER FOUND BROKEN FUSELAGE RIB JUST BEHIND UNDER FUSELAGE STROBE LIGHT.',\n",
       "       'ID BY SMITHSONIAN, FAA 2506. PILOT REPTD STRIKING LRG BIRD, PROB. A HAWK. #2 ENG WAS SHUT DOWN DUE TO VIBRATION. 165,000 LBS OF FUEL WAS DUMPED ($100,000). DECLARED AN EMERGENCY AND RETD TO ORD. AT LEAST 5 BLADES HAD SIGNIF DMG. A/C WAS REPLACED CAUSING A',\n",
       "       'RADAR ANTENNA DAMAGED, RADOME CAVED IN. NOT REPAIRABLE. RETURNED TO LAND OVERWT. FLT WAS DELAYED.',\n",
       "       'WHILE DESCENDING FROM 5000 TO 4000 FT, WE HEARD A LOUD THUMP AND SAW A FLASH IN LDG LIGHTS ON RWY 1L. 10 NM SOUTH. APCH AND LDDG UNEVENTFUL. UPON LDG FOUND DMG (HOLES AND SUPPORT RIBS BROKEN) TO RT AND L FAIRING WHERE WHEEL WELLS/WINGS ATTACH TO A/C. BIRD',\n",
       "       '#2 ENG INGESTED A BIRD.',\n",
       "       'BIRD STRUCK UPPER STARBOARD SIDE OF RADOME. NO DMG.',\n",
       "       'ID BY SMITHSONIAN. HIT FLOCK OF LRG BIRDS. PENETRATION. BIRD ENTERED COCKPIT. CABIN DEPRESSURIZED.  WINDSHLD WAS COVERED WITH BLOOD. BIRD DEBRIS AND INSULATION WAS SPLATTERED ON CAPT & COPILOT. 17 STRIKES FOUND. 11 PUNCTURES.  AREAS DENTED INCLUDE ABOVE W',\n",
       "       'ABOUT 6 MILES SE OF CMH ON VISUAL APCH TO 28L WE HEARD A BIRDSTRIKE NEAR THE FLIGHT DECK. FOUND REMAINS OF BIRD JUST BELOW THE CENTER FLIGHT DECK WINDOWS.',\n",
       "       'FOWL REMNANTS WERE FOUND ON WING LE AND ENG.',\n",
       "       'GREY BIRD HIT LEADING EDGE OF COWL. SOME OF BIRD ENTERED ENG (BYPASS, NOT CORE) AND SOME WENT OUTSIDE.',\n",
       "       'NO DMG.', 'NO DMG',\n",
       "       \"DURING GEAR RETRACTION AFTER T/O, A LRG BIRD APPEARED IN FRONT OF A/C. DESCENDING FROM TOP RT TO BOTTOM LEFT IN FRONT OF COCKPIT. BIRD HIT WITH A LRG THUD UNDER PILOT'S  FEET. PREC LDG. INSPN FOUND NO DMG. REMAINS ID BY WILDLF BIOL AT ARPT.\",\n",
       "       'SML DENT ON UNDERSIDE OF L WING.',\n",
       "       'L WINGTIP LENS BROKEN, L NAV LIGHT MISSING LENS COVER.',\n",
       "       'ID BY CAPT. DMG CONSISTED OF BENT FAN BLADE TO #2 ENG DUE TO INGESTION. CANCELLED FLT PENDING BLADE REPAIR/REPLACEMENT. BOTH PILOTS SAW HAWK 2 SECONDS BEFORE IMPACT. OVER LANDFIIL JUST OFF S END OF RWY 35L. NOTIFIED DISPATCH, MX AND MADE LOGBOOK ENTRY.',\n",
       "       'SEVERAL DEER BOLTED ACROSS THE RWY. THE LAST DEER WAS HIT BY A/C WING. DAMAGE WAS MIDWING. UNABLE TO FINISH TRIP.',\n",
       "       'NO DMG. NO REMAINS. A/C TIME OUT OF SERVICE STATED AS 0.5 HOURS.',\n",
       "       'DMG TO LE OF VERT STABIL. ABOUT 2\\' FROM THE TOP. AREA OF DMG WAS 14\\' TALL, 3-4\" WIDE AND 3\" DEEP. NO CRACKS OR OTHER STRESS NOTED DURING VIS INSPN. DENT IN METAL. FOUND SML, GRAY, DOWNY FEATHERS. PHOTO ATTACHEDTO REPT.',\n",
       "       '11 PAX. NO ONE WAS HURT. PROP BROKE OFF. REMOVED ENG DUE TO DAMAGE.',\n",
       "       'DAMAGED FRONT FAN ON RT ENG. 12 BLADES REPLACED. NO GULLS HAD BEEN SEEN ON THE AIRPORT ALL MORNING. THIS WAS A SINGLE GULL, NO FLOCK IN SIGHT.',\n",
       "       'missing',\n",
       "       'BIRDS DECIDED TO FLY FROM BOTH SIDES OF RWY AS WE WERE IN FLARE. DID NOT THINK WE HIT ANY AND TAXIED IN. RAMP VERY DARK AND AS THERE WERE FUELING US I NOTICED BIRD FEATHERS ON #1 ENG NACELLE BUT DID NOT SEE ANY BENT BLADES OR OTHER EVID OF DMG. I CALLED M',\n",
       "       \"BIRD HIT UPPER EDGE OF RADOME, REMAINS ONTO CAPT'S WINDSHLD. NO DMG FOUND. COST WAS FOR MAINT INSPN. FLT 2809\",\n",
       "       'DEER. SUBSTANTIAL DMG REPTD TO RT WING. NTSB NOTIFIED. OPER = STEPHEN STRIPE. DEER NOT SEEN. PLANE WAS IN LANDING ATTITUDE AND WAS ON THE MIAN LDG GEAR STARTING THE ROLLOUT WHEN DEER. HIT. LOST SOME CONTROL ON RWY BUT REGAINED IT.  DEER HIT RT INBD WING.',\n",
       "       '8 PIGEONS HIT IN A FLOCK OF ABOUT 70. 5 DEAD, 3 INJURED. REMAINS CLAIMED BY OWNER. PIGEONS WERE TAGGED. NO TIME OUT OF SERVICE.',\n",
       "       'BIRD REPTD AS \"BLACKBIRD/CROW?\". INGESTED IN AIR INTAKE.',\n",
       "       'D BY SMITHSONIAN, FAA 2904 A 99.7% DNA MATCH. THERE WERE 2 STRIKES ON THIS A/C. ONE AT THE NOSE WITH NO DMG AND 1 ON LE OF RT WING WITH DMG. THIS A/C WAS CLOSE BEHIND ANOTHER FLT THAT WAS HIT 3 MINUTES BEFORE.  THE ROBIN HIT THE NOSE. NO DMG. THE AMERICAN',\n",
       "       'RT ENG NACELLE DEPARTED A/C AND HIT RT HORIZ STABIL. PILOT DID NOT SEE BIRD BUT AFTER LDG, WITNESS CALLED ARPT AND REPTD SEEING A/C HIT BIRD. REPLACED MISSING COWLING AND HORIZ STABIL.',\n",
       "       'DMG TO A/C NEAR TOP OF FUSELAGE AFT OF F/O\\'S SIDE WINDOW. DIMENSION OF DMG ARE AIS ROUGHLY 8\" X 6\" X 1/4\" AND IS SIMILAR IN SHAPE TO THE NOSE OF A BULLET.',\n",
       "       'COST FOR LABOR ONLY. CREW HEARD LOUD THUD. LOTS OF DEBRIS ON LWR NOSE.',\n",
       "       'POSSIBLY DOVES. COST OF $4000 FOR ENG INSN AND TRAVEL COST OF INSPN TEAM.',\n",
       "       '5 DEER SEEN ON N SIDE OF RWY. ABORTED T/O BUT ANOTHER DEER ON S SIDE OF RWY RAN INTO PATH OF A/C. L WING LE AND ANTI-ICE PANEL STRUCK AND DAMAGED. L WING FUEL CELL RUPTURED AT LWR FWD WING ROOT.',\n",
       "       'JUST AFTER ROTATION 3/4 DOWN RWY. VIBRATION WAS FELT IN #2 ENG. NOT SHUT DOWN. RETD TO LAND. 4 DAMAGED FAN BLADES (C1 COMPRESSOR FAN BLADES VALUED AT 7700 EACH). ENG WAS DISMANTELED AND ALL FAN BLADES WERE REPLACED. 3 CANCELLED FLTS AND 1 DELAYED DUE TO A',\n",
       "       '1 DEER RAN OUT FROM TREELINE AS A/C TOUCHED DOWN. IT PASSED UNDER L PROP, HIT L MAIN GEAR DOOR AND STRUT AND BUNCED UP INTO L FLAP. PILOT WAS ABLE TO SAFELY CONTROLL THE ROLLOUT. TREES ARE VERY CLOSE TO RWY. DEER ARE A KNOWN PROBLEM. ANOTHER A/C HIT A DEE',\n",
       "       'DENTED WING',\n",
       "       'ID BY SMITHSONIAN. BIRD COLLECTED BY ARPT AND SENT TO SI FOR ID. ARPT OPS REPT: ON FLARE TO RWY AT APPROX 50 FT ABOVE RWY, PILOT REPTD BIRDSTRIKE. BIRD HIT NOSE GEAR, BIRD PARTS FOUND ON RWY OVERRUN AND COLLECTED FROM WHEEL WELL OF A/C. NO APPARENT DMG. B',\n",
       "       'DEER RAN ACROSS RWY INTO NOSE AND PROP AS A/C  STARTED LANDING ROLL. A/C CONTD STRAIGHT AND CAME TO A STOP. IT WAS MOVED TO AN OPEN HANGAR. DMG WAS FIRST REPTD AS SUBSTANTIAL THEN DOWNGRADED TO MINOR. NO INJURIES TO 2 PEOPLE ON BOARD. MOTOR SHOOK VIOLENTL',\n",
       "       'WHITE BIRD HIT LEFT WING JUST INBD OF STALL STRIP. DENT WAS 6\" LONG BY 1\" DEEP. NO OTHER DMG. A/C IS STILL IN REPAIRS (2/13/09).',\n",
       "       'REPLACED STROBE LIGHT AND PLASTIC CAP ON WINGTIP.',\n",
       "       'SAW 2 PHEASANTS ON RWY AFTER LANDING. ONE WAS MOVING FROM RT TO LEFT AND GAVE US NO TIME TO REACT. CAPT HIT THE BRAKES. WE SAW PARTS OF THE BIRDS FLYING EVERYWHERE. NO VIBRATION OR ABNORMALITIES WITH  #1 ENG UNTIL WE WERE READY TO SHUT DOWN AND ENG WAS IN',\n",
       "       'very small brown birds. cost was for inspn.',\n",
       "       'MAJOR STRUCTURAL DMG - WING SPAR AND LDG GEAR. NO INJURIES. DEER KILLED INSTANTLY. NUMEROUS WILDLIFE NOTED ON FIELD AFTER INCIDENT, COYOTES AND DEER. INSTRUCTOR AND \"STUDENT\" PILOT (CERTIFIED PVT PILOT SINCE 1985). A/C OUT OF SERVICE 4 MOS.',\n",
       "       'NO DMG. SOME BLOOD BELOW PITOT TUBE.',\n",
       "       'A/C ON SHORT FINAL. HIT A \"GOOSE\" ON LWR PART OF RADOME. CRACKED ABOUT 4\". REPLACED RADOME COST ABOUT $50,000. BIRD LATER ID\\'D BY SMITHSONIAN AS GULL. FAA 966. WS BIOL SPOKE WITH SMITHSONIAN AND BELIEVES THE GULL WAS A GLAUCOUS-WINGED GULL. A/C MOVED TO H',\n",
       "       'ID BY SMITHSONIAN, FAA 325  & FAA 327. SAN-ORD HIT A FLOCK OF BIRDS & WAS DIVERTED TO LAX WHERE WS BIOL EXAMINED DMG AND COLLECTED. . PENETRATED RADOME (HOLE 8\" X 10\") AND FIREWALL ENDING UP IN THE BACK OF THE LANDING GEAR COMPARTMENT. LEADING EDGE OF SLA',\n",
       "       'NUMEROUS BIRDSTRIKES ON T/O. ABORTED T/O BTWN 90-100 KTS.  REMAINS OF 3 JUVENILE RB GULLS WERE RECOVERED BY OPS. A/C WAS TAKEN OUT OF SERVICE. A/C - EMB 140',\n",
       "       'On two-mile final during a no-flap approach, the pilot saw approx. four large birds just prior to impact.',\n",
       "       'SIGNIF DMG TO WING AT POINT WHERE IT ATTACHES TO FUSELAGE. MINOR PROP DMG BUT ENG HAD TO BE TORN DOWN FOR INSPN. PHOTOS SENT.',\n",
       "       'ID BY SMITHSONIAN. POSTFLT INSPN REVEALED TWO BIRDSTRIKE LOCATIONS. PILOT STATED NO BIRD SEEN. TRS MX STATED THERE WOULD BE NO DELAYS INCURRED AND REPLACEMENT OF LANDING LIGHT ON WINGTIP WOULD BE DEFERRED TO PLANES NEXT LOCATION. OVER BAY AFTER ALNDING CL',\n",
       "       'ABORTED LANDING AT KUPARUK. ENGINE SHUTDOWN AND SECURED. DIVERTED FLT TO DEADHORSE, AK W/O FURTHER INCIDENT',\n",
       "       'BIRD HIT RT SIDE OF WINDSCREEN ABOUT 8\" RT OF CENTER AND ABOUT 3\" ABOVE TOP OF COWLING AND OPENED A 1\\' DIAMETER HOLE ON RHS OF WINDSCREEN. EXCEPT FOR BLOOD AND A FEW FEATHERS, MOST OF BIRD REMAINED OUTSIDE AND WERE NOT RECOVERED. A/C CONTROLLABILITY WAS O',\n",
       "       'INSPN FOUND NO DMG. COST FOR INSPN $1500.', 'missing',\n",
       "       'DENT ON L/E OF LT WING, JUST OUTBOARD OF LANDING LIGHT. BIRD REPTD AS SIZE OF DOVE.',\n",
       "       'LARGE WHITE BIRD DID SIGNIF DMG TO LE OF RT WING. PILOT WAS ON DOWNWIND, TURNING BASE TO LAND. AT ABOUT 800 FT AGL SAW WHITE FLASH FROM LFT TO RT IN WINDSCREEN. BIRD HIT LE OF RT WING. (PHOTO ON ARPT WEBSITE)',\n",
       "       'A/C HIT HAWK LANDING RWY 23 FIRST 1000 FT. DMG TO L WING BOOT, 1/2 IN HOLE. A/C GROUNDED UNTIL INSPN. A/C WAS FERRIED OUT FOR REPAIRS',\n",
       "       'AT A/C ROTATED, 1 FOX WAS SEEN. IT WAS NOT BELIEVED TO HAVE BEEN STRUCK BUT WAS LATER REPTD TO HAVE BEEN HIT. NO EFFECT ON FLT OR A/C INDICATIONS. ID LATER UPDATED TO COYOTE.',\n",
       "       'NO DMG NOTED. FINAL APRCH.',\n",
       "       'PILOT REPTD TO ARPT OPS THAT HE STRUCK A TURKEY VULTURE NEAR TOUCHDOWN ON RWY 9. A/C HAD AN INDENTATION ON WING ABUT 1 FT INBD OF TIP.',\n",
       "       'ID BY SMITHSONIAN, FAA 3100. DMG TO LEFT INBD LEADING EDGE OF WING. REQUIRED REPLACEMENT OF LEFT INBD LE SECTION OF THE WING DUE TO DENT BEYOND LIMITS.',\n",
       "       \"NO DMG.LRG AMT OF BIRDS LOCATED BTWN 7000' AND 6000' REMAINING RWY 10. 3 AREAS STRUCK, F/O WINDSHLD, AND LEFT AND RT LEADING EDGE SLATS. APPROX 10 CARCASSES FOUND ON RWY.\",\n",
       "       'LRG SWALLOW OR SML PIGEON. WINDSHLD CLEANED & INSPCTD. TIME OUT OF SVC 1/2 HR.',\n",
       "       'ATIS WARNING. ENCOUNTERED AT LEAST 20 CIRCLING VULTURES. 2 FIRST STAGE COMPRESSOR BLADES BENT AND REMAINS SCATTERED THRUOUT THE ENG INTAKE AND NACELLE. ENG CONTD TO OPERATE AT IDLE SPEED. PRECAUTIONARY LDG.',\n",
       "       'EXTERNAL DMG TO WING ROOT FAIRING. REPLACED FIBERGLASS FAIRING.',\n",
       "       'OTHER COST FOR MECHANIC CLEANUP', 'NO DMG TO LDG GEAR.',\n",
       "       'NO DMG. . LOCATION REPTD AS 5NM FINAL.',\n",
       "       'VERY SHORTLY AFTER T/O, 1 SAW 3-5 BIRDS FLYING AND HEARD 1 HIT THE LE OF THE RT WING. WE VISUALLY INSPECTED THE LEADING EDGE AND SAW A DNET AND LOTS OF BLOOD. WE DECIDED TO RETURN TO THE ARPT.',\n",
       "       'BIRDS REPTD AS SMALL, SPARROW SIZE, SEVERAL OF THEM.',\n",
       "       'I WAS THE F/O FLYING. AFTER ALIGNING ON THE RWY, THE CAPT STATED, \"YOUR AIRCRAFT\", AND I COMMENCED T/O ROLL. I NOTED SEVERAL GEESE WELL DOWN THE RWY, OFF THE RT EDGE, MOVING FURTHER TO THE RT. WE CONTINUED ACCELERATING AND AS WE PASSED 80 KNOTS THE GEESE',\n",
       "       'missing',\n",
       "       'DENT WAS 6\" LONG 2\" DEEP WHILE ON LDG ROLL, BIRD CAME FROM EDGE OF RWY CARRYING A FISH.',\n",
       "       'FLT 2712 ABTD T/O BELIEVING THEY HAD A BLOWN TIRE. TAXIED TO RAMP. FAN BLADE FAILURE. INGESTION IN BOTH ENGS. ALTHOUGH TWO ENGS REPTD DAMAGED, CALL TO P&W SHOWED ONLY 1 ENG HAD DAMAGE.  ENG WAS REMOVED, BUT NOT BECAUSE OF BIRD STRIKE (C-9 DISK LIFE). FOUN',\n",
       "       'LE OF WING DMGD. DENT10\" LONG BY 2-3\" DEEP.',\n",
       "       '13NM S OF KY31 HIT A LRG HAWK WITH RT HORIZ STABIL CAUSING DAMAGE. NO INJURIES. REPLACED HORIZ STABIL AND ELEVATOR ON ONE SIDE.  PHOTOS.',\n",
       "       'DURING INSTRUCTIONAL FLT JUST BEFORE ROTATION A/C STRUCK A DEER. IMPACT DENTED L SIDE OF ENG COWLING  PROP, COWL AND BOTTOM OF FUSELAGE. ALSO DAMAGED EXHAUST PIPE. A/C WAS BROUGHT TO A STOP ON THE RWY.   DMG REPTD AS MINOR ON ASIAS REPT. OTHER COST WAS FO',\n",
       "       'RETURNED TO BASE KGLW.',\n",
       "       'NO DMG. HIT WINGTIP. COST WAS $100 FOR CLEANING.',\n",
       "       'HEARD IMPCT ON FRONT OF A/C DURING NIGHTTIME APRCH KOKC. NO DMG TO A/C. 12 INCH SMUDGE ON LOWER FRONT OF RADOME AND SOME REMAINS ON NOSE LANDING GEAR. NO OTHER ABNORMAL INDICATIONS OR UNUSUAL ODORS NOTED. LOCATION REPTD AS 15NM S KOKC.',\n",
       "       'DAMAGED LE L WING AN, DENTED. L AILERON DAMAGED. EFFECT LANDING BUT NO DETAILS PROVIDED.',\n",
       "       'DELAMINATED L FLAP. OPER - JET SERV',\n",
       "       'WARNING MIGHT HAVE BEEN ON ATIS. LARGE DENT ON ENG INLET. 6 DAMAGED FAN BLADES WERE REPLACED. FAN SHROUD, COWL  AND SPINNER REPLACED.. ENG CONTINUED TO RUN WITH NO APPARENT PROBLEMS. COST TO LEASE ANOTHER A/C WAS $230,000.',\n",
       "       'NO DMG. FLT PROCEEDED WITH NO PROBLEMS. REPORTED IN MX LOG ON ARRIVAL FOR INSPN.   XP314 REPORTED POSSIBLY HIT BIRDS ON DEPTR FROM RWY 29. INSPECTED AND FOUND 2 HOUSE SPARROW AT APPROX THE 5,000 FT MARK ON RWY 29. REPTD TO USDA/WS AND ENTERED BY WILDLF TE',\n",
       "       'LE OF WING MUST BE REPAIRED.',\n",
       "       'PROBABLY DOVE. ATIS REMARKS NOTED INCREASED BIRD ACTIVITY. PROBABLY DOVES/ MOURNING DOVES BASED ON SIZE AND COLOR OF BIRDS SEEN, ALONG WITH NUMBERS OBSERVED DURING TAXI IN AND OUT. ESTIMATES COSTS ARE A PERSONAL GUESS BASED ON TYPICAL MX COSTS FOR INSPN O',\n",
       "       'ID BY SMITHSONIAN, FAA 3477. PILOT NOTICED A BIRD, BELIEVE TO BE A RED-TAILED HAWK FLYING INTO THE ENGINE AS THE PLANE TOOK OFF. THE CREW DECLARED AN EMERGENCY, LEVELLED OFF AT 3000 FEET , SHUT THE ENGINE DOWN AND RETURNED TO LAND SAFELY A FEW MINUTES LAT',\n",
       "       'HIT AT LEAST 3 BIRDS. BLOOD ON #1 ENG COWLING, L FLAP AND RT FRONT FUSELAGE. ARPT TYPICALLY HAS A FLOCK OF BIRDS BUT THEY ARE NOT REALLY CLOSE TOGETHER. EVERY TIME THE CREW HAS FLONW THAT PATTERN THERE ARE QUITE A FEW HERE. NO DMG. COST FOR 1 HR INSPN.',\n",
       "       'ID BY SMITHSONIAN, FAA 2427. FLEW THROUGH A FLOCK OF BIRDS ON APCH. FOUND BLOOD SMEAR ON LE OF LEFT HORIZ STABILIZER. ARPT SECURITY COLLECTED BLOOD SAMPLE. NO DMG.',\n",
       "       \"HIT BIRDS ON T/O & L MAIN LDG GEAR INDICATOR WENT OUT. SEVERAL BIRDS THRU L ENG. ENG OPERATED OK. L MAIN GEAR ALSO HIT. GEAR UNSAFE LIGHT CAME ON. DID NOT RAISE GEAR. PREPPED CABIN FOR EVAC, DID FLY BY TWR AT 1000', ASKED FOR FIRE TRUCKS & LANDED UNEVENTF\",\n",
       "       'UNKNOWN BIRD STRUCK ON CLIMB. NO DMG REPTD TO RADOME AT DEST. REMAINS NOT COLLECTED FOR ID. LOCATION REPTD AS KONT256/10.',\n",
       "       '3 BLADES WERE DAMAGED.', 'CAPT DID NOT STATE WHAT $300 WAS FOR.',\n",
       "       \"BIRDS WERE SEEN BY PRECEDING A/C IN THE INFIELD AT V1 THE WHOLE FLOCK MOVED INTO OUR PATH. WE COULDN'T HAVE AVOIDED THEM EVEN IF WE REJECTED T/O. A/C REMAINED IN TRAFFIC PATTERN & REQSTD IMMED RETURN. OVER 100 GULLS WERE SEEN THE NIGHT BEFORE, CIRCLING OV\",\n",
       "       'OCCURRED AT ROTATION POINT PAST V1',\n",
       "       'ID BY SMITHSONIAN, 2400. ARFF RESPONDED. 4 FAN BLADES DAMAGED. COST REPTD AS $780 FOR EACH OF 4 FAN BLADES THAT HAD TO BE REPLACED. A/C WA OUT OF SERVICE FOR THE AFTERNOON.',\n",
       "       'ID BY SMITHSONIAN, FAA 2327. CRACK IN LEADING EDGE OF L WING',\n",
       "       'FLOCK OF BIRDS FLEW UP FROM GRASS ON L SIDE RWY THEN ACROSS TAKE OFF PATH. A/C HAD JUST LEFT THE GROUND. HEARD LOUD THUMP. DENT IN L WINGT ROOT FAIRING AT LE AND NICKLE SIZED AREA OF PAINT CHIPPED FROM L ENG COWLING CYLINDER AIR INTAKE.',\n",
       "       'NO DMG. BIRD BRUSHED FLAP. 1000 FT FROM RWY 14.',\n",
       "       'ATIS WARNING. PILOT REPTD EXTENSIVE DMG TO RADOME WHICH WAS REPLACED. A/C TAKEN OUT OF SVC.',\n",
       "       \"A/C ENRT TO HAVANA. HIT BIRD AT 2000' DISTANCE TO GO MARKER. RETD TO ARPT ON ALL HOUSE EMERGENCY RESPONSE. DMG TO UNDERSIDE OF NOSE. DMG ESTIMATED BY AIRLINE MECHANIC. ARPT REPT SAYS RADOME SEVERELY DAMAGED.\",\n",
       "       \"EVENT 9881. CREW REPTD A BIRDSTRIKE TO #2 ENG. NO IRREGULARITIES NOTED IN INDICATIONS. BIRD HIT INSIDE NACELLE LILP. REMAINS ON CORE STATORS FROM 8-11 O'CLOCK POSITION. BORESCOPE FOUND NO INTERNAL DMG. 1 BLADE BLENDED. 4 MAN HRS TO INSPECT/REPAIR\",\n",
       "       'ATIS WARNING. A/C TIME OUT OF SERV = 1/2 HR.',\n",
       "       'ID BY SMITHSONIAN. 3 LARGE DENTS ON RT SIDE OF NOSE. SPATTER ON LDG LIGHT ALONG WING FROM FUSELAGE TO THE #3 ENG. SPATTER ON LEADING EDGE OF HORIZONTAL STABILIZER AND 4 #1 ENG BLADES DAMAGED. DENTS ARE WITHIN LIMITS BUT FAN BLADES WERE REPLACED. STRIKE WA',\n",
       "       'ID BY SMITHSONIAN. ARPT CASE # 25641. DELTA REPTD DMG AT $72,000 WITH 20 MAN HRS INVOLVED AT $2000.',\n",
       "       'EVIDENCE OF BIRDSTRIKE. NO DMG. COST OFR CONTRACT MAINTENANCE.',\n",
       "       'missing', 'ATIS WARNING. RADOME CRACKED, REPLACED.',\n",
       "       'DURING LDG FLARE, 1-2 FT ABOVE RWY I FIRST NOTICED THE GEESE (ABOUT 15) AS THEY TOOK FLIGHT FROM THE RWY AND ATTEMPTED TO EXTEND THE FLARE ON THE RWY. THE A/C WAS STRUCK ON THE BELLY & BOTH FLAPS.',\n",
       "       \"GRAY BIRD. DEFORMED SHEET METAL ON PILOT'S CHIN BUBBLE.\",\n",
       "       'ID BY SMITHSONIAN. PILOT REPT. AS WE ACCELERATED FOR T/O I SAW A LRG BIRD ON LEFT HALF OF RWY T/O AND FLY TOWARDS THE RT SIDE. I PUSHED POWER UP TO TO GO AROUND AND CONTD THE T/O IN HOPES THE BIRD WOULD CHANGE DIRECTION. WE HIT THE BIRD AFTER IT CHANGED D',\n",
       "       'CANCELLED NUMEROUS FLTS DUE TO DAMAGE.',\n",
       "       'INGESTED LRG GREY BIRD. RT ENG LOUD VIB. RETARDED END & RETD TO LAND. EMERGENCY. RWY 10L CLOSED FOR 38 MINS WHILE DEBRIS WASHED FROM RWY. WING FOUND ON RWY. ID BY SMITHSONIAN FAA 735 & 727. ALL PAX REROUTED TO OTHER FLTS. 5 BLADES DAMAGED. HOLES IN NOSE C',\n",
       "       'DEER DAMAGED THE WING FLAP ONLY. DEER WAS SEEN LEAVING BUT PROBABLY JUST FAR ENOUGH TO DIE JUDGING FROM THE DAMAGE SEEN. A/C WAS FERRIED TO A REPAIR FACILITY ABOUT 2 WEEKS AFTER THE ACCIDENT. (DATA ENTRY NOTE: ASSUME TIME OUT OF SVC AT A MINIMUM OF 2 WEEK',\n",
       "       'missing', 'COST REPT FOR CONTRACT MX INSPN.',\n",
       "       \"SEAGULL TYPE BIRD HIT JUST UNDER CAPT'S SIDE OF WINDSHLD ON FUSELAGE. NO DMG NOTED AT FIRST INSPN. COSTS WERE REPORTED  AS $300 FOR MX TO INSPECT AND CLEAN A/C.  $5000 WAS A ROUGH ESTIMATE FROM THE DELAY, MISSED CONNCETIONS, AND COST COMPANY INCURS FROM H\",\n",
       "       'DMG TO COWLING, EXHAUST SYSTEM AND FUEL INDUCTION SYSTEM.',\n",
       "       'ID BY SMITHSONIAN, FAA 2207. PILOT NOTED BIRD PASS ACROSS NOSE DURING CLIMB, FELT IMPACT. ENGINE ANOMOLY, RETURNED TO AIRFIELD. INSPN FOUND DMG TO LWR L PART OF INTAKE COLWING AND BIRD REMAINS IN FAN BLADES/ENGINE. BELIEVE MOST THRU BY-PASS BUT SOME IN EN',\n",
       "       'NO DMG OTHER THAN SOME SCRATCHES ON PAINT. COST WAS FOR LOST OF SERVICE AND MX TIME. BIRDS REPTD AS GEESE, ASSUME CANADA FROM DATE & LOCATION.',\n",
       "       \"CUTS AND BRUISES TO CO-PILOT'S ARMS AND CHEST PILOT AND 2 PAX HAD BIRD BLOOD ON THEM BUT NO INJURIES. RT FRONT WINDSHLD COLLAPSED INTO THE A/C. SOME DMG TO RT SIDE WINDOW. A LOT OF CLEANUP TO DO IN THE A/C FROM ENTRY THRU WNDSHLD TO REAR CABIN BULKHEAD. B\",\n",
       "       'HOLE IN LEFT WING ABOUT 2/3 WINGSPAN FROM ROOT AND EXTENSIVE DAMAGE TO SKIN ON L WING. PILOT MADE EMERGENCY LDG.  PHOTOS',\n",
       "       'ID BY SMITHSONIAN, FAA 4257. DNA. DEPARTING RWY 1. T/O WAS NORMAL UNTIL ROTATION WHEN WE INGESTED A MED SIZED BIRD INTO THE #2 ENG. CONTD T/O AND CLIMBED TO A SAFE ALTITUDE EXPERIENCING ENG VIBRATIONS AND THRUST REVERSER UNLOCK INDICATIONS. COMPLETED EMER',\n",
       "       '8 GEESE OF APPROX 12 WERE KILLED ON THE RWY.',\n",
       "       'ATIS WARNING. DMG TO WINGTIP. LIGHT ASSEMBLY.',\n",
       "       \"ID BY SMITHSONIAN, FAA 2181. DESCENDING INTO BWI AT NIGHT, 7,000 FT MSL, BOTH CAPT AND FO HEARD A LOUD THUMP UNDER AND TO THE RT OF THE F/O'S SEAT. POST FLT INSPN FOUND A BIRDSTRIKE ON RT LWER FUSELAGE AND A 2NDRY STRIKE WITH FEATHERS AND BLOOD AT THE INT\",\n",
       "       'CRACK IN COMPOSITE TRANSMISSION COWLING.',\n",
       "       \"CREW SUSPECTED BIRDSTRIKE ON NOSE AREA THROUGH 4000'. MX FOUND STRIKE ON RADOME. NO DMG DETAILS AVAILABLE.REMOVED AND REPLACED RADOME. COST OF RADOME MIGHT HAVE BEEN $32,000 IF FROM OLD SUPPLY OR 62,000 IF NEW.\",\n",
       "       'ID BY SMITHSONIAN FAA 3204. WHOLE FEATHER AND DNA. DMG TO L WING LEADING EDGE APPROX 12\" ACROSS AND 5\" DEEP. A/C WAS DOWN FOR 6 WEEKS LEADING TO LOST REVENUE. DMG WAS CONSIDERED MINOR ACCORDING TO ICAO STANDARDS.',\n",
       "       'PILOT SAW 2 KILLDEER ON BASE TO FINAL AND TRIED TO AVOID BY RAISING PORT WING. 1 IMPACTED PROP SPINNER & WAS INGESTED. BORESCOPE FOUND INTERNAL DAMAGE WITH SUBSEQUENT ENG CHANGE.',\n",
       "       \"JUST AFTER T/O SUSTAINED MULTIPLE BIRDSTRIKES ALONG L SIDE OF A/C. JUST UNDER CAPT'S WINDSCREEN. THE N1, ITT AND VIB INDICATIONS SHOWED FLUCTUATIONS ALONG WITH THE SMELL OF BURNED FLESH. AN EMERGENCY WAS DECLARED. A/C LANDED SAFELY. BIRD INGESTED IN L ENG\",\n",
       "       'HIT AREA AROUND F/O PITOT TUBES. RT HAND AFT SIDE OF RADOME. COST FOR 1 HR INSPN.',\n",
       "       'FLT 3520. SML WHITE WING FOUND IN FRONT BLADES OF #2 ENG. SEVERAL FEATHERS FOUND IN TAIL PIPE. INGESTION.',\n",
       "       'REMAINS CLEANED OFF WING AND INSPECTED. NO DMG AND RETURNED TO SERVICE. LOCATION REPTD AS 1SM FINAL FOR RWY 4.',\n",
       "       'BIRD SUDDENLY APPEARED IN WINDSHLD. PILOT DESCENDED TO AVOID CONTACT BUT BIRD HIT HORIZ STABILIZER WHERE IT ATTACHES TO FUSELAGE. COST ESTIMATED AT $5000 TO 10, 000. BIRD NOT RETRIEVED NOR SAMPLES TAKEN.',\n",
       "       'TWO DEER STRUCK BOTH ENGINES (PROPS) SHORTLY AFTER TOUCHDOWN. BENT BOTH PROPS, DAMAGED L ENGINE INLET, TORE OF LEFT GEAR DOOR.',\n",
       "       'TIME OUT OF SVC ABOUTA WEEK. DID NOT SEE BIRDS UNTIL i WAS ON THEM. THEY JUST BEGAN TO REACT.',\n",
       "       'RT WINDSHLD WIPER NEEDS TO BE READJUSTED',\n",
       "       'BIRDS REPTD AS \"GULLS? SNOW GEESE? THEY WERE WHITE, IN FORMATION AND LOOKED ABOUT THE SIZE OF GULLS.\" ATIS WARNING. DARK RAINY NIGHT. F/O SAW THE FLOCK A SPLIT SECOND BEFORE WE HIT THEM. NO ENG DAMAGE AS FAR AS WE KNOW. ENG INDICTIONS REMAINED NORMAL. RT',\n",
       "       'HIT 2 GULLS DMGD RT WING LE. DENT 8-12 \" LONG AND 2-4 \" DEEP.',\n",
       "       'FLT 1493 STATED HE FLEW THRU A FLOCK OF ABOUT 50 TRUMPETER SWANS. OCCURRED OVER ARPT PROPERTY. ENG REPLACED. INGESTION. PREC. LDG. BENT BLADES, TEMP INCREASED. HIT INLET FIRST. RETD TO LAND',\n",
       "       \"BIRD HIT BTWN WINDOW AND TOP OF FUSELAGE ON PILOT'S SIDE. LEFT A SML OPENING WHERE WINDOW AND FUSELAGE CONNECT. WINDOW HAD TO BE TAKEN OUT AND FUSELAGE STRAIGHTENED. NOT MUCH OF BIRD REMAINED.\",\n",
       "       'RADOME BADLY DMGD UPON IMPACT WITH THE HAWK. PHOTO. ID BY ARPT OPS.',\n",
       "       '3 GEESE WERE ON THE GROUND NEAR THE APCH END OF THE RWY. WHEN A/C LANDED, IT CAUSED THE BIRDS TO TAKE OFF AND FLY INTO THE GROUND ROLL PATH OF THE A/C. A 2\\' BY 6\" DENT WAS ON RT WING. MINOR DMG ALSO DONE TO RT PROP AND RT GEAR DOOR.',\n",
       "       'TWO SMALL BIRDS STRUCK. NO INJURIES ASSOCIATED WITH STRIKE. BROKEN LANDING LIGHT WAS THE ONLY A/C DMG. LOCATION REPTD AS 5NM, N KLOZ.',\n",
       "       'ID BY SMITHSONIAN. PILOT REPTD INGESTING BIRD AT ABOUT 400 FT RIGHT AFTER T/O BUT DID NOT SEE THE BIRD. PASSENGERS SAW FLAMES COMING FROM #1 ENG. PILOT SAID THE ENG STALLED OUT AND HE COULD SMELL SMOKE.  AIRLINE REPORT  SAID THAT BOTH ENGINES WERE SHUT DO',\n",
       "       '10-14\" HOLE IN UPPER LF WINDSHLD. DENT IN FUSELAGE ABOVE HOLE. BIRD WAS DARK BROWN WITH 4\\' WING SPAN. NO INJURIES.',\n",
       "       'DMG TO LEFT OUTBOARD FLAP. HEIGHT REPTD AS 50-100 FT, TOOK AVG. FLAP WAS REPLACED.',\n",
       "       'BIRD FLEW INTO FLT PATH FROM L SIDE OF RWY AT ROTTION AND HIT L SIDE OF NOSE.',\n",
       "       'AFTER T/O THRUST WAS SET AND ACCELERATING DOWN RWY, SMELLED ODOR FROM PACKS. ENG INDICATIONS NORMAL AND CONT T/O. SMELL WENT AWAY DURING CLIMBOUT. PERFORMED PRECAUTIONARY WALKAROUND OF ENG AT DEST AND F/O FOUND BIRDSTRIKE. TIME OUT OF SERV 0.5 HRS.',\n",
       "       'ESTIMATES ON MONETARY LOSSES ARE FROM COMPANY HQ. TE FLAP BENT, ALMOST PULLED OFF. ADDITIONAL COSTS WER FOR RENATAL VAN, MECHANICS, OVERNIGHT STAYS, USE OF ADDITIONAL AIRCRAFT. THEY BORROWED A FLAP FROM ANOTHER AIRCRAFT THAT IS CURRENTLY FOR SALE AND NOT',\n",
       "       'HIT FLOCK OF OVER 300 BIRDS. 1 ENG LOST THRUST. DMG TO #1 ENG INCLUDED BENT FAN BLADE AND SEVERAL DAMAGED COMPRESSOR BLADES. REMOVED AND REPLACED #2 FAN LADES DUE TO DMG. BOTH ENGS SHOWED FLUCTUATION. ARPT ESTIMATED # STRUCK TO BE 38 BASED ON REMAINS FOUN',\n",
       "       'BIRD HIT SQUAT SWITCH LINKAGE ON RT MAIN LDG GEAR. GEAR WOULD NOT RETRACT DUE TO DAMAGE.',\n",
       "       'ID BY SMITHSONIAN, FAA 2900. SAMPLE WAS MOLDY NO DNA SEQ. PILOT REPTD SEEING 2 BIRDS ON RWY. 1 POSSIBLY HIT A/C. PREC LDG. HAD TO SHUT DOWN #1 ENG. FOUND 2 FAN BLADES DAMAGED BEYOND REPAIR, ATTRITION LINER DENTED.  ALSO DAMAGED WERE T/R OUTBD LINER BRACKE',\n",
       "       \"SML DENT ON L WING LEG 6' FROM FUSELAGE. REPAIR PULLED DENTED AREA OUT AND IS RELATIVELY SMOOTH TO ADJOINING SURFACE. CONFLICTING REPTS FOR WHERE STRIKE OCCURRED. 1 SAYS APCH TO SEA THE OTHER SAYS CLIMB OUT OF SKAGIT)\",\n",
       "       'LARGE DENT IN L ENG COWLING. #1 ADF ANTENNA DAMAGED. TIME OUT OF SERVICE REPTD AS 14,000 HRS. CALLED PILOT TO VERIFY.',\n",
       "       'ID BY SMITHSONIAN, FAA 1718. BIRD WAS INGESTED IN #2 ENG ON T/O RIGHT AT ROTATION. MULTLIPLE STRIKES. A/C MADE EMERGENCY LDG TO ARPT WITH ENG AT IDLE DUE TO VIBRATIONS. FLEW OVER THE OCEAN TO BURN OFF SOME FUEL BEFORE RETURNING AT 11:21. LANDED W/O FURTHE',\n",
       "       'LOCATION REPTD AS 4NM E KSAN.',\n",
       "       'RT PROP AND ENG, RT NOSE GEAR DOOR.',\n",
       "       'ACCORDING TO AIRLINE MX, A LRG BIRD DAMAGED THE RADOME AND WING FLAP ON LDG. NO SAMPLES TURNED IN FOR ID.',\n",
       "       'NOTHING BECAME OF THE MINOR STRIKE. THE APPROVED ENTRY PROCEDURE FOR ENTERING THE GFK AREA FROM THE NE TAKES PLANES DIRECTLY OVER A CITY SEPTIC RESERVOIR WHICH THE BIRD LOVE.',\n",
       "       'ON SHORT FINAL, SAW LRG FLOCK OF BIRDS IN VICINITY OF THRESHOLD. FLOCK APPEARED TO SPLIT ON EITHER SIDE OF RWY LEAVING TD AREA CLEAR. NO EVIDENCE OF IMPACT WAS SEEN, FELT OR HEARD. WHEN DEPLANING, PAX SEATED IN REAR  SAID THERE WAS A BIRD STUCK IN THE WIN',\n",
       "       \"HIT BIRD AT ALTITUDE OF 700-800' ABOUT 4 MILES WEST OF DAB. A/C LANDED W/O INCIDENT. NO INJURIES REPTD. DMG TO RT WING. HAWK?  LOTS OF BROWN & WHITE FEATHERS.\",\n",
       "       'NO DMG',\n",
       "       'VULTURE OR RAVEN. CENTER STRIKE. BIRD TRAVELED UP CENTER OF WINDSCREEN OVER TOP OF THE TAIL. SAW 4, HIT 1.',\n",
       "       'BENT 5 1ST STAGE COMPRESSOR FAN BLADES. PENETRATED CORE. INGESTION.  ENG REMOVED FOR INSPN.',\n",
       "       'BIRD STRUCK UNDERSIDE OF RT WING TRAILING EDGE FLAP. LOCATION REPTD AS 1/2 MILE FROM KDAL.',\n",
       "       'WS BIOL SAID BIRDS WERE PROBABLY MOURNING DOVES.  POST FLT FOUND ONE FAN BLADE BENT. REPLACED.',\n",
       "       'BIRD ID BY SMITHSONIAN FAA 449 & 465. (FIRST REPTD AS LRG SEAGULL).  ENG WAS SHUT DOWN AND A/C MADE AN EMERGENCY LDG.  13,000 LBS OF FUEL WAS DUMPED OVER THE OCEAN. NTSB AND FAA INVESTIGATION DUE TO SIGNIFICANT DMG. #3 ENG AND COWLING WERE REMOVED AND REP',\n",
       "       'MED-SIZED BLACK BIRD. DENTED.  WINGTIP DMG. SHATTERED RECOG LIGHT. POSSIBLY A TURKEY VULTURE. (DATA ENTR NOTE: STRIKE ALSO REPTD BY OPS SUPV, WHO SHOWED  PHASE AS CLIMB AND EFFECT AS PREC LDG)',\n",
       "       'SHORTLY AFTER T/D A/C HIT A DEER. DAMAGED NOSE COWLING. (ASSUME MULE DEER)',\n",
       "       'NEVER SAW IT.', 'BIG BLACK POSSIBLE A VULTURE.',\n",
       "       'DENTED L HORIZ STABL. LE. PHOTOS INCLUDED. ALSO LOSS OF VALUE,  $169,000.',\n",
       "       'FLT 2308. NO DMG. INSPN COST $500-1000.',\n",
       "       'NO DAMAGE. FLT CANCELLED. BORESCOPE INSPN. COST WAS FOR INSPN.',\n",
       "       'DMG TO L LDG LIGHT. BIRD IS BY WILDF BIOL',\n",
       "       '7 MILES SW OF EVV IN A SHALLOW DESCENT, A BIRD HIT THE CHIN BUBBLE LEAVING A FIST-SIZED HOLE IN THE PLEXIGLASS. NO ADVERSE HANDLING EFFECTS.',\n",
       "       'BIRD HIT WINDSHLD WHILE PILOT WAS CHANGING FREQUENCY. WINDSHLD CAME APART, HIT PILOT ALONG WITH BIRD. FACIAL CUTS REQUIRED STITCHES. MOST OF WINDSHLD DEPARTED A/C. INTERIOR WAS A MESS. STRIKE OCCURRED 6-7 MILES NO OF ARPT.',\n",
       "       'missing',\n",
       "       'DMG LIMITED TO RADOME SHOWED SINGS OF DELAM, DENT AND CRACKS. DMG LOCATED ON LOWER PART OF LT SIDE.',\n",
       "       'RADOME REPLACED. A/C CALLED DOWN FOR REPAIR AND RE-ROUTED OFF PLANNED ROUTING.',\n",
       "       'PHOTOS. DENTED LE OF LEFT WING.',\n",
       "       'ATIS WARNING. NO DMG. ENGS WERE AT IDLE WHEN BIRDS HIT. COST WAS FOR INSPN.',\n",
       "       'DURING CLIMB CREW HEARD A LOUD BANG. INGESTED BIRD (SUSPECT GULL OR RAVEN) ON T/O ROTATION. LOW FLYBY WAS MADE TO INSPECT GEAR FOR DMG. PREC LDG MADE SHORTLY AFTER. NO VIZ DMG NOTED AT THIS TIME. BORESCOPE & CREW FLOWN IN TO INSPCT ENG. A/C WAS OK TO FLY.',\n",
       "       'ID BY SMITHSONIAN.', 'NO APPARENT DMG.',\n",
       "       'BIRD OR BIRDS WERE NOT SEEN BY CREW. RADOME WAS POINT OF INITIAL IMPACT. PAINT WAS COMPLETELY DISLODGED FROM IMPACT AREA IN AJAGGED EDGED SHAPE AOBU 14\" IN DIAMETER. THE INBD TKS PANEL ON THE LF WNG LE WAS SLIGHTLY DENTED. DUE TO DMG TO INTRICATE PLUMBING',\n",
       "       'BIRDS HIT ENG NACELLE AND TAIL SECTION. (DATA ENTRY NOTE: # STRUCK NOT REPTD, ASSUME 2-10, SAME AS # SEEN0',\n",
       "       'NO DMG. LOCATION RETPD AS 4NM NE OF ARPT.',\n",
       "       'BIRD DOVE FROM ABOVE OUT OF SIGHT AND STRUCK A/C NOSE. A/C WAS IN TRAFFIC PATTERN WITHIN 1 MILE OF ARPT. REPLACED SKIN ON A/C. PHOTO.',\n",
       "       'A/C WAS HOLDING SHORT OF RWY WHILE PILOT PERFORMED FINAL CHECKS BEFORE T/O. PHEASANT FLEW UP INTO THE RT ENG PROPELLER AND WAS KILLED. REMAINS ON PROP, ENG NACELLE, FUSELAGE, AND UPPER WING SURFACE. ENG RPM FLUCTUATED BUT CONTD RUNNING NORMALLY AFTERWARD.',\n",
       "       'SHORT FINAL. DUCK? JUST A SPLAT. COST WAS FOR INSPECTION. DATA ENTRY NOTE: # STRUCK NOT REPTD, ASSUME 1.',\n",
       "       'BIRD HIT INSIDE L ENG COWL, THRU THE PROP. LARGE PART OF WHAT APPEARED TO BE A BIRD BREAST WAS LODGED AGAINST THE FRONTMOST CYLINDER WALLS. PROP SLIGHTLY DAMAGED. AND WAS REPLACED. BECAUSE OF PROP STRIKE, ENG WAS ALSO CHANGED OUT. PHOTOS.',\n",
       "       'ID BY SMITHSONIAN. NO DMG. NO INJURIES.',\n",
       "       'BIRD HIT FUEL STRAINER DRAIN PROTRUDING FROM L LWR COWLING. IT BROKE THE STRAINER ENOUGH TO CAUSE FUEL PRESSURE LOSS, MASSIVE FUEL LEAK AND COMPLETE ENG FAILURE. PRECAUTIONARY LANDING.',\n",
       "       'IMPACTED 4 WHITE BIRDS ON A NIGHT VMC APCH. A/C DID NOT APPEAR TO BE DAMAGED BUT WE HAD TO LEAVE BEFORE CONTRACT MX FINISHED INSPECTING THE A/C. A/C WAS TAKEN OUT OF SERVICE TO BUY TIME FOR AN INSPN BECAUSE THERE WAS A SPARE A/C IMMEDIATELY AVAILABLE.',\n",
       "       'DMGD RT LDG LIGHT LAMP AND DOOR.',\n",
       "       'PROP DMG. ENG REMOVED FOR INSPN. 1 PROP WAS REPLACED, COST UNDER $500 (ASSUME $450).  NO ENG DMG.',\n",
       "       'ABORTED T/O RETD TO RAMP TO ASSESS ANY DMG. NO DMG NOTED. BIRD FLEW INTO #1 PROP BETWN ENG NACELLE AND FUSELAGE. BITS OF BIRD WERE DISCOVERED ON PROP, FWD BAGGAGE DOOR, PILOT WINDSHLD, PILOT STORM WINDOW, PILOT \"D\" WINDOW AND ALONG SIDE OF FUSELAGE. A/C R',\n",
       "       \"PILOT ID'D SPECIES WITH PETERSON'S FIELD GUIDE AS JUNCO. OVER 200 BIRDS FLEW UP FROM RWY INTO A/C'S PATH. RETD TO LAND IMMEDIATELY. MX COUNTED OVER 28 STRIKE POINTS. AT LEAST 12 WERE INGESTED IN EACH ENG. ABOUT 85 CARCASSES WERE RECOVERED. NO DMG. A/C OUT\",\n",
       "       'HIT L1 WINDOW. COST FOR 1 HR INSPN. NO DMG.',\n",
       "       'ID BY SMITHSONIAN. ON GO-AROUND (DUE TO BIRDS ON RWY) FROM LOW APRCH, FLOCK OF GULLS TOOK OFF. ONE STRUCK AND DMGD RT WING.',\n",
       "       'HIT BIRD WHILE TURNING OVER GREAT SALT LAKE. PILOT REPTD SEEING BIRDS, POSSIBLY GULLS FLYING IN FRONT OF A/C. 1 HIT THE AOA SENSOR ON RT SIDE OF A/C.  IT THEN HIT THE #2 ENG COWLING CAUSING A LARGE GASH.ALSO DAMAGED FAN BALDE. REMAINS ON UNDERSIDE OF RT W',\n",
       "       'ID BY SMITHSONIAN, FAA 4316. DNA & WHOLE FEATHER. PAX RECEIVED CUT ON HIS CHIN AND A SWOLLEN CHEEK. PILOT AND PAX WERE WEARING HELMETS. WINDSHLD WAS BROKEN, FRAME WAS DEFORMED, SKYLIGHT WAS BROKEN AND VERTICAL FIN WAS DAMAGED.',\n",
       "       'E2 COMPRESSOR TOTAL LOSS',\n",
       "       'ATIS WARNING ONLY - VERY COMMON ON EVERY AIRPORT. RIGHT AFTER V1 BOTH F/O AND I SAW A LRG FLOCK OF BIRDS NEAR TWY D. THIS FLOCK EXTENDED FROM ABOUT 10FT ON EITHER SIDE OF THE RWY ACROSS THE WIDTH OF THE RWY WITH THE LRGST AMNT BEING AT CENTERLINE. AS WE R',\n",
       "       'TWO FLOCKS OF SMALL BIRDS OFF DEPT END OF RWY MOVING SOUTH TO NORTH.',\n",
       "       'ID BY SMITHSONIAN, FAA 1857. LE OF RT WING WAS STRUCK. PILOT WAS IN A LEFT TURN DOWNWIND TO BASE. PART OF BIRD WENT THRU ENG AFTER STRIKIING LE OF WING. DAMAGE WAS SUBSTANTIAL. PHOTOS. NO ENG DMG. BORESCOPED. OTHER COST WAS FOR LOSS OF USE OF A/C AND TRAV',\n",
       "       'PILOT  SAW BIRD IN LDG LIGHT. HEARD A FAIRLY LOUD THUMP AS BIRD HIT EDGE OF WING. LANDED W/O INCIDENT. A/C FEWL FINE AFTER STRIKE. DENT WAS BOUT 8\" LONG AND 1\" DEEP.',\n",
       "       'DEFINITE IMPACTS HEARD AND FELT AROUND NOSE AND AFT CANOPY/FUSELAGE SECTIONS- NO VISIBLE DAMAGE',\n",
       "       'RETD TO LAND DUE TO BIRDSTRIKE AND BAD ODOR IN CABIN. FLT LANDED W/O INCIDENT. HIT RT LE FLAP.',\n",
       "       'EXTENT OF DMG WOULD INDICATE A LRG BIRD BUT WE DID NOT SEE IT.   NO CONTROL PROBLEMS EXPERIENCED. A/C TIME OUT OF SVC WAS 5 WEEKS  DUE TO PART UNAVAILABILITY.',\n",
       "       'DMG TO RT WING L/E. NO INJURIES. (REMARKS FROM EMAIL).',\n",
       "       'ID BY SMITHSONIAN, FAA 3722. COYOTE OR DOMESTIC DOG. FOX WAS FOUND ON RWY. DMG TO RT MAIN GEAR DOOR. ARPT OPS REPORTED THAT A/C HIT A FOX OR COYOTE ON T/O ROLL',\n",
       "       'NO DMG.',\n",
       "       'LARGE HAWK IMPACTED R HAND OUTBOARD SLOT JUST PRIOR TO ROTATION. RED-TAILED HAWK AND MOURNING DOVE.',\n",
       "       'STRIKE OCCURRED AT VR. A STORM HAD PASSED ABOUT 1-2 HRS EARLIER. RWY WAS WET. NOTAM WARNING. PILOT INFORMED TOWER THEY HAD STRUCK SOME BIRDS DURING T/O. TWR NOTIFIED OPS. FOUND 3 DOVES, 2 ON CENTERLINE AND 1 IN GRASS. ID BY SMITHSONIAN, FAA 1566. REMAINS',\n",
       "       'LOCATION REPTD AS 10 NW KRDU.',\n",
       "       'ID BY SMITHSONIAN, FAA 3141. DNA AND WHOL FEATHER ALL SHOWED SAME SPECIES. LRG INDENTATION ON NOSE RADOME. APPROX SIZE OF FOOTBALL. PROBALBY REPAIRABLE. IF NOT, COST $300,000. PHOTOS OF DMG.',\n",
       "       'BIRD ID BY OPS. AIRLIINE QUALAITY ASSURANCE DEPT SAID NOT DMG. MX COST FROM $50-100. WINDSHLD & NOSE BOTH REPTD AS BEING DAMAGED BUT CALL TO WS AIRPORT BIOL WHO CHECKED WITH AIRLINE FOUND NO DMG.',\n",
       "       'STARLING? SNOW ON GROUND. BIRDS WERE ON GROUND NEXT TO TWY. THEY FLEW ACROSS TWY AND ACROSS RWY THRU P[ATH OF ROLLOUT ON RWY. ON TAXI IN, BIRDS WERE DEPARTING AREA ALONG TAXIWAY  AS WE TAXIED TO RAMP. MOST OF BIRD WENT INTO RT ENGINE GENERATOR COOLING INL',\n",
       "       'FLOCK FLEW INTO DEPTR PATH. OVER 30 BIRDS WERE KILLED. NACELLE, WING ROOT, LE OF WING, EXHAUST STACK RADOME, RIGHT BRAKE LINE & LIGHTS WERE DAMAGED. BIRD WAS INGESTED. NO INJURIES. COST WAS REPORTED TO BE AT LEAST $100,000.',\n",
       "       \"FALCON HIT RT LWR FUSELAGE JUST BELOW CO/P'S FEET ON LDG. ICE DETECT PROBE WAS BENT ABOUT 15 DEGREES AFT OF NORMAL. REVENUE FLT WAS CANCELLED. JET SPENT 2 HRS AT GATE. THEN FERRIED TO CVG FOR REPAIR. BIRD SURVIVED.\",\n",
       "       '5-6\" DENT ON #2 BULLRING.',\n",
       "       'ALBATROSS LIKE BIRD LOCALS CALL GARZA. ENG INSPN AND CLEANUP REQUIRED. BIRDSTRIKE INSPN PERFORMED BY AA MX. 3 MILE FINAL.',\n",
       "       'ID BY SMITHSONIAN. FAA 4170. CREW OBSERVED 2 GULLS DIVE PAST THE NOSE UPON T/O. CREW DID NOT HEAR OR FEEL ANY STRIKE ON A/C. PROCEEDED TP KABE. BIRD DISCOVERED WEDGED BTWN RT MAIN WHEEL AND LANDING GEAR STRUT. CREW REPTD NO EFFECT ON LANDING GEAR RETRACTI',\n",
       "       'missing',\n",
       "       'DMGD INBOARD OF L WING SLAT. DENT. STRIKE LOCATION WAS UNKNOWN AND EVIDENCE WAS FOUND DURING POST FLT INSPN. PILOT MENTIONED SEEING A BIRD THAT MATCHED A GREAT BLUE HERON. AIRPT OPS RECOVERD A HERON CARCASS FROM 27L.',\n",
       "       'missing',\n",
       "       'ENG SURGED THEN RETURNED TO NORMAL.  ENG NOT CHANGED BUT OIL COOLER WAS REPLACED. BORESCOPED. ATIS WARNING FOR BIRDS. COSTS FROM MX AT AIRPORT.',\n",
       "       'CRACKED RADOME IN 2 PLACED. REMAINS WEDGED BTWN UPPER CRACK.',\n",
       "       'CANADA GEESE? 8-10MI STRAIGH IN FINAL. SEVERAL LOUD BANGS WERE HEARD. NORMAL LDG WITH NO INJURIES.',\n",
       "       'FAN BLADE DMG VISIBLE AND INTERNAL. ABNORMAL THRUST SITUATION. A/C RETD FOR EMERGENCY LDG. LANDED W/O INCIDENT. COSTS INCLUDE A/C RENTAL FOR ABOUT 5 WEEKS.',\n",
       "       'DMG TO BOTH WINGS. PILOT SAW BIRDS JUST AS THEY STRUCK THEM. RETD TO LAND. DMG TO LEADING EDGES NEAR THE LIGHTS. L WING HAD DENTS ON LEADING EDGE, MISSING RIVETS AND DAMAGE TO ONE STRINGER. RT WING HAD DENTS ON LEADNG EDGE. MOST OF COST IS FOR A/C BEING O',\n",
       "       'ONLY IMPACT ON A/C WAS BLOOD SMEAR ABOUT 3 X 5 INCHES ON FRWD WINDSCREEN.',\n",
       "       'ID BY SMITHSONIAN, FAA 2865. WHILE PERFORMING LOW LEVEL AEROBATIC ROUTINE AT DAB HIT AT LEAST 3 MOURNING DOVES.',\n",
       "       'HIT 2 DEER AND RAN OFF RWY. THRUST REVERSERS WERE NOT WORKING. PLANE WENT INTO A DITCH, BURST INTO FLAMES AND WAS DESTROYED. PILOT AND PAX WERE CRITICALLY INJURED: 2 BREAKS OF THE PELVIC BONE, 4 FRACTURED VERTEBRAE, CRUSHED RIGHT HIP, RT LEG PULLED FROM S',\n",
       "       'GULL POSSIBLY, WHITISH IN COLOR. HIT LWR HALF OF RADOME ON L SIDE ABOUT 1\\' BACK FROM TIP OF NOSE. SLIGHT STRUCTURAL DMG WITH 1\" DIAMETER CHIP OF PAINT REMOVED AND CRACKED PAINT AROUND PERIMETER OF IMPACT ZONE.',\n",
       "       '7-8 BIRDS SUDDENLY APPEARED I FRONT OF A/C. SEVERAL HIT NOSE & WINDSHLD. FORCE OF IMPACT FRACTURED INNER PANE ON CAPT SIDE. NUMEROUS SMALL PIECES OF GLASS IHT CPT IN FACE, SCALP & CHEST. HE TURNED CONTROL OVER TO F/O FOR LDG. EMERG POWER SWITCHED ON AFTER',\n",
       "       'LOCATION = MSP070015.',\n",
       "       'DEER WAS KILLED. WOODEN WING WAS DAMGED. RT WING LE SKIN WAS BROKEN OUT BACK TO THE FUEL TANK. MINOR DMG TO SUBSTRUCTURE (ONE NOSE RIB AND SOME STRINGERS). ONE AILERON PUSH ROD WAS BENT IN SAME PART OF WING.',\n",
       "       'RABBIT WAS INGESTED. FUR IN ENG. ENG VIBRATIONS. ENG AT 91% IN REVERSE THRUST. REVERSE IMMEDIATELY TERMINATED AND A/C TAXIED TO GATE. 3 FAN BLADES DAMAGED BUT 6 WERE CHANGED. ENG SHUT DOWN AFTER EXITING RWY. (ANOTHER REPORT SAID THAT ALL 1ST STAGE FAN BLA',\n",
       "       'missing',\n",
       "       'NO DMG. THUD AND BIRD REMAIN. LOCATION REPTD AS 20 MILES N KBWI.',\n",
       "       'NOTAM WARNING. RT WING OTBD VORTILON HAD SLIGHT DMG. TRAILING TIP OF VORTILON BENT. NO EFFECT ON FLT. RWY WAS LCOSED FOR 10 MINS AND 1 A/C HAD TO GO AROUND. BIRD REPTD BY PILOT AS BLUE HERON, ASSUME GREAT BLUE HERON. ARPT WILDL TECH ALSO REPTD GREAT BLUE',\n",
       "       'BIRD STRUCK LOWER PORTION OF RT WINDSHIELD. BIRD PENETRATED THROUGH GLASS AND A 3\" x 6\" HOLE CREATED. BIRD REMAINS SCATTERED INSIDE UPPER RT PORTION OF COCKPIT AND CARGO AREA. PICS AVAILABLE UPON REQUEST.',\n",
       "       'PILOT SAW A DEER RUN ACROSS RWY THEN HIT 2ND DEER ON L SIDE. DMG REPTD AS MINOR TO L WING & FUSELAGE. NO INJURIES. NTSB SAYS SUBSTANTIAL DMG TO L FUSELAGE & WING.',\n",
       "       'NO DMG. NO INJURIES.',\n",
       "       'ID BY SMITHSONIAN FAA 398.  APPROX 30 MINUTES AFTER SUNDOWN, A FLOCK OF ABOUT 20 SIZEABLE BIRDS CAME INTO RANGE OF THE LDG LIGHT. THERE WERE 3-4 DIRECT HITS TO FUSELAGE, WING LDG GEAR AND PROP. BIRDS WERE NOT SEEN UNTIL ILLUMINATED BY LDG LIGHT.  SPLATTER',\n",
       "       'SAW A FLASH FROM CORNER OF MY EYE AND HEARD THUMP ON RADOME. NO ABNORMAL COCKPIT INDICATIONS NOTICED. CONT TO KISP AND LANDED UNEVENTFULLY. FOUND VERY SMALL BIT OF REMAINS UPON LANDING AND CONTRACT MX INSPECTED A/C. NO DMG. ALL LOGBK ENTRIES COMPLETED AND',\n",
       "       'ATIS WARNING. DAMAGED LEFT BOTTOM FIBERGLASS COWLING WITH MAJOR PAINT DMG.',\n",
       "       'PIGEON SIZE BIRD. ON SHORT FINAL RWY 35, A/C INCURRED POTENTIAL BIRDSTRIKE. UPON INSPN AFTER LANDING, A SMALL RED MARK ON RADOME AND DUST ON R NACELLE. PERFORMED DETAILED VISUAL INSPN OF FAN, STATOR, LINER AND FIRST STAGE COMP WHICH REVEALED NO DEBRIS OR',\n",
       "       'NO DMG TO A/C. NO COMMUNICATION WITH ARPT OPS.',\n",
       "       'NO ABNORMALITES NOTED. FOUND 2 FAN BLADES BENT 1/4\" OUTWARD ON POST FLT INSPN.',\n",
       "       'DMG TO COMPRESSOR BLADES. ATIS WARNING.',\n",
       "       'ID BY SMITHSONIAN. INGESTED INTO #2 ENG. FOUR FAN BLADES DMGD.',\n",
       "       'BIRD INGESTED. FAN BLADES BENT IN TURBINE',\n",
       "       'ID BY SMITHSONIAN. DENT IN UPPER L/E AND TOP FRONT OF WING.',\n",
       "       'AW SHADOWS IN MY LIGHTS AND IMMEDIATELY PULLED YOKE BACK, THE PLANE SHOOK SLIGHTLY.',\n",
       "       'RT WING L/E DMG.',\n",
       "       'DMG TO STATOR, N1 FAN AND COMPRESSOR. ENG WAS CHANGED. (THIS WAS REPORTED ON STRIKE FORM 8/29/02 FROM SECOND STRIKE AT VNY) ENG MANU SHOWS NO ENG DMG.',\n",
       "       \"AN EMERGENCY WAS DECLARED AFTER WING WAS DAMAGED FROM A VULTURE STRIKE. STRIKE OCCURRED OVER A CONSTRUCTION MATERIAL LANDFILL. IMPACT SHIVERED THE PLANE AND TWISTED IT TO THE LEFT. WING WAS SMASHED WITH PIECES FLAPPING UP AND DOWN. OUTER 2' OF WING  WAS A\",\n",
       "       'MX INSPN PERFORMED, A/C RELEASED FOR NEXT SCHEDULED FLT. OUT OF SERVICE 1/2 HR.',\n",
       "       'NO DMG TO A/C. JUST A LARGE SPLAT ABOUT 8 INCHES ROUND ON CAPT WINDSCREEN. LOCATION REPTD AS 20 MILES W OF HOLID INTXN ON THE LOCALIZER TO 9L KFLL.',\n",
       "       'FLT 409. HEARD A LOUD BANG AND THOUGHT THE NOSE CONE WAS POSSIBLY GONE. RETD TO STL. LANDED W/O INCIDENT. NOSE CONE WAS INTACT BUT HAD BEEN PENETRATED BY A BIRD.  BIRD WENT THRU RADOME, RADAR AND METAL WALL WHERE RADAR IS MOUNTED. BIRD ID BY SMITHSONIAN (',\n",
       "       'SAW 2 BIRDS FLYING ACROSS RWY BUT UNABLE TO AVOID. POOR LIGHT CONDITIONS. BIRD WAS INGESTED AFTER V1. SEVERE COMPRESSOR STALLS. 1ST STAGE FAN HAD AT LEAST 2 BLADES DMGD. APPROX $250000 DMG.',\n",
       "       \"ID BY SMITHSONIAN. BIRD HIT LEFT WING 4' FROM WINGROOT. DMG TO OUTER LAYER OF COMPOSIT COATING.  COSTS INCLUDE DAMAGE AND LOST REVENUE DUE TO  DOWNTIME.\",\n",
       "       'NO DMG.', 'UNUSUAL ENG NOISE ON LDG AND ROLLOUT.',\n",
       "       'ID BY SMITHSONIAN, FAA 183 &189. DAMAGE TO RT WING LE, #2 ENG COMPRESSOR BLADES AND NOSE JUST BEHIND RADOME. REPLACED ENG DUE TO NUMEROUS COMPRESSOR AND FAN BLADES DMGD & INLET DMG. REPLACED FWD E & E DOOR.  RT ENG FAILED. AIRLINE & ARPT SENT REMAINS.  OT',\n",
       "       'UNDERSIDE OF #1 ENG COWL WAS DAMAGED.',\n",
       "       'NO REMAINS FOUND ON RWY.',\n",
       "       'ID BY SMITHSONIAN, FAA 3795.  DNA. DMG TO FAN BLADE. MULTIPLE BIRDSTRIKES ON T/O. LANDED W/O INCIDENT.',\n",
       "       \"ID BY SMITHSONIAN. OCCURRED ON ROTATION. CREW LEVELED OFF AT 3000' AND RETD TO LAND ABOUT 20 MINS LATER. REMAINS WERE FOUND ON RWY. ENG WAS DAMAGED BUT DID NOT QUT WORKING AND WAS NOT SHUT DOWN. PAX WERE TAKEN TO HOTELS. PAX REPTD A LOUD BANG AND SMELL OF\",\n",
       "       'missing',\n",
       "       'LEADING EDGE AND 2 POSSIBLY THREE RIBS DAMAGED. INCREASED BIRD ACTIVITY WAS BROADCAST ON ATIS.',\n",
       "       'PILOT DID NOT SEE BIRD. IMPACT DURING T/O. PILOT NOTICED RESTRICTION TO AILERON CONTROL, PILOT IMMED. RETD FOR LDG. INSPN FOUND DENT IN RT WING ABOUT 12\" INBD OF WINTIP AND 3\" FROM LE. ANOTHER DENT WAS FOUND ON OTBD EDGE OF AILERON. THE DEFORMED AILERON W',\n",
       "       'NO AFFECT ON A/C PERFORMANCE OR POWER. MX INSPECT A/C AND FOUND BLOOD ON THE UNDERSIDE OF FUSELAGE. NO OTHER BIRD REMAINS FOUND AND A/C NOT DMG.\\r\\nOPERATOR = TEXAS STATE TECH COLLEGE',\n",
       "       'ID BY SMITHSONIAN, FAA 4085. DNA. SHORTLY AFTER ROTATION ABOUT 6 BIRDS WERE SPOTTED BY PILOT FLYING. 1 WAS INGESTED INTO L ENG. NO ADVERSE INDICATIONS ON ENG. FLT WAS COMPLETED SAFELY. STRIKE WAS REPTD TO TWR VIA PHONE AFTER LDG. CONTROLLER WAS UNINTEREST',\n",
       "       'DMG TO RT WING.', 'DMG TO RADOME, ABOUT 18\" MINOR.',\n",
       "       'PILOT REPORTED TO ATCT STRIKING AT LEAST 1 BIRD ON T/O. WS BIOL WITNESSED THE STRIKE AND ALSO SAW A RED-TAILED HAWK RECOVER THE DEAD BIRD FROM RWY 16R AT INTXN WITH RWY 11/29. PILOT REPORTED \"NO DAMAGE\" FROM THE AIR, BUT INSPECTION HADN\\'T BEEN DONE.  NO O',\n",
       "       'OWL WENT INTO H.P. COMPRESSOR OF RT ENG. BORESCOPED. DMG WITHIN LIMITS. (DATA ENTRY NOTE: COST REPTD AS $1000, THE COST REPTD FOR ANY STRIKE BY WS IN HI. NOT ACTUAL COST. CALLED AIRLINE FOR COST. BORESCOPE WAS $400, NO FLT DELAYS. DATE REPTD AS 3/15, AIRL',\n",
       "       'ID BY SMITHSONIAN, FAA 2487. PILOT SAW 2 BIRDS FLY UP FROM GRASSES ADJACENT TO RWY AND PASS ON EITHER SIDE OF A/C. FOUND REMAINS ON #2 ENG PROP. BLOOD ON LDG GEAR. FOUND REMAINS OF W MEADOWLARK ON RWY. ALSO FOUND BARN SWALLOW REMAINS IN AREA. TWO SETS OF',\n",
       "       'HIT RT NACELLE. NO DMG. CLEANED.', 'missing',\n",
       "       '2 FOOT DENT IN CENTER OF LEADING EDGE. REPLACED THE CENTER LEADING EDGE ON RT WING, PICCOLO TUBE INSIDE AND CLAMPS. COST WAS $25,000 AND $97,000 FOR CHARTERING AN AIRCRAFT WHILE THEIR A/C WAS DOWN FOR REPAIRS.',\n",
       "       'HEARD 4-6 THUMPS. NO DMG. REMAINS COLLECTED FROM RWY. FLT CONTD TO DEST. DID NOT ADVISE TWR OF WHERE A/C WAS STRUCK.',\n",
       "       'ID BY SMITHSONIAN, FAA 2464. #2 ENG INLET. BIRD HIT UPPPER SURFACE, BROKE IN HALF, HALF WAS INGESTED. A/C OUT OF SVC 12 DAYS. PILOT INFORMED TWR OF STRIKE ON 3MILE FINAL. BIRD WAS THOUGHT TO BE A GULL OR A GOOSE. 3 FAN BLADES WERE BENT. REPLACED ENG INTAK',\n",
       "       'ENG WILL BE EXAMINED. DOWN TIME NOT KNOWN. NO INGESTION. BENT INTAKE ON RT ENG. L ENG ALSO TOOK A STRIKE.',\n",
       "       'BIRD HIT LEFT ENG FAN DOME. BORESCOPE FOUND BIRD DID NOT GO THRU THE CORE. NO DMG. COMPRESSOR WASH AND TEST RUN.',\n",
       "       'ID BY WS BIOL AS JUVENILE FERRUGINOUS HAWK. HIT BIRD AT HIGH SPEED DURING T/O, ENG STALLED AND T/O WAS ABORTED. WE SHUT DOWN THE ENG AFTER EXITING RWY. TAXIED TO TERMIANL. APRT PERSONNEL COLLECTED WING REMAINS FOR ID. REPLACEMENT A/C FOUND. DELAY OF ABOUT',\n",
       "       'ID BY SMITHSONIAN, FAA 3097. DNA. (DATA ENTRY NOTE: DATE REPTD AS BOTH 5TH BY PILOT AND 6TH BY  NTSB) STRUCK RT WING CAUSING SUBSTANTIAL DMG TO WINGSPAR. PILOT STATED AS HE INITIATED A DESCENT AT NIGHT 10-12 MILES NE OF ARPT, HE HEARD A LOUD BANG AND FELT',\n",
       "       'REMAINS COLLECTED BY ORD WILDLF CONTROL AGNT.',\n",
       "       'ID BY SMITHSONIAN. LEFT WING ROOT CRACKED FAIRING AND RIVETS POPPED. SUBSTANTIAL DMG TO K-FLAPS, WING ROOT, WING AND BODY FAIRING AND UNDERLYING STRUCTURE. A/C TAKEN TO SEATTLE FOR REPAIRS.',\n",
       "       'missing',\n",
       "       'ID BY SMITHSONIAN, FAA 4113. 3 SAMPLES: 1 FROM PITOT TUBE, 1 FROM RT WING AND 1 FROM LIGHT HOUSING. ALL WERE TUNDRA SWAN. ALL DNA AND MICRO WITH 1 WHOLE FEATHER. SIGNIFICANT DMG TO LE OF RT WING. LANDING LIGHT HOUSING  AND SKIN ON WING DAMAGED. PILOT WAS',\n",
       "       'missing',\n",
       "       'FEMALE DEER. WHEEL PANTS AND FAIRINGS DAMAGED ON L MAIN ONLY. NO HOURS OUT OF SVC.',\n",
       "       'PREC LDG. BIRDTRIKE INSPNC FOUND NO DEFECTS. COST WAS FOR PREC LDG AND INSPN.',\n",
       "       'ID BY SMITHSONIAN, FAA 4695.MICRO, WHOLE FEATHER & DNA.  A/C WAS SLOWING FROM 280 TO 190 KIAS. WHEN THE CAPT SAW WHAT HE THOUGHT WERE GULLS. THE A/C HIT A FLOCK OF LARGE BIRDS ON APPROACH ABOUT 4NM W OF ARPT. DECLARED EMERGENCY.  ONE OF THE BIRD PENETRATE',\n",
       "       'missing', 'missing',\n",
       "       'PILOT REPTD SEEING A FLASH AT 700 FT. 1 BIRD ENTERED GAS PATH OF L ENG, OTHER IMPACTED L WING FLAP.',\n",
       "       \"SAW A DEER ABOUT 50 YARDS AHEAD WHEN 5' FROM T/D AND APPLIED FULL POWER TO DO A GO-AROUND. FELT JOLT IN TAIL. OTHER DEER HAD HIT US.  STABILATOR JAMMED CAUSING A/C TO CLIMB & ALMOST STALL. SAW LRG DENT ON L OTBD LE OF STABILATOR FROM COCKPIT. FLEW THE PAT\",\n",
       "       'NO VIZ DMG',\n",
       "       'ID BY SMITHSONIAN, FAA 3739. WHOLE FEATHER AND DNA. ON DOWNWIND FOR 32L (TEMP RWY AT LMT DURING CONSTRUCTION) AT APPROX 1500 FT AGL WE HEARD AND FELT A  LOUD THUMP. CONTD APCH & LANDED NORMALLY. NOTICED DAMAGE TO LEFT SLAT DURING POST FLT INSPN. DIRECTOR',\n",
       "       '2-3 NM NORTH OF CHARLOTTE COUNTY ARPT, A BROWN BIRD APPEARED ON HIS LEFT ON A COLLISION COURSE. HE BANKED LEFT TO AVOID BIRD BY HEARD A CRASH. SAW DMG TO RT HORIZONTAL STABILIZER LEADING EDGE. RUDDER & PITCH CONTROL WERE AFFECTED. LANDED UNEVENTFULLY AT D',\n",
       "       'DMG TO LE OF L WING. 1 NOSE RIB CRUSHED, SKIN TORN. NO EFFECT ON FLT PERFORMANCE. PHOTOS SENT.',\n",
       "       'ID BY SMITHSONIAN. ID BY PHOTO. WINDSHIELD AND INTERIOR DMG.',\n",
       "       'ID BY SMITHSONIAN, FAA 3172. AFTER DESCENDING FROM IMC CONDITIONS BTWN YAVUP AND RGGO WAYPOINTS ON RNAV (GPS) RWY 31 APPROACH, A LOUD REPORT WAS HEARD BY FLT CREW AND PAX. INSPECT OF CO-PILOT WINDSCREEN WITH A FLASHLIGHT REVEALED FEATHERS AND BLOOD ON WIN',\n",
       "       'F/O NOTICED HAWK & LEVELED AT 4000 FT & 230 KTS WITH N1 VIB PEGGED OUT AT 9.9 WITH NOTICABLE VIBRATION.RETD TO FIELD ON ALERT 1 STATUS. INSPN FOUND3 BENT FAN BLADES & DMG TO ACCOUSITICAL LINER. FIRE CREW LOOKED AT ENG. TAXIED TO GATE. REPLACED 3 FAN BALDE',\n",
       "       'WINDSCREEN BROKEN, 5 BY 15 \" DENT IN L WING. A/C FERRYABLE. NO INJURIES.',\n",
       "       'FLOCK OF SML BIRDS WERE SITTING IN THE T/D ZONE. UPON T/D, FLOCK TOOK FLT. WE INGESTED 4-5 BIRDS. 8 BLADES WERE DAMAGED.',\n",
       "       'HIT A FLOCK OF PIGEONS WHILE FLARING FOR T/D. PILOT REPTD NO VIZ EXTERNAL DMG. DMG WAS FOUND TO RT ENG.',\n",
       "       '2 MI SE OF ARPT, HEARD LOUD BANG UNDER CENTER PANEL NEAR OUR FEET. CONTD TO DEST. FOUND DENT AND MISSING AINT AND BLOOD ABOUT 2 FT AFT OF RADOME. CLASSIFIED AS ALLOWABLE DMG.',\n",
       "       'ID BY SMITHSONIAN. F/O REPTD THAT BOTH HE AND CAPT CAUGHT A QUICK GLIMPSE OF WHAT THEY ASSUMED WAS A BIRD TO THEIR LEFT. FELT IMPACT SHORTLY AFTER. LEAD DAL MX STATED A/C WILL BE GROUNDED UNTIL THEY ORDER PARTS AND MAKE NECESSARY REPAIRS. DMG TO SLAT AND',\n",
       "       'missing',\n",
       "       'STRUCK LARGE BUCK WHILE LANDING. DAMAGE TO LEFT WING ALLOWED A LRG AMT OF FUEL TO LEAK ONTO THE RWY.',\n",
       "       'GULL HIT L MAIN LDG GEAR. COST $100 FOR MX CLEANUP',\n",
       "       'LARGE DENT ON LEADING EDGE OF RT WING.',\n",
       "       'APPEARS TO BE 3 STRIKE. 1 ABOVE RADOME, BY ICE DETECTOR AND MAIN GEAR. NO DMG. REPORT OF BIRD MATTER IN #1 ENG. ONLY COSTS WOULD HAVE BEEN LABOR FOR BIRDSTRIKE INSPN AND THE HIGH ENERGY STOP INSPN FOR ABORTED T/O. 18 MAN HRS SPENT.',\n",
       "       'FLT 103. BIRD STRUCK NOSE CONE, BLOOD OVER WINDSHLD. OTHER BIRD WAS INGESTED. ENG RAN BOUT 50 DEGREES HOTTER. FLT TO SAN WAS CANCELLED. ENG WAS CHANGED FOR FOD CONTAMINATION. (ENG MANU REPTS NO FAN BLADE DMG)',\n",
       "       'AIRPORT REPT SAYS, \" SMALL STRIKE TO ENGINE COWLING. AIRPORT HAS TAKEN CONSIDERABLE MEASURE TO PREVENT WILDLIFE STRIKES A PRESCRIBED B THE 150 SERIES OF THE ADVISORY CIRCULARS.\" OTHER REPORT SAYS, \"EXTENSIVE STRUCTURAL DAMAGE UNDER THE NOSE. FUEL LINE CUT',\n",
       "       'ENG INSPN. NO DMG.', 'L MAIN LDG GEAR DOOR HAD MINOR DMG.',\n",
       "       'BLOOD SPOT ON INBD LE FLAPS. COST FOR CLEANING AND MX INSPN. $200.',\n",
       "       'ATIS WARNING. SPOKE TO DIR OF OPS AND POI. REMVD THREE MOURNING DOVES FROM  RWY AND #2 ENG. FOUR FAN BLADES DMGED NO 2 ENG TOTAL 8 BLADES REPLACED. STRUCK ON ROTATION, RETURNED TO ARPT.',\n",
       "       '1 BIRD COLLECTED. A/C PARKED AT GATE D25E WHERE PILOT COUNTED 13 STRIKES. DMG TO L WING. ARPT OPS TOOK PHOTOS OF A/C.',\n",
       "       'A/C WAS IN LEVEL FLT WHEN WE HEARD A THUD AND FELT THE A/C SHUDDER. PILOT FELT SOME FEEDBACK DURING MOMENT OF IMPACT ON THE RUDDER PEDALS WHICH SUBSIDED INSTANTLY AFTER IMPACT. VERT STABILIZER WAS DAMAGED WITH A DENT ABOUT 14\\' LONG, 4\" WIDE AND 1\" DEEP. B',\n",
       "       \"ID BY SMITHSONIAN. PILOT REPTD STRIKG ABOUT 20 MILES E OF AIRPORT AT 12,000'. OPS RESPONDED TO GATE AND FOUND MAJOR DMG TO WINGLET.  PILOT SAW ABOUT 10 BIRDS OUT OF THE CORNER OF HIS EYE. A/C YAWED A LITTLE. PILO9T REPTD TO PHX APCH. PHOTOS.\",\n",
       "       'BIRDSTRIKE ON RT WING DURING RIGHT DOWNWIND RWY 5. PILOT DID NOT SEE BIRD. LARGE DENT. A/C WILL BE OUT OF SERVICE ABOUT 5 WEEKS.',\n",
       "       'DMG TO L ENG STATORS. MX REMOVED FEATHERS FROM INTERIOR OF TURBINE. ID BY SMITHSONIAN.',\n",
       "       'BIRD FLEW THRU #1  PROP  DURING LANDING FLARE. FOUND FEATHER PATTERN OF SCRATCHES ON ONE BLADE. NO DMG. BIRD CAPTURED LIVE, TAKEN TO ALASKA RAPTOR CENTER.',\n",
       "       'ABOUT 5 MI E OF KNEAD INTXN HEARD LOUD POP & SAW SML BLK OBJECT FLY BACK FROM NOSE TO THE LEFT. ENG INSTRUMENTS & FLT CHARACTERISTICS OK. CONTD FLT. FOUND MODERATE DMG & FEATHERS ON TOP L SIDE OF RADOME. CRACKS & BREAKING AWAY OF TOP FIBERLASS LAYERS.',\n",
       "       'BIRD HIT LH FLAP', 'STRUCK FUSELAGE ABOVE CAPT COCKPIT POSITION.',\n",
       "       'COULD HAVE BEEN A CROW. NO DMG.',\n",
       "       'ID BY SMITHSONIAN. FAA 6450.  DNA. 2 N1 FAN BLADES HAD TO BE REPLACED. SOME REMAINS APPARENTLY WERE LODGED IN THE NOSE WHEEL AND FELL ONTO RWY 1 AS A/C SLOWED TO TURN OFF RWY. STRIKE WAS ABOUT 14/ TO 1/2 MILE FROM RWY. PHOTO INDICATED AT LEAST 6 IMPACT AR',\n",
       "       'DMG TO LE OF L WING. 12-15\" LONG, 4-5\" WIDE AND 4\" DEEP. HOLE IN LEADING EDGE. COST REPORTED INCLUDES OTHER COSTS BESIDES DAMAGE.',\n",
       "       \"FLATTENED LEADING EDGE OF WING ABOUT 2' INBD FROM WINGTIP.\",\n",
       "       'ON SHORT FINAL. BIRD CAUSED A 3\" VERTICAL CREASE ON THE LEADING EDGE OF RT WING. 1/4\" - 3/8\" DEEP.',\n",
       "       'DMG BEYOND REPAIR TO RADOME AND L LWR PITOT TUBE.  FEATHERS & DEBRIS ON INLET COWL, NOTHING FOUND IN INLET OR ON FAN BLADES. TWR INDICATED AFTER THE STRIKE THAT THESE BIRDS WERE A PROBLEM AT THIS TIME OF YEAR.',\n",
       "       'FLOCK OF SML BIRDS WERE SEEN APPROACHING THE RWY FROM THE WEST DURING LATE PART OF THE TAKE OFF RUN. BIRDS WERE STRUCK AFTER LIFTOFF WHILE LDG GEAR WAS IN TRANSIT. NO ABNORMAL INDICATIONS ON EITHER ENG BUT 1 STRIKE COULD BE SEEN ON L WING LE. WE FELT MULT',\n",
       "       'WHILE LANDING AT KBKL, F/O OBSERVED A SMALL WHITE BIRD STRIKE A/C FUSELAGE JUST ABOVE R WINDSHIELD. A/C CONT AND LANDED W/O INCIDENT. MX INSPECTED IMPACT AREA AND REPTD NO DMG. A/C RETURNED TO SERVICE. FLT # REPTD AS SRY 10223.',\n",
       "       'RWY WAS CLOSED. A/C FERRIED FOR INSPN. LANDING GEAR, ENG AND PROP HAD TO BE REMOVED FOR INSPN ACCORDING TO A/C MANU. REQUIREMENTS.  BROKE HYDRAULIC LINES IN LDG GEAR. HAD SPARE A/C, ONLY  LOST REVENUE ON 1 FLT. CHANGED PROP BEFORE FERRY FLT. GEAR COST $56',\n",
       "       \"BIRD HIT F/O'S FWD WINDSCREEN WITH A LOUD BANG. REDUCED VISIBILITY. COST REPTD FOR INSPN.\",\n",
       "       'NO DMG. SOME REMAINS BELOW F/O SWING WINDOW. LOCATION REPTD AS 25 NM SE KMDW.',\n",
       "       'SML WATER BIRD HIT ON SHORT FINAL. MADE SLIGHTLY AUDIBLE SOUND ON IMPACT. NO DMG SEEN UNTIL LDG. SML CRACK, 4-6\" IN LWR LEFT CORNER OF RT FRONT WINDSCREEN.',\n",
       "       'FOLLOWING ROTATION, A FLOCK OF GULLS (ABOUT 15-20) FLEW DIRECTLY THRU OUT FLT PATH. AS WE WERE FAIRLY SLOW, WE COULD ONLY MANEUVER SLIGHTLY TO AVOID THE BULK OF THE BIRDS AND ONLY TOOK 1 STRIKE. IT HIT THE LWR L PART OF RADOME. AS WE DID NOT HAVE ANY NOTI',\n",
       "       'IN THE FLARE. A/C TIME OUT OF SERVICE = 1/2 HR.',\n",
       "       \"HIT ABOVE CAPT'S WINDSHLD.\",\n",
       "       'IMPACTED UPPER RT PART OF RADOME. EXTERIOR DMG TO PAINT & STATIC STRIP. DMG TO INSIDE OF RADOME IS UNKNOWN AT THIS POINT. RADOME HAD TO BE SENT AWAY FOR REPAIR.',\n",
       "       'PILOT REPTD HITTING 2 BIRDS OVER RIVER ON APCH OF RWY 32. REMAINS OF MALLARD RECOVERED FROM WING/FLAP. EST COST OF $37,000 MINI IS $14,000.',\n",
       "       'MINOR DMG REPTD. COSMETIC.', '8 NM FROM ARPT.',\n",
       "       'BAD ODOR NOTICED. BIRD WAS STANDING ON CENTERLINE OF RWY WHEN WE LANDED. THEN BEGAN TO FLY AND WAS STRUCK BY LWR INTAKE OF #2 ENG AND INGESTED. ALL ENG INDICATIONS WRE NORMAL. INSPN FOUND NO DMG BUT NOTED INGESTION INTO THE CORE REQUIRING BORESCOPE INSPN',\n",
       "       'BIRD WAS INGESTED. APPEARS TO HAVE DAMAGED SOME OF THE COMPRESSOR STATORS. ENG IS BEING TORN DOWN FOR FURTHER EVALUATION. ID BY SMITHSONIAN, FAA 1436. ENG WAS REPAIRED AND PUT BACK IN SERVICE ONLY TO FIND MORE DAMAGE. ENG REMOVED AGAIN. EST REPAIRS ABOUT',\n",
       "       'PILOT SAW GRAY BLUR BEFORE BIRD WAS INGESTED.  UNCONTAINED FAILURE, PARTS LEFT THE ENG.  REPLACED NOSE COWL DUE TO NUMEROUS HOLES AND PUNCTURES IN INNER LINER AND 2 LRG PUNCTURES IN OUTSIDE SKIN. REPLACED PRECOOLER FAN AIR AND BLEED AIR INLETS. FAN COWL R',\n",
       "       'L WING FRONT EDGE, WING TIP, LENSE COVER BROKEN,DENTED.',\n",
       "       \"DOING TOUCH AND GO'S. LARGE HOLE IN L WING.\",\n",
       "       'ID BY SMITHSONIAN. BIRD THOUGHT TO BE GULL. 1 HIT UPPER L CORNER OF WINDSHLD AND BROKE OUT TOP SECTION. 2ND BIRD HIT RT WING LEADING EDGE. WE MADE AN EMERGENCY LANDING. LANDED WITHOUT PROBLEMS. OUT OF SERVICE ABOUT 3 WEEKS. REPALCED WINDSHLD AND LEADING E',\n",
       "       'SAW LARGE WHITE FLASH AS BIRD STRUCK. HAWK? DMG TO NOSE AND TRIM AROUND WINDSHLD. COSTS ESTIMATED $6000-7000. LOCATION 20 MI SW OF AVL.',\n",
       "       'A PILOT REPTD REMAINS ON RWY 1. TWR ADVISED THEY DID NOT RECEIVE ANY STRIKE REPORTS. THE REMAINS WERE FOUND AT 1220 PM. A STRIKE WITH DOLLAR GENERAL OCCURRED IN AM, ASSUME REMAINS FROM THAT STRIKE.',\n",
       "       'ID BY SMITHSONIAN, FAA 3864. MICRO & DNA. PILOT SAYS ATIS DID NOT INDICATE BIRD ACTIVITY IN VICINITY OF AIRFIELD. TIME OUT OF SERVICE 2.5 HRS. RETD TO AIRPORT FOR INSPN. NO DMG.',\n",
       "       '1 GOOSE OUT OF A FLOCK OF ABOUT 10, GRAZED THE RADOME CAUSING SOME DMG. FORTUNATELY IT WAS NOT A DIRECT STRIKE.',\n",
       "       'PILOT REVED ENG TO MOVE GULLS OFF THE RWY. THEY LIFTED OFF & CIRCLED BACK. FLT CREW DID NOT SEE ANY BIRDS ON OR AROUND RWY. POWER WAS APPLIED FOR T/O. AS SPEED INCREASED, F/O CALLED \"V1\". & IMMEDI. ALERTED PILOT TO BIRDS WHICH BEGAN TO HIT A/C. WHILE PILO',\n",
       "       'DMGD RUBBER BOOT ON WING. SML HOLES PUNCHED IN IT BY BONES AND BEAKS AS THEY HIT LE OF WING. PATCHED AND DID NOT REPLACE AT THIS TIME.',\n",
       "       'CLEARED TO LAND 9R, SHORT FINAL, 300-200 FT AGL SAW BIRD AT LAST SECOND. TRIED TO AVOID BIRD, MISSED PROP AND STRUCK RIGHT ABOVE WINDSHIELD AND TOP OF FUSELAGE ON PILOT SIDE. NO AFFECT ON A/C. LANDED A/C, TAXIED TO RAMP TO INSPECT DMG. ONLY SMALL SCUFF MA',\n",
       "       'IMPACT DMG TO L UPPER WING SURFACE.',\n",
       "       'HIT SEVERAL MED SIZED BIRDS ON CLIMBOUT. A/C GAVE NO INDICATION OF ENG OR FLT CONTROL ABNORMALITIES. BUT AS A PRECAUTION WE RETD TO SMF FOR LDG. REPLACED L KRUGER FLAP. OTHER COST UNKN. (ARPT REPTD ALT AT 400 FT AND MIGRATING WATERFOWL AND TIME AS 2100)',\n",
       "       'CRACKED INBOARD FLAP IN TWO PLACES.',\n",
       "       'TWR CLOSED. LDG ABOUT 2355 PST. BIRD CROSSED IN FRONT OF A/C DURING LDG ROLLOUT AND HIT L WING OTBD OF ENG NACELLE. FOUND REMAINS ON L WING LEADING EDG EAND A TEAR IN THE DE ICE BOOT OF 1/4 INCH. REMAINS WERE COLLECTED BY THE FIRE DEPT. OUTBOUND FLT WAS C',\n",
       "       'ID BY SMITHSONIAN. BOTH SETS OF REMAINS SAME SPECIES. PILOT  REPTD SEEING 2 BIRDS IN HIS PATH & FELT A VIBRATION IN THE RT ENG. THE GENERATOR WAS MALFUNCTIONING. A PAX REPTD SEEING A FIREBALL AND SMELLING SOMETHING BURNING.  EMERGENCY LDG. #2 ENG WAS SEVE',\n",
       "       'DURING LDG ROLL, 3 DEER ENTERED THE RWY FROM LEFT SIDE AT A FAST PACE MOVING TOWARD THE CENTERLINE A FEW SECONDS LATER 1 DEER WAS STRUCK. THE NOSE GEAR COLLAPSED . A/C EXITED THE RWY. A/C WAS EVACUATED AND RWY CLOSED FOR OVER 3 HRS. RT LEADING EDGE AND UN',\n",
       "       'DAMAGED TWO ROTOR BLADES',\n",
       "       'ID BY SMITHSONIAN FAA 2659. EVENT 19733. BIRD LOOKED LIKE A LARGE HAWK. I SAW THE BIRD FLASH BY ON LEFT SDIE ON 8 MILE FINAL. I DID NOT THINK I HIT IT. THERE WAS NOT SOUND OF IMPACT AND ENG INDICATIONS WERE NORMAL. MX SAID IT WAS A DIRECT HIT IN THE LEFT',\n",
       "       'TWO SPECIES. FIVE MOURNING DOVES AND ONE AMER KESTREL. ATIS WARNING. OPS COLLECTED AND ID REMAINS AT 0540 AFTER ATCT REPTD STRIKE. ARPT REPTD NO DMG TO A/C BUT LATER FILING BY AIRLINE REPORTED REPLACED ENGINE BLADES IN #1 ENG.',\n",
       "       'ID BY SMITHSONIAN, FAA 1334. CAPT SAW BIRD SITTING ON RWY AS A/C ROLLED OUT. THE BIRD ATTEMPTED TO FLY AS THE A/C PASSED IT. A THUMP WAS HEARD AND CAPT SHUT DOWN THE #2 ENG WHICH WAS OVERHEATING.  COMPRESSOR WAS REPLACED PHOTOS TAKEN. DMG ESTIMATED BTWN $',\n",
       "       'missing',\n",
       "       'PILOT REPTD FLYING THRU A FLOCK OF SML BIRDS AND HIT AT LEAST 3. EVIDENCE FOUND IN 31 ENG. BORESCOPED. ESTIMATED COST $140',\n",
       "       \"BIRDSTRIKE ON ROTATION. IMMEDIATELY GOT STICK SHAKER AND IAS DISAGREE WARNINGS. F/O AIRSPEED WAS 60 KNOTS LESS THAN CAPT AND STANDBY INDICATORS. DURING VECTORS FOR A DOWNWIND RETURN TO OAK, BOTH EEC'S WENT TO ALTERNATE MODE. WE THEN EXPERIENCED A LOSS OF\",\n",
       "       'TAKEOFF IMMEDIATELY AFTER ROTATION AND LIFT OFF RWY 6. WE SAW A FLOCK OF APPROX 20-30 CANADA GEESE FLY UP FROM L SIDE OF RWY 6 SHORTLY AFTER REACHING V1. BIRDS THEN FLEW DIRECTLY ACROSS RWY FROM L-R. WE COULD NOT ABORT T/O AND TRIED TO ROTATE QUICKLY ENOU',\n",
       "       'ID BY SMITHSONIAN. BIRD STRUCK DURING LANDING RWY 25L WITH MINOR DMG ON #1 ENG REPTD BY CONTRACTED EXCEL MX.',\n",
       "       'NO DMG. COST FOR INSPN.',\n",
       "       'SAW POSSIBLE DEER ON 1ST LDG APCH. CONDUCTED DEER PASS IN ATTEMPT TO SCARE AWAY DEER. NONE SEEN ON 2ND APCH. WHILE LOWERING NOSE AFTER LDG, DEER RAN TWD L SIDE AND HIT PROP/ENGINE. DEER WAS CUT IN HALF. LWR L SIDE OF COWLING WAS DENTED AND MUFFLER/EXHAUST',\n",
       "       'PAINT CRACKED/PEELED OFF OUTBOARD EDGE OF RT MAIN GEAR DOOR. NO APPARENT FIBERGLASS DMG.',\n",
       "       'BIRD HIT RT LE OF WING. DAMAGE DID NOT AFFECT FLIGHT CHARACTERISTICS. RAVENS FREQUENTLY ARE NEAR S END BOUNDARY OF  ARPT. FLY NEAR POND 1/8 MI S OF RWY 21/3. REPTD AS RAVEN, ASSUME COMMON.',\n",
       "       'PILOT WAS WARNED ABOUT A HERD OF DEER  ON THE RWY WHILE ATTEMPTING TO LAND. A/C AVOIDED MOST OF THE HERD BUT HIT 1 WITH LEFT MAIN LDG GEAR. DIVERTED TO BHM ABOUT 20 MILES AWAY WITH BENT L MAIN LDG GEAR. LANDED RWY 36 ON RT MAIN LDG GEAR, SKIDDED OFF RWY.',\n",
       "       'DID GO AROUND UFR PATTERN. RETURNED FOR LDG. GO AROUND DUE TO OTHER BIRDS. LEFT FLAP HAD EXTENSIVE DMG.',\n",
       "       \"ID BY SMITHSONIAN, FAA 4032. BIRD SPLATTERED ON F/O'S SIDE OF WINDSHLD BREAKING WIPER BLADE. UNKN AT THIS TIME IS WINDSHLD WILL HAVE TO BE REPLACED.\",\n",
       "       'NOSE GEAR HIT A COYOTE AND COLLAPSED. A/C SKIDDED TO STOP ON RWY. PROPELLERS WENT THRU SKIN OF A/C. MAY NOT BE REPAIRABLE. A/C WILL BE TOTALLED.',\n",
       "       'F/O SAW BIRD GO UNDER NOSE ON SHORT FINAL. ENTIRE CREW HEARD IMPACT. COST FOR 1 HR INSPN.',\n",
       "       '2 MEN INJURED WITH CUTS IN FACE. EMERGENCY LANDING.',\n",
       "       'AS FLT 1701 WAS ON APRCH TO KDCA, 2 SMALL BLACK BIRDS WERE SEEN AND ONE STRUCK ON THE WINDSCREEN. NO DMG TO EQUIPMENT.',\n",
       "       'ENG FUNCTION NORMAL FROM IMPACT TO T/D AND PARKING. R1 ENG WAS AT IDLE. NO DMG. COST WAS FOR FLYING MECHANICS IN AND OTHERS OUT.',\n",
       "       'INGESTED BIRD ON T/O. DAMAGED FAN BLADES. LANDED W/O INCIDENT. ID BY SMITHSONIAN. FAN SECTION REPLACED. ACOUSTIC LINER DMG BORESCOPED ENG, OKAY. ODOR IN CABIN. ENG PARA NORMAL BUT ENG SOUNDED ODD.',\n",
       "       'BIRD NEVER SEEN ONLY FELT AND HEARD AFTER IMPACT. IMPACT ON UPPER RT SIDE OF RADOME. RADOME SUSTAINED STRUCTURAL DMG (SOFT SPOT) AND WAS OUT OF SERVICE FOR APPROX 12 HRS. LOCATION REPTD AS APPROX 10 MILES TO NW JUST PRIOR TO ENTERING RT TRAFFIC FOR VISUAL',\n",
       "       'F/O WAS FLYING. ABOUT 2 MI FROM T/D BIRD HIT JUST BELOW CENTER OF WINDSHLD. REMAINS SPREAD OUT UPWARD. BIRD WAS BOUT 8\" BEAK TO TAIL. COST WAS FOR 1HR INSPN.',\n",
       "       'missing',\n",
       "       '#2 ENG INLET DMG (COWLING DENTED ABOUT 12\" BY 4\" BY 3\" DEEP. NOT SUBSTANTIAL DMG. PILOT SAW LRG BLACK LOOKING BIRD, POSSIBLE GOOSE. NO REMAINS COLLECTED. STRIKE WAS ABOUT 1 MILE OFF ARPT PERIMETER.',\n",
       "       \"BIRD WAS GRAY WITH 2' WINGSPAN. UPON LIFT-OFF, PILOT REPTD BIRD STRIKE & REQSTD TO RETURN FOR LDG WITH EQUIPMENT STANDING BY.  LANDED W/O INCIDENT. PILOT REPTD SOME ENG DMG.\",\n",
       "       'NO DMG. PREC ENG INSPN AT DESTINATION.',\n",
       "       \"ON SHORT FINAL, CAPT HEARD A BANG, AIRSPEED DROPPED 40 KTS, WINDSHEAR WARNING SOUNDED. CAPT CHECKED F/O'S AIRSPEED AND HIS LOOKED NORMAL. CAPT CONTD APCH AND LDG. PITOT TUBE WAS REPLACED. TOOK 2 MAN HRS.\",\n",
       "       'LIGHT GRAY/BROWN BIRD, PERHAPS TERNS. NO VISIBLE DMG TO ENG. STRONG FOUL SCENT IN AIR CONDITIONING LIKE BURNING SEWAGE. TIME OUT OF SERVICE 1/2 HR. ARPT BIO HAD NO INFORMATION ON THIS.',\n",
       "       'ATIS WARNING. SAW BIRD BEFORE IMPACT BUT UNABLE TO AVOID. BIRD REPTD AS \"BIRD LOOKS LIKE A SMALL HAWK\". UPWIND.',\n",
       "       'missing', 'FLAP DAMAGED',\n",
       "       'STRUCK TOP OF FUSELAGE. DMG TO SKIN, SUPPORTING BULKHEAD, ELT ANTENNA. PHOTO. LOCATION REPTD AS 8NM NNE OF ARPT.',\n",
       "       'BIRD HIT JUST OTBD OF RT FUEL TANK. LARGE DENT IN TOP LE OF RT WING. FLT CHARACTERISTICS NOT AFFECTED. COMPLETED APCH TO A PREC LDG. NOT PUNCTURES.',\n",
       "       \"HEARD A THUMP BELOW PILOT'S WINDOW. FOUND RED STREAK ON POST FLT INSPN. ABOUT 2 X 10 INCHES. ENGS NORMAL.\",\n",
       "       'MINOR DAMAGE. BIRD CRACKED GEL COAT ON LEFT ENG COWLING.',\n",
       "       'AT START OF TAKE OFF ROLL, THEY PASSED THRU A FLOCK OF SNOW BUNTINGS. ABORTED T/O AND TAXIED BACK TO THE GATE. NO VISIBLE SIGNS OF A STRIKE. ONE CARCASS WA FOUJND ON RWY. LOCAL MX WAS CALLED TO CHECK OUT ENGINES. NOTHING FOUND. 101 MINUTE DELAY.  NO PAX R',\n",
       "       'LINING UP ON 10 MILE FINAL AT 3000 FT MSL. HERD/FELT THUD AT OUR FEET. NEVER SAW BIRDS. POSTFLT INSPN DISCOVERED BLOOD SPLATTER BOTTOM RT SIDE NOSE JUST UNDER COCKPIT. NO APPARENT DMG NOTED. MX INSPN CONFIRMED NO DMG. BLOOD SMEAR ONLY EVID. TYPE OF BIRD U',\n",
       "       'ID BY SMITHSONIAN, FAA 3965. WHOLE FEATHER AND DNA. ATCT NOTIFIED ARPT OPS OF STRIKE. BOTH ENGINES INGESTED BIRD(S). DMG TO LEFT MAIN INBD FLAP. A/C FERRIED AT 1030 ON 12/20. CANCELLED FLT WAS $50,000, REPAIRS WERE $124,740.',\n",
       "       '1 PROP BLADE BENT, NACELLE AND WING HAVE SEVERAL DENTS AND A SMALL HOLE ON UNDERSIDE OF WING. RT MAINT GEAR OTBD DOOR IS PARTIALLY SHEARED OFF. A/C NOT AIRWORTHY.',\n",
       "       'POSSIBLY GULL. BIRD HIT WINDSHLD ON PILOT SIDE AND SHATTERED IT. PIECES OF PLASTIC WERE SPREAD THRUOUT CABIN. A PIECE HIT THE HYDRAULICS OFF SWITCH BUT WAS IDENTIFIED AND TURNED BACK ON APPROX 100 FT AGL. I RECEIVED A SMALL CUT ON THE LEG.',\n",
       "       'ID BY SMITHSONIAN, FAA 2743. 100% DNA MATCH. STRIKE WAS REPORTED. RT WING HAD A BIG DENT AND PUNCTURE. RT SLAT WAS REPLACEDBIRD FIRST REPORTED AS AN EAGLE. SNARGE WAS COLLECTED AND SENT FOR ID. PHOTOS.',\n",
       "       'ID BY SMITHSONIAN FAA 128. LH OIL COOLER PLUGGED WITH REMAINS OF INGESTED BIRD. CLEANED FAN COWL, BLADES, STATOR BLADES AND FAN CORE. BORESCOPED #1 ENG. (TWR REPTD #2 ENG AND THAT A/C WAS TAKEN OUT OF SERVICE TO CHANGE THE ENG). REPLACED ENTIRE SET OF FAN',\n",
       "       'NO DMG',\n",
       "       'BIRDSTRIKE WAS OVER EVERGLADES 11 SM WEST OF ARPT. BIRD LEFT A SMUDGE ON NOSE, WINDSHLD. NO DMG REPTD BY AIRLINE MX. BIRD REPTD AS SPARROW AND SWALLOW.',\n",
       "       'JUST AFTER ROTATION CLIMBING THRU OVERCAST LAYER. PAX FROM BACK NOTIFIED ME AND PT TO RT ENG. ALL ENG GAUGES NORMAL BUT VISUAL OF RT ENG A HEAVY LAYER OF OIL ENVELOPING IT AND GUSHING FROM FRONT OF ENG. IMMED REQUESTED RETURN TO KBPT AND ON ROLLOUT SHUR D',\n",
       "       'missing', 'CROW? RT WING LE DAMAGED. COST RANGE $10-15,000.',\n",
       "       'ID BY SMITHSONIAN, FAA 3791. DNA. BOEING TEST FLT FOR JAL B 777. HIT HAWK ON FINAL. PILOTS REPORTED SEEING THE BIRD BUT DID NOT HEAR/FEEL THE STRIKE. THEY DID NOT REPORT TO ATCT.  THEY FOUND THE STRIKE EVIDENCE AFTER LANDING. BIRD REMAINS IDENTIFIED BY WS',\n",
       "       \"ARPT BIOL ID'D BIRD. PITOT TUBE DAMAGED AND REPLACED. PART WAS $11,207, LABOR $210, COST FOR AMMENITIES (HOTELS ETC) WAS $1800. NON-MAINTENANCE OPERATIONAL COST WAS $1300. OUTBOUND FLT DELAYED 3 HRS.\",\n",
       "       'HIT #1 ENG ITT PROBE. DAMAGED MANY FAN BLADES. ENG REPLACED. OVERWT LDG INSPN. 3 WEEKS OUT OF SVC. (DATA ENTRY NOTE: BIRD REPTD AS DOVE, ASSUME MOURNING DOVE FROM WS BIOL INFO. NO CONFIRMATION ABOUT SPECIES, HOWEVER.)',\n",
       "       'SAW BLUR LESS THAN 1 SECOND BEFORE IMPACT. CLEAR, MOONLIT NIGHT. BIRD CAME FROM DARK, FOREST AREA. HIT RT WING JUST OUTSIDE RT FUEL TANK. DMG TO RT WING. BELIEVE IT WAS A CANADA GOOSE.',\n",
       "       'TIME OUT OF SERVICE 0.4 HRS.',\n",
       "       'LH INBD SLAT ON WING WILL BE REPLACED. GULL? NO FEATHERS SAVED.',\n",
       "       'missing',\n",
       "       'PILOTS REPTD INGESTING A BIRD IN RT ENG DURING DEPTR. ENG SHUT DOWN BUT RESTARTED. A/C RETURNED TO LAND W/O INCIDENT. ENG INSPECTED. NO VIABLE REMAINS FOUND.',\n",
       "       'ID BY SMITHSONIAN. A/C STRUCK SMALL BIRD SHORTLY AFTER LIFTING OFF FROM RWY 16. BIRD STRUCK PROP AND VAPORIZED.',\n",
       "       'BIRD IMPACTED L WING ON CLIMB OUT. NO INJURIES AND PILOT RETURNED TO LAND ON 28R.',\n",
       "       'BIRD HIT AT THE N1 ROTOR BLADE TIP, RESULTING IN DMG TO N1 ROTOR ABRADABLE SHROUD WITH IMPACT DMG TO SEVERAL FIRST STAGE FAN BLADES WHICH WERE REPLACED. SHROUD WAS PATCHED. ENG DID NOT HAVE TO BE CHANGED FOR THIS REPAIR.  OUT OF SVC 2  DAYS. 2 CANCELLED F',\n",
       "       'A/C WAS WRITTEN OFF BY INSURANCE COMPANY AND SOLD AT AUCTION. INCIDENT WAS AT NIGHT AND BIRD TYPE WAS NOT SEEN BUT IS ASSUMED TO BE GEESE OR DUCK BIRD TYPE IS SEEN IN AREA. RWY HAS A POND AND RIVER AREA AT APCH END. BLOOD/TISSUE ON UNDERSIDE OF RT WING. A',\n",
       "       'FLOCK OF BANDED RACING PIGEONS FLEW ACROSS RWY AS WE WERE IN FLARE FOR T/D. 5 WERE HIT. 1 ON WINDSCREEN, 3 ON RT FWD FUSELAGE & 1 ON RT LDG GEAR DOOR. NO INGESTIONS. SLIGHT DENT IN FWD FUSELAGE AND CRACKED PAINT.',\n",
       "       'NO DMG. SMUDGE ON RADOME BUT NO SAMPLE COLLECTED BY MX. WS EMAILED PILOT TO ENCOURAGE HIM TO HAVE A SAMPLE COLLECTED IN THE FUTURE TO HELP DETERMINE SPECIES OF BIRD. LOCATION REPTD AS 14 MILES INTERCEPTING FINAL.',\n",
       "       'DMG TO L WING, LE. THINK IT WAS A WOOD DUCK',\n",
       "       'NO DMG. TOUCHDOWN ZONE. TIME OUT OF SERVICE REPTD AS .20 HRS.',\n",
       "       'HAVING JUST DROPPED THE NOSE WE SAW THREE OSPREYS. THEY HAD COME DOWN FROM THEIR PERCH TO THE RWY. TWO BIRDS HIT. THE ONE ON THE LT WAS HIT BY THE WING AND BOUNCED OFF WITH A BROKEN WING. THE ONE ON THE RIGHT WAS CLIPPED BY DESCENDING BLADE OF PROP. BOTH',\n",
       "       'WHILE ATTEMPTING TO T/O, HIT A DEER. HEARD A LOUD BANG AND SAW A  LRG DARK OBJECT COME OVER THE MID-SECTION OF THE L WING. NEVER SAW A DEER AT ANY TIME DURING MY GROUND OPS.',\n",
       "       'A/C INGESTED LITTLE BLACK BIRDS IN BOTH ENGS CAUSING THEM TO SHUT DOWN WITH MINIMAL ALT AND TIME, A/C DID A FORCED LANDING IN A WHEAT FIELD ABOUT 4 MILES FROM DEPTR ARPT. ON TOUCHDOWN, FIRE BROKE OUT AND DESTROYED THE A/C. PILOT AND CO-PILOT HAD SERIOUS I',\n",
       "       'LOWER SIDE OF #2 ENG INLET WAS DAMAGED',\n",
       "       'ATIS WARNING. BIRDS STOOD N RWY. COLOR CAMOUFLAGED BIRDS. 1 HIT LE OF RT WING TIP, CAUSING DENT.',\n",
       "       \"DENT ON L SIDE RADOME. WITHIN LIMITS.  DON'T RECALL IF ATIS MENTIONED BIRD ACTIVITY. ALL ENTRIES ARE TO THE BEST OF MY RECOLLECTION.\",\n",
       "       'LOCATION REPTD AS APPROX 10 MILES N KIAD. BIRD REPTD AS UNKNOWN ? DUCK.',\n",
       "       'PAX SAW DEER JUST BEFORE IT HIT L WING. PLANE JERKED TO THE LEFT. PILOT KEPT CONTROL. SUBSTANTIAL DMG REPTD. MANAGER WITNESSED DEER & LEFT MINUTES BEFORE INCIDENT.',\n",
       "       'BIRD WAS SEEN ABOVE AIRCRAFT IN DIVE POSITION. HIT PROP FIRST THEN HIT COWLING AND CRASHED THRU WINDSHLD. 1/2 OF BIRD REMAINED IMPALED IN WINDHSLD. OTHER HALF WENT BTWN 2 PILOTS IN FRONT. 1 PERSON I BACK SEAT WAS HIT IN HEAD. 4 PEOPLE ON BOARD NOT HURT. W',\n",
       "       'HIT AT LEAST 3 BIRDS. 11 DAYS OUT OF SVC. #1 ENG HAD A PARTIAL INGESTION WITH NO DMG. PHOTOS. ID BY SMITHSONIAN FAA 662 & 676. DAMAGED RADOME AND NOSE (PEELED UP). DMG L WING. WINDSHLD HAD BLOOD ON IT. HORIZ STABIL DENTED. FLOWN TO TX FOR REPAIRS. SIGNIFI',\n",
       "       'Post flight borescope of the #2 engine revealed damage NRTS. (Engine exchange cost $342747.00 plus $128 labor).  Additional strikes to the #4 flap and left wing leading edge caused no damage.',\n",
       "       '3 CRACKS IN WING ABOVE LEADING EDGE 9\" INBD OF WINGTIP. ARPT MGR SAID THERE HAS NEVER BEEN A BIRDSTRIKE AT THAT AIRPORT.',\n",
       "       'STRONG, GUSTY WINDS. PITOT TUBE WAS STUFFED FULL WITH BIRD REMAINS. FLT RETD TO LAND. ARFF RESPONDED. A/C TAXIED TO RAMP. REPLACED PITOT TUBE.',\n",
       "       'missing',\n",
       "       'ROLLING DOWN RWY 7/25, SAW TWO SMALL KILLDEER BIRDS. STRUCK ONE OR POSSIBLY TWO WITH RADOME. REMAINS AND BLOOD FOUND ON L ENG NACELLE. NO DMG. BOROSCOPED ENG.',\n",
       "       'SPARROW-LIKE BIRD. ENG IN DISASSEBLY NOW. DMG 1,000-2000 DEPENDING ON REPAIR/REPLACEMENT OF FANS/COMPRESSORS',\n",
       "       'BIRD SEEN AND HEARD THAT STRUCK RADOME. UPON INSPN BY MX IT WAS NOTED THAT THERE WAS EVID OF INGESTION INTO COLD SECTION (BYPASS) OF #2 ENG. NO DMG NOTED.',\n",
       "       'BIRD INGESTED. DMG TO 5 FAN BLADES, ENG KEPT OPERATING BUT WITH GREATER THAN NORMAL VIBRATIONS AT HIGHER POWER SETTINGS. MADE PREC 2 ENG LDG. ALL ENG #1 FAN BLADES REMOVED AND REPLACED.',\n",
       "       'PILOT INFORMED WHEN HE WAS ON FINAL APRCH THAT SEA GULLS WERE ON APRCH END OF RWY 1. LT FLAP STRUCK AND DAMAGED. NEEDED TO BE REPLACED.',\n",
       "       'IMMATURE BALD EAGLE. BIRD TRIED TO AVOID A/C ON LDG ROLL. HIT LE OF WING INBD OF #2 ENG. DMG TO LE FLAP.  (BIRD FIRST RETPD AS HAWK). REMAINS BEING SENT TO COLORADO. ID BY WILDLF BIOL. 3000 FT DWON RWY.',\n",
       "       'SAW 3 GEESE. BIRD STRUCK WINDSHLD IN CORDOVA AK, SIGNIF DAMAGE. PART OF THE BIRD CAME INTO THE COCKPIT AND THE REST WAS HANGING OUTSIDE. NO ONE WAS HURT. FLEW IN MECHANICS TO REPAIR.',\n",
       "       'PELICAN WAS COLLECTED FROM END OF RWY 14. STRIKE CAUSED DMG TO ENG INJECTOR. (UPDATED COST 4/23/07)',\n",
       "       \"AS A/C WAS 10' FROM TOUCHDOWN, BIRDS FLEW UP INTO PATH OF LDG A/C. NOT VIZ FROM TWR. ABOUT 15 WERE STRUCK. MINOR DMG TO TRAILING EDGE FLAP.\",\n",
       "       'HIT A BIRD ON SHORT FINAL. MINOR DAMAGE TO RADOME AND WINDSHLD. LARGE DENT JUST AFT OF RADOME ON L SIDE OF NOSE. SHEETMETAL REPAIRS WERE MADE BY LAX MECHANICS.',\n",
       "       'ATC REPTD STRIKE. FOUND BIRD ON TWY A4. MINOR DENT ON OUTER EDGE OF WING NEAR WINGTIP.',\n",
       "       'DMG TO RT WINT TIP SECTION. I SAW A BLACK SPOT GO BY THE WINDSHLD.',\n",
       "       'HIT 2 OUT OF 4 DEER AFTER THRUST REVERSER DEPLOYMENT. BROKE #2 COMM ANTEANN OFF. VERY MINOR SKIN DAMAGE AT NOSE GEAR.',\n",
       "       'SHORTLY AFTER T/O THE A/C STRUCK A GREAT BLUE HERON. THE BIRD WENT THROUGH THE PROP CUTTING THE BIRD IN HALF. PART OF THE BIRD STRUCK THE WINDSHIELD AND RT WING. NO DMG TO A/C.',\n",
       "       'LESS THAN ONE MILE FROM APRCH END. HEIGHT REPTD AS 300 TO 800 FT. TOOK AVG.',\n",
       "       'NO DMG. ARPT HAD NO INFO ON THIS. HIT 5 SML BIRDS ON DEPTR (ASSUME TAKE OFF RUN). NO REPTD DMG. FLT CONTD.',\n",
       "       'ATIS WARNING IS COMMON FOR THIS TIME OF YEAR. INSPN FOUND NO DMG.',\n",
       "       'missing',\n",
       "       'FOUND BLOOD SPLATTERED ON NOSE GEAR STRUT. A/C OUT OF SERVICE 0:10 HRS',\n",
       "       \"ID BY SMITHSSONIAN. EITHER WESTERN OR CLARK'S GREBE.  DNA ANALYSIS UNABLE TO DISTINGUISH BETWEEN THEM. DOWNWIND FOR RWY 35 BIRD HIT LEFT SIDE OF NOSE CONE. UPON REGAINING CONTROL OF THE A/C. I TURNED BACK TO ORIGINAL HEADING AND SLOWED AIR SPEED TO 60 KTS\",\n",
       "       \"DOVE/PIGEON. HIT PILOT'S EMERGENCY DOOR. INSP REQD BY MX. COST LESS THAN $500. TIME OUT OF SERVICE 1/2 HR.\",\n",
       "       'FOUND EVID OF BIRDSTRIKE, GLANCING BLOW, OUTER EDGE OF NACELLE, RT ENG. NO ABNORMAL ENG INDICATIONS. NO SMELL IN CABIN. MX INSPN FOUND NO DMG. ONLY SAW 2 BIRDS. APPARENTLY HIT ONE.',\n",
       "       'NO DMG NOTED. ENG INDICATIONS NORMAL. MX ACTION PERFORMED AT DEST. ATIS WARNING. LOCATION REPTD AS APPROX 5 MILES.',\n",
       "       'missing',\n",
       "       'ID BY SMITHSONIAN, FAA 3970. BIRDSTRIKE ON FINAL APCH.  FLT CREW LEFT BEFORE PROVIDING ANY INFORMATION. 2 FAN BLADES WERE REPLACED BEFORE A/C WAS RETURNED TO SERVICE. A/C DEPTD 12/19 AT APPROX 1230.',\n",
       "       'missing', 'NO DMG. SPOT ON WINDSHLD 12\" X 6 \".',\n",
       "       'RT ENG REMOVED & DISASSEMBLED FOR REMOVAL OF FEATHERS IN COMPRESSOR & DMG INSPN. ENG WAS NOT DMGD, BUT COST $40,000 FOR INSPN. RADOME AND RADAR ANTENNA WERE DAMAGED, COST $17,000. ID BY SMITHSONIAN FAA 701.',\n",
       "       'ID BY SMITHSONIAN. FAA 6862, WHOLE FEATHER. BIRD ON RWY DURING ROLLOUT. FLEW UP AS WE NEARED. FLEW BY CAPT WINDOW AND INTO ENGINE. THRUST REV WERE ALREADY DEPLOYED. ONE OF SEVERAL BIRD ON RWY AT THAT TIME. NO ENG DMG. BIRD WENT THRU FAN AND BYPASS DUCT. C',\n",
       "       '8 FAN BLADES BENT COMBUSTION CHAMBER ALSO DAMAGED. LANDED W/O INCIDENT. DID A 1ST STAGE FAN CHANGE.',\n",
       "       'HERD OF DEER KNOWN TO LIVE ON/AROUND ARPT. NUMBER OVER 20. PILOT SAID DMG WAS MINOR BASED ON ICAO DEFINITION. SLIGHTLY BENT PROPELLER, BENT FLAP AND DENT IN LEADING EDGE.  ENG HAD TO BE DISASSEMBLED AND INSPECTED.(AAIPN FORM SAID SUBSTANTIAL AS DID DAILY',\n",
       "       'HIT DEER CROSSING RWY JUST AFTER LDG. HIT MID RT WING, DMG TO WING, FLAPS AND WHEEL BOOT. NO INJURIES.',\n",
       "       'A/C RETD TO LAND AFTER REPORTING A BIRDSTRIKE. ARFF RESPONDED. REPTD DMG TO RADOME. TAXIED TO RAMP W/O INCIDENT. (DATE ALSO REPTD AS OCT 11 ON 5200-7) (DATA ENTRY NOTE: BIRD REPTD AS GOOSE, ASSUME CANADA FROM DATE AND LOCATION.)',\n",
       "       'ID BY SMITHSONIAN. PILOT REPORTED SEEING 3 GULLS OFF RT SIDE OF RWY, HEARD A THUMP BUT DID NOT NOTICE ANY CHANGE.  WITNESSED STRIKE BUT ONLY THOUGHT BIRD HIT THE WING. FLT CONTD TO LAX. MX COLLECTED BIRD FROM #2 ENG AND TURNED REMAINS OVER TO WS BIOL TO R',\n",
       "       'Bird impacted between the #7 and #8 engine with some remains injested in the #7 engine.  Borescope revealed no damage. The right teardrop radome replaced due to damage($5896.34)\\r\\n                labor  $  16.00\\r\\n                Cost   $5902.34',\n",
       "       'DMG TO AIRGROUND INDICATING SENSOR LOCATED ON L MAIN LDG GEAR.  ESTIMATED COST 1,000- 2,000.',\n",
       "       'POSSIBLE GULL HIT RT WING LE OTBD AREA AT RECOGNITION LIGHT.  BROKEN LENS, BULB AND ASSEMBLY.  MINOR SKIN DMG IN AREA WHERE LENS ATTACHED TO WING SKIN.',\n",
       "       'PITOT TUBE PLUGGED. SMALL MARK ON NOSE. NOSE DAMAGE. TIME OUT OF SVC 1/2 HR.',\n",
       "       'HIT 4-7 GEESE AT ROTATION NEAR INXTN OF RWY 5/23 AND RWY 13/31. A/C ABORTED T/O AND TAXIED BACK TO RAMP. COSMETIC DMG.',\n",
       "       'ID BY SMITHSONIAN, FAA 2562. TIME OUT OF SERVICE 0.2 HRS. INSPN COST $100.',\n",
       "       'BELIEVED TO BE WESTERN GULLS. ENG RAN ROUGH AFTER INGESTION. VIBRATION & EXCESSIVE NOISE. EMERGENCY DECLARED. 4 BENT FAN BLADES. 8 FAN BLADES REPLACED.  LANDING UNEVENTFUL.',\n",
       "       'HIT UNSEEN BIRD ENTERING DOWNWIND LEG AT PATTERN ALT. FLT CHARACTERISTICS SEEMED NORMAL ON LDG. NO REMAINS FOUND.',\n",
       "       'COULD NOT SEE DMG ON INSPN AFTER LANDING. LEARNED OF DMG ON SUBSEQUENT DEPARTURE WHEN VIBES WERE HIGH.',\n",
       "       'ALLEGED BIRDSTRIKE ON TOUCHDOWN. BIRD SEEN AND FELT BUT NO EVIDENCE FOUND. A/C OUT OF SERCIVE 6 MINUTES.',\n",
       "       'STRIKE AT INTXN OF RWY 20 & TWY F. AT 1839. CARCASS RECOVERED. RADOME WAS TAPED. A/C RETD TO HNL WITH FLT CREW ONLY. INGESTION IN #1 ENG ACCORDING TO AIRLINE. NO DMG TO ENG.',\n",
       "       \"ID BY SMITHSONIAN. LEVEL AT 6,000' BEING VECTORED TO ARPT, SAW IT ENTER THE CONE OF LDG LIGHT AND STRIKE RADOME. NO EFFECT ON CONTROL OF A/C.\",\n",
       "       'A/C LIGHT WAS BROKEN.',\n",
       "       'PROP DAMAGED, ENG TO BE TORN DOWN AND INSPECTED, GEAR DOOR DAMAGED AND DEPARTED A/C. (REPTD AS DEER, ASSUME WHITE-TAILED DEER FROM LOCATION)',\n",
       "       'ID BY SMITHSONIAN, FAA 3589. FLOCK OF BIRDS WAS EITHER SITTING OR WALKING ACROSS RWY AND TOOK FLT WHEN THE A/C ENTERED THE LANDING FLARE. ABOUT 10-20 BIRDS WERE STRUCK. COWLING WAS REPLACED AS WELL AS LANDING GEAR SYSTEM.',\n",
       "       'WE WERE FLYING THE ELDEE FOUR RNAV ARRIVAL INTO DCA. BTWN ELDEE AND DMALL WE WERE GIVEN A DESCENT TO 6000 FT MSL. AIRSPEED WAS 250 KIAS. DURING DESCENT THE F/O SAW A VERY LGR BIRD FLASH PAST. IT WAS BRIEFLY ILLUMNATED IN THE LDG LIGHTS AND APPEARED TO BE',\n",
       "       'A/C WAS OUT OF SERVICE < 1 HR.', 'NO PHOTOS TAKEN OF DMG',\n",
       "       'HIT L WING LEADING EDGE ABOVE PITOT TUBE. PUSHED IN A BIT. REPLACING SKIN SECTION SINCE IT CAUGHT A RIB AND PATCHING ACROSS THE RIB WOULD BE DIFFICULT OR PROHIBITIVE.',\n",
       "       'WE CONTD 25 MIN FLT TO PDK BECAUSE THERE WAS NO INDICATION OF ANY PROBLEM ON ENG INSTRUMENTS. BIRD WAS NOT SEEN UNTIL IT WAS TOO LATE TO REACT. LEFT ENG NACELLE WAS DENTED. PHOTO SENT FEATHERS STICKING OUT OF SEAM..',\n",
       "       'NO DMG. STRIKE ON OUTSIDE OF LEFT ENG COWL. SOME REMAINS FOUND ON RT MAIN LDG GEAR. COST FOR INPSN',\n",
       "       'IMMEDIATELY AFTER T/D AND AFTER AIRBRAKES WERE DEPLOYED 3 DEER WERE SEEN ON RWY. 1 HIT OUR L MAIN LDG GEAR AND L INBD FLAP. CONTD LDG ROLL & STOPPED  NORMALLY. ALL FLT CONTROLS WERE LEFT N THE  LDG CONFIGURATION AND TAXIED TO THE RAMP. NO INJURIES. REMOVE',\n",
       "       \"ID BY SMITHSONIAN. BIRDSTRIKE TOOK PLACE ON THE SHORELINE NEAR ARPT BOUNDARY. 3 PELICANS STRUCK WINDSHLD AND DOOR DOING DMG TO BOTH. REPLACED WINDSCREEN AND PILOT'S SIDE WINDOW. MINOR AIRFRAME REPAIR.\",\n",
       "       '8 BLADES DAMAGED. BENT BLADES. CANOE DAMAGE. COMPRESSOR BLADES DAMAGED AND L WING FLAP TRACK CANOE FAIRING DAMAGED WITH LGR DENT AND A 4 IN CRACK. ENG REMOVED & REPLACED.',\n",
       "       'ON APCH, BIRD HIT RT WING LE INBD OF TIP TANK. RT ON RIB. PLANE STILL FLYABLE.',\n",
       "       'ID BY SMITHSONIAN. 1 BIRD SEEN IN LANDING LIGHTS JUST BEFORE IMPACT ON WINDSHLD.',\n",
       "       'ON SHORT FINAL, IN OVERCAST AND FOG AND JUST AFTER ACQUIRING RWY ENVIRONMENT VISUALLY, A LRG FLOCK OF BIRD APPEARED DIRECTLY IN OUR FLT PATH. WE HIT SEVERAL BUT LANDED UNEVENTFULLY. THERE WERE AT LEAST 14 SEPARATE STRIKES DISTRIBUTED EVENLY AROUND THE PLA',\n",
       "       '10 MILE FINAL. DATA ENTRY NOTE: # STRUCK NOT REPTD, ASSUME 1, SAME AS # SEEN.',\n",
       "       'STRIKE WAS AT TOUCHDOWN. BIRD PUNCTURED WING AT STALL WARNING HORN',\n",
       "       'HIT BIRD ON DEPTR END OF RWY. DMG TO #2 ENG. PILOT DECLARED AN EMERGENCY AND DIVERTED TO LOVE FIELD. LANDED W/O INCIDENT.  APPEARED TO HAVE BENT 2 FAN BLADES. BIRD WAS DARK BROWN.',\n",
       "       'EXTENSIVE DMG. SKIN DAMAGE AND BULKHEAD.',\n",
       "       'PILOT HEARD A LOUD THUMP BLOW AND AFT OF RADOME DURING DESCENT PASSING 8,000 FT MSL. POST FLT INSPN FOUND BLOOD SMEAR JUST FWD OF POWER ACCESS DOOR ON LWR RT SIDE OF RADOME. NO DMG.',\n",
       "       'HIT 2 HERRING GULLS. PLANE TAXIED TO MILLIONAIRE AND WAS LEFT FOR PRECAUTIONARY REASONS. PILOT REPTS NO APPARENT DMG. FOLLOW UP CONFIRMED NO DMG, COST WAS FOR INSPN.',\n",
       "       'ID BY SMITHSONIAN, FAA 2747.  100% DNA MATCH.A/C WAS DEPARTING AND HIT THE BIRD ON CLIMBOUT. RETURNED TO ARPT. A/C WAS TAKEN OUT OF SERVICE. PAX WERE MOVED TO OTHER A/C. DAMAGED NOSE GEAR DOOR.',\n",
       "       'ID BY SMITHSONIAN. BIRD HIT NOSE GEAR AND DAMAGED HYDRAULIC LINES. REMAINS COLLECTED. MX PROVIDED DOWNTIME. A/C WAS DELAYED FOR NEXT FLT. NOSE GEAR STEERING WAS DISABLED. A/C  HAD TO BE TOWED TO THE APRON.',\n",
       "       'STRIKE WAS 4 MILES E ORD. SEVERAL STRIKES. REMOVED SOME FEATHERS & GAVE TO SMC. (data entry note: feathers never turned in for ID) BORESCOPED #2 ENG. OTBD CORE COWL HAS BENT TIP AT UPPER FWD EDGE. DMG TO RADOME, L WING LE & VERTICAL FIN. REPLCD LWR RT PIT',\n",
       "       'REPLACED RADOME ASSEMBLY, WX RADAR DISH AND DRIVE ASSEMBLY FOR RADAR. PHOTO OF RADOME ATTACHED. BIRD ID BY R HEINEN.',\n",
       "       'RADOME DENTED WELL BEYOND SERVICEABLE LIMITS. ID BY SMITHSONIAN FAA 435.',\n",
       "       'BOTH ENGS WERE BORESCOPED ON ARRIVAL AT PHX. NO DMG FOUND. COST INCLUDES OUT OF SVC TIME AND LABOR. PILOT REPTD DMG BUT FURTHER INVESTIGATION WITH AIRLINE FOUND THIS WAS NOT TRUE.',\n",
       "       'LANDING LIGHT LENSE.',\n",
       "       'LEADING EDGE OF WING DAMAGED. PHOTOS. PAX SAID THE BIRD WAS VISIBLE DURING THE ENTIRE FLT. A PILOT CAME OUT OF THE COCKPIT TO LOOK.',\n",
       "       'missing',\n",
       "       \"BORESCOPE FOUND NO DMG. PREC LDG. EMERGENCY DELCARED. BIRD INGESTED IN RT ENG. THEY SHUT DOWN THE RT ENG AS A PRECAUTION. A/C WAS 5 MILES NW AT 2500' MSL\",\n",
       "       'RT WING LDG LIGHT BROKEN. NEVER SAW BIRD. SML REMAINS ON LIGHT FIXTURE.'],\n",
       "      dtype=object)"
      ]
     },
     "execution_count": 15,
     "metadata": {},
     "output_type": "execute_result"
    }
   ],
   "source": [
    "new_col(train_set)"
   ]
  },
  {
   "cell_type": "code",
   "execution_count": 16,
   "metadata": {},
   "outputs": [],
   "source": [
    "# Identify the numerical columns\n",
    "numeric_columns = train_inputs.select_dtypes(include=[np.number]).columns.to_list()\n",
    "\n",
    "# Identify the categorical columns\n",
    "categorical_columns = train_inputs.select_dtypes('object').columns.to_list()"
   ]
  },
  {
   "cell_type": "code",
   "execution_count": 17,
   "metadata": {},
   "outputs": [],
   "source": [
    "# Identify the binary columns so we can pass them through without transforming\n",
    "binary_columns = ['Warning']"
   ]
  },
  {
   "cell_type": "code",
   "execution_count": 18,
   "metadata": {},
   "outputs": [],
   "source": [
    "# Be careful: numerical columns already includes the binary columns,\n",
    "# So, we need to remove the binary columns from numerical columns.\n",
    "\n",
    "for col in binary_columns:\n",
    "    categorical_columns.remove(col)"
   ]
  },
  {
   "cell_type": "code",
   "execution_count": 19,
   "metadata": {},
   "outputs": [
    {
     "data": {
      "text/plain": [
       "['Warning']"
      ]
     },
     "execution_count": 19,
     "metadata": {},
     "output_type": "execute_result"
    }
   ],
   "source": [
    "binary_columns"
   ]
  },
  {
   "cell_type": "code",
   "execution_count": 20,
   "metadata": {},
   "outputs": [
    {
     "data": {
      "text/plain": [
       "['Number_Objects', 'Engines', 'Altitude']"
      ]
     },
     "execution_count": 20,
     "metadata": {},
     "output_type": "execute_result"
    }
   ],
   "source": [
    "numeric_columns"
   ]
  },
  {
   "cell_type": "code",
   "execution_count": 21,
   "metadata": {},
   "outputs": [
    {
     "data": {
      "text/plain": [
       "['Aircraft',\n",
       " 'Airline',\n",
       " 'Origin State',\n",
       " 'Phase',\n",
       " 'Description',\n",
       " 'Object Size',\n",
       " 'Weather']"
      ]
     },
     "execution_count": 21,
     "metadata": {},
     "output_type": "execute_result"
    }
   ],
   "source": [
    "categorical_columns"
   ]
  },
  {
   "cell_type": "code",
   "execution_count": 22,
   "metadata": {},
   "outputs": [],
   "source": [
    "feat_eng_columns = ['Engines', 'Number_Objects']"
   ]
  },
  {
   "cell_type": "code",
   "execution_count": 23,
   "metadata": {},
   "outputs": [],
   "source": [
    "text_column = input_data= ['Description']"
   ]
  },
  {
   "cell_type": "code",
   "execution_count": 24,
   "metadata": {},
   "outputs": [],
   "source": [
    "# Be careful: categorical columns already includes the text columns,\n",
    "# So, we need to remove the text columns from numerical columns.\n",
    "\n",
    "for col in text_column:\n",
    "    categorical_columns.remove(col)"
   ]
  },
  {
   "cell_type": "code",
   "execution_count": 25,
   "metadata": {},
   "outputs": [
    {
     "data": {
      "text/plain": [
       "['Aircraft', 'Airline', 'Origin State', 'Phase', 'Object Size', 'Weather']"
      ]
     },
     "execution_count": 25,
     "metadata": {},
     "output_type": "execute_result"
    }
   ],
   "source": [
    "categorical_columns"
   ]
  },
  {
   "cell_type": "markdown",
   "metadata": {},
   "source": [
    "# Pipeline"
   ]
  },
  {
   "cell_type": "code",
   "execution_count": 26,
   "metadata": {},
   "outputs": [],
   "source": [
    "numeric_transformer = Pipeline(steps=[\n",
    "                ('imputer', SimpleImputer(strategy='median')),\n",
    "                ('scaler', StandardScaler())])"
   ]
  },
  {
   "cell_type": "code",
   "execution_count": 27,
   "metadata": {},
   "outputs": [],
   "source": [
    "categorical_transformer = Pipeline(steps=[\n",
    "    ('imputer', SimpleImputer(strategy='constant', fill_value='missing')),\n",
    "    ('onehot', OneHotEncoder(handle_unknown='ignore'))])"
   ]
  },
  {
   "cell_type": "code",
   "execution_count": 28,
   "metadata": {},
   "outputs": [],
   "source": [
    "from sklearn.preprocessing import OrdinalEncoder\n",
    "\n",
    "binary_transformer = Pipeline(steps=[\n",
    "    ('imputer', SimpleImputer(strategy='most_frequent')),\n",
    "    ('encoder', OrdinalEncoder(categories=[['N', 'Y']]))])"
   ]
  },
  {
   "cell_type": "code",
   "execution_count": 29,
   "metadata": {},
   "outputs": [],
   "source": [
    "\n",
    "my_new_column1 = Pipeline(steps=[('my_new_column1', FunctionTransformer(new_col1)),\n",
    "                               ('scaler', StandardScaler())])"
   ]
  },
  {
   "cell_type": "code",
   "execution_count": 30,
   "metadata": {},
   "outputs": [],
   "source": [
    "number_svd_components = 300"
   ]
  },
  {
   "cell_type": "code",
   "execution_count": 31,
   "metadata": {},
   "outputs": [],
   "source": [
    "text_transformer = Pipeline(steps=[\n",
    "                ('my_new_column', FunctionTransformer(new_col)),\n",
    "                ('text', TfidfVectorizer(stop_words='english')),\n",
    "                ('svd', TruncatedSVD(n_components=number_svd_components, n_iter=10))\n",
    "            ])"
   ]
  },
  {
   "cell_type": "code",
   "execution_count": 32,
   "metadata": {},
   "outputs": [],
   "source": [
    "preprocessor = ColumnTransformer([\n",
    "        ('num', numeric_transformer, numeric_columns),\n",
    "        ('cat', categorical_transformer, categorical_columns),\n",
    "        ('binary', binary_transformer, binary_columns),\n",
    "        ('trans', my_new_column1, feat_eng_columns),\n",
    "        ('text', text_transformer,text_column),\n",
    "],\n",
    "        remainder='drop')\n"
   ]
  },
  {
   "cell_type": "markdown",
   "metadata": {},
   "source": [
    "# Transform: fit_transform() for TRAIN"
   ]
  },
  {
   "cell_type": "code",
   "execution_count": 33,
   "metadata": {},
   "outputs": [
    {
     "data": {
      "text/plain": [
       "array([[-1.22997682e-01,  1.49320144e-01,  8.61530209e-01, ...,\n",
       "         9.78352984e-02, -1.14917078e-02, -9.72581495e-02],\n",
       "       [-1.22997682e-01,  1.49320144e-01, -5.29337739e-01, ...,\n",
       "         1.53227731e-03, -4.72851209e-02,  3.02531360e-02],\n",
       "       [-1.22997682e-01,  1.49320144e-01, -5.29337739e-01, ...,\n",
       "         5.63993729e-03, -1.01024312e-02,  5.06883837e-02],\n",
       "       ...,\n",
       "       [-1.22997682e-01,  1.49320144e-01, -5.29337739e-01, ...,\n",
       "        -8.64173963e-04, -3.48075423e-04, -3.25992080e-04],\n",
       "       [-1.22997682e-01,  1.49320144e-01,  3.05183030e-01, ...,\n",
       "         2.69272909e-02, -3.88563964e-02, -1.43000256e-02],\n",
       "       [-1.22997682e-01,  1.49320144e-01,  6.42500200e+00, ...,\n",
       "        -4.46945613e-02,  2.99697558e-03, -1.06586757e-02]])"
      ]
     },
     "execution_count": 33,
     "metadata": {},
     "output_type": "execute_result"
    }
   ],
   "source": [
    "#Fit and transform the train data\n",
    "train_x = preprocessor.fit_transform(train_inputs)\n",
    "\n",
    "train_x"
   ]
  },
  {
   "cell_type": "code",
   "execution_count": 34,
   "metadata": {},
   "outputs": [
    {
     "data": {
      "text/plain": [
       "(847, 664)"
      ]
     },
     "execution_count": 34,
     "metadata": {},
     "output_type": "execute_result"
    }
   ],
   "source": [
    "train_x.shape"
   ]
  },
  {
   "cell_type": "markdown",
   "metadata": {},
   "source": [
    "# Tranform: transform() for TEST"
   ]
  },
  {
   "cell_type": "code",
   "execution_count": 35,
   "metadata": {},
   "outputs": [
    {
     "data": {
      "text/plain": [
       "array([[-0.06074549,  0.14932014, -0.45979434, ..., -0.01200592,\n",
       "        -0.01960757,  0.01006036],\n",
       "       [-0.12299768,  0.14932014, -0.43661321, ..., -0.02141604,\n",
       "        -0.01112644,  0.01344794],\n",
       "       [-0.12299768,  0.14932014, -0.52933774, ...,  0.00382433,\n",
       "         0.00336162, -0.05244516],\n",
       "       ...,\n",
       "       [-0.12299768,  0.14932014, -0.52933774, ..., -0.04852786,\n",
       "         0.02084468,  0.00780351],\n",
       "       [-0.12299768, -1.73835391, -0.52609238, ..., -0.00908029,\n",
       "        -0.01857279,  0.0124783 ],\n",
       "       [-0.12299768,  0.14932014, -0.52701963, ...,  0.05382771,\n",
       "        -0.02859989, -0.00261714]])"
      ]
     },
     "execution_count": 35,
     "metadata": {},
     "output_type": "execute_result"
    }
   ],
   "source": [
    "# Transform the test data\n",
    "test_x = preprocessor.transform(test_inputs)\n",
    "\n",
    "test_x"
   ]
  },
  {
   "cell_type": "code",
   "execution_count": 36,
   "metadata": {},
   "outputs": [
    {
     "data": {
      "text/plain": [
       "(364, 664)"
      ]
     },
     "execution_count": 36,
     "metadata": {},
     "output_type": "execute_result"
    }
   ],
   "source": [
    "test_x.shape"
   ]
  },
  {
   "cell_type": "markdown",
   "metadata": {},
   "source": [
    "## Find the Baseline"
   ]
  },
  {
   "cell_type": "code",
   "execution_count": 37,
   "metadata": {},
   "outputs": [
    {
     "data": {
      "text/html": [
       "<style>#sk-container-id-1 {color: black;}#sk-container-id-1 pre{padding: 0;}#sk-container-id-1 div.sk-toggleable {background-color: white;}#sk-container-id-1 label.sk-toggleable__label {cursor: pointer;display: block;width: 100%;margin-bottom: 0;padding: 0.3em;box-sizing: border-box;text-align: center;}#sk-container-id-1 label.sk-toggleable__label-arrow:before {content: \"▸\";float: left;margin-right: 0.25em;color: #696969;}#sk-container-id-1 label.sk-toggleable__label-arrow:hover:before {color: black;}#sk-container-id-1 div.sk-estimator:hover label.sk-toggleable__label-arrow:before {color: black;}#sk-container-id-1 div.sk-toggleable__content {max-height: 0;max-width: 0;overflow: hidden;text-align: left;background-color: #f0f8ff;}#sk-container-id-1 div.sk-toggleable__content pre {margin: 0.2em;color: black;border-radius: 0.25em;background-color: #f0f8ff;}#sk-container-id-1 input.sk-toggleable__control:checked~div.sk-toggleable__content {max-height: 200px;max-width: 100%;overflow: auto;}#sk-container-id-1 input.sk-toggleable__control:checked~label.sk-toggleable__label-arrow:before {content: \"▾\";}#sk-container-id-1 div.sk-estimator input.sk-toggleable__control:checked~label.sk-toggleable__label {background-color: #d4ebff;}#sk-container-id-1 div.sk-label input.sk-toggleable__control:checked~label.sk-toggleable__label {background-color: #d4ebff;}#sk-container-id-1 input.sk-hidden--visually {border: 0;clip: rect(1px 1px 1px 1px);clip: rect(1px, 1px, 1px, 1px);height: 1px;margin: -1px;overflow: hidden;padding: 0;position: absolute;width: 1px;}#sk-container-id-1 div.sk-estimator {font-family: monospace;background-color: #f0f8ff;border: 1px dotted black;border-radius: 0.25em;box-sizing: border-box;margin-bottom: 0.5em;}#sk-container-id-1 div.sk-estimator:hover {background-color: #d4ebff;}#sk-container-id-1 div.sk-parallel-item::after {content: \"\";width: 100%;border-bottom: 1px solid gray;flex-grow: 1;}#sk-container-id-1 div.sk-label:hover label.sk-toggleable__label {background-color: #d4ebff;}#sk-container-id-1 div.sk-serial::before {content: \"\";position: absolute;border-left: 1px solid gray;box-sizing: border-box;top: 0;bottom: 0;left: 50%;z-index: 0;}#sk-container-id-1 div.sk-serial {display: flex;flex-direction: column;align-items: center;background-color: white;padding-right: 0.2em;padding-left: 0.2em;position: relative;}#sk-container-id-1 div.sk-item {position: relative;z-index: 1;}#sk-container-id-1 div.sk-parallel {display: flex;align-items: stretch;justify-content: center;background-color: white;position: relative;}#sk-container-id-1 div.sk-item::before, #sk-container-id-1 div.sk-parallel-item::before {content: \"\";position: absolute;border-left: 1px solid gray;box-sizing: border-box;top: 0;bottom: 0;left: 50%;z-index: -1;}#sk-container-id-1 div.sk-parallel-item {display: flex;flex-direction: column;z-index: 1;position: relative;background-color: white;}#sk-container-id-1 div.sk-parallel-item:first-child::after {align-self: flex-end;width: 50%;}#sk-container-id-1 div.sk-parallel-item:last-child::after {align-self: flex-start;width: 50%;}#sk-container-id-1 div.sk-parallel-item:only-child::after {width: 0;}#sk-container-id-1 div.sk-dashed-wrapped {border: 1px dashed gray;margin: 0 0.4em 0.5em 0.4em;box-sizing: border-box;padding-bottom: 0.4em;background-color: white;}#sk-container-id-1 div.sk-label label {font-family: monospace;font-weight: bold;display: inline-block;line-height: 1.2em;}#sk-container-id-1 div.sk-label-container {text-align: center;}#sk-container-id-1 div.sk-container {/* jupyter's `normalize.less` sets `[hidden] { display: none; }` but bootstrap.min.css set `[hidden] { display: none !important; }` so we also need the `!important` here to be able to override the default hidden behavior on the sphinx rendered scikit-learn.org. See: https://github.com/scikit-learn/scikit-learn/issues/21755 */display: inline-block !important;position: relative;}#sk-container-id-1 div.sk-text-repr-fallback {display: none;}</style><div id=\"sk-container-id-1\" class=\"sk-top-container\"><div class=\"sk-text-repr-fallback\"><pre>DummyRegressor()</pre><b>In a Jupyter environment, please rerun this cell to show the HTML representation or trust the notebook. <br />On GitHub, the HTML representation is unable to render, please try loading this page with nbviewer.org.</b></div><div class=\"sk-container\" hidden><div class=\"sk-item\"><div class=\"sk-estimator sk-toggleable\"><input class=\"sk-toggleable__control sk-hidden--visually\" id=\"sk-estimator-id-1\" type=\"checkbox\" checked><label for=\"sk-estimator-id-1\" class=\"sk-toggleable__label sk-toggleable__label-arrow\">DummyRegressor</label><div class=\"sk-toggleable__content\"><pre>DummyRegressor()</pre></div></div></div></div></div>"
      ],
      "text/plain": [
       "DummyRegressor()"
      ]
     },
     "execution_count": 37,
     "metadata": {},
     "output_type": "execute_result"
    }
   ],
   "source": [
    "from sklearn.dummy import DummyRegressor\n",
    "\n",
    "dummy_regr = DummyRegressor(strategy=\"mean\")\n",
    "\n",
    "dummy_regr.fit(train_x, train_target)"
   ]
  },
  {
   "cell_type": "code",
   "execution_count": 38,
   "metadata": {},
   "outputs": [],
   "source": [
    "from sklearn.metrics import mean_squared_error"
   ]
  },
  {
   "cell_type": "code",
   "execution_count": 39,
   "metadata": {},
   "outputs": [
    {
     "name": "stdout",
     "output_type": "stream",
     "text": [
      "Baseline Train RMSE: 574386.4093841937\n"
     ]
    }
   ],
   "source": [
    "#Baseline Train RMSE\n",
    "dummy_train_pred = dummy_regr.predict(train_x)\n",
    "\n",
    "baseline_train_mse = mean_squared_error(train_target, dummy_train_pred)\n",
    "\n",
    "baseline_train_rmse = np.sqrt(baseline_train_mse)\n",
    "\n",
    "print('Baseline Train RMSE: {}' .format(baseline_train_rmse))"
   ]
  },
  {
   "cell_type": "code",
   "execution_count": 40,
   "metadata": {},
   "outputs": [
    {
     "name": "stdout",
     "output_type": "stream",
     "text": [
      "Baseline Test RMSE: 482867.49956297135\n"
     ]
    }
   ],
   "source": [
    "#Baseline Test RMSE\n",
    "dummy_test_pred = dummy_regr.predict(test_x)\n",
    "\n",
    "baseline_test_mse = mean_squared_error (test_target, dummy_test_pred)\n",
    "\n",
    "baseline_test_rmse = np.sqrt(baseline_test_mse)\n",
    "\n",
    "print('Baseline Test RMSE: {}' .format(baseline_test_rmse))"
   ]
  },
  {
   "cell_type": "markdown",
   "metadata": {},
   "source": [
    "# Section 2: \n",
    "\n",
    "Build the following models:\n"
   ]
  },
  {
   "cell_type": "markdown",
   "metadata": {},
   "source": [
    "## Decision Tree: "
   ]
  },
  {
   "cell_type": "code",
   "execution_count": 80,
   "metadata": {},
   "outputs": [
    {
     "data": {
      "text/html": [
       "<style>#sk-container-id-15 {color: black;}#sk-container-id-15 pre{padding: 0;}#sk-container-id-15 div.sk-toggleable {background-color: white;}#sk-container-id-15 label.sk-toggleable__label {cursor: pointer;display: block;width: 100%;margin-bottom: 0;padding: 0.3em;box-sizing: border-box;text-align: center;}#sk-container-id-15 label.sk-toggleable__label-arrow:before {content: \"▸\";float: left;margin-right: 0.25em;color: #696969;}#sk-container-id-15 label.sk-toggleable__label-arrow:hover:before {color: black;}#sk-container-id-15 div.sk-estimator:hover label.sk-toggleable__label-arrow:before {color: black;}#sk-container-id-15 div.sk-toggleable__content {max-height: 0;max-width: 0;overflow: hidden;text-align: left;background-color: #f0f8ff;}#sk-container-id-15 div.sk-toggleable__content pre {margin: 0.2em;color: black;border-radius: 0.25em;background-color: #f0f8ff;}#sk-container-id-15 input.sk-toggleable__control:checked~div.sk-toggleable__content {max-height: 200px;max-width: 100%;overflow: auto;}#sk-container-id-15 input.sk-toggleable__control:checked~label.sk-toggleable__label-arrow:before {content: \"▾\";}#sk-container-id-15 div.sk-estimator input.sk-toggleable__control:checked~label.sk-toggleable__label {background-color: #d4ebff;}#sk-container-id-15 div.sk-label input.sk-toggleable__control:checked~label.sk-toggleable__label {background-color: #d4ebff;}#sk-container-id-15 input.sk-hidden--visually {border: 0;clip: rect(1px 1px 1px 1px);clip: rect(1px, 1px, 1px, 1px);height: 1px;margin: -1px;overflow: hidden;padding: 0;position: absolute;width: 1px;}#sk-container-id-15 div.sk-estimator {font-family: monospace;background-color: #f0f8ff;border: 1px dotted black;border-radius: 0.25em;box-sizing: border-box;margin-bottom: 0.5em;}#sk-container-id-15 div.sk-estimator:hover {background-color: #d4ebff;}#sk-container-id-15 div.sk-parallel-item::after {content: \"\";width: 100%;border-bottom: 1px solid gray;flex-grow: 1;}#sk-container-id-15 div.sk-label:hover label.sk-toggleable__label {background-color: #d4ebff;}#sk-container-id-15 div.sk-serial::before {content: \"\";position: absolute;border-left: 1px solid gray;box-sizing: border-box;top: 0;bottom: 0;left: 50%;z-index: 0;}#sk-container-id-15 div.sk-serial {display: flex;flex-direction: column;align-items: center;background-color: white;padding-right: 0.2em;padding-left: 0.2em;position: relative;}#sk-container-id-15 div.sk-item {position: relative;z-index: 1;}#sk-container-id-15 div.sk-parallel {display: flex;align-items: stretch;justify-content: center;background-color: white;position: relative;}#sk-container-id-15 div.sk-item::before, #sk-container-id-15 div.sk-parallel-item::before {content: \"\";position: absolute;border-left: 1px solid gray;box-sizing: border-box;top: 0;bottom: 0;left: 50%;z-index: -1;}#sk-container-id-15 div.sk-parallel-item {display: flex;flex-direction: column;z-index: 1;position: relative;background-color: white;}#sk-container-id-15 div.sk-parallel-item:first-child::after {align-self: flex-end;width: 50%;}#sk-container-id-15 div.sk-parallel-item:last-child::after {align-self: flex-start;width: 50%;}#sk-container-id-15 div.sk-parallel-item:only-child::after {width: 0;}#sk-container-id-15 div.sk-dashed-wrapped {border: 1px dashed gray;margin: 0 0.4em 0.5em 0.4em;box-sizing: border-box;padding-bottom: 0.4em;background-color: white;}#sk-container-id-15 div.sk-label label {font-family: monospace;font-weight: bold;display: inline-block;line-height: 1.2em;}#sk-container-id-15 div.sk-label-container {text-align: center;}#sk-container-id-15 div.sk-container {/* jupyter's `normalize.less` sets `[hidden] { display: none; }` but bootstrap.min.css set `[hidden] { display: none !important; }` so we also need the `!important` here to be able to override the default hidden behavior on the sphinx rendered scikit-learn.org. See: https://github.com/scikit-learn/scikit-learn/issues/21755 */display: inline-block !important;position: relative;}#sk-container-id-15 div.sk-text-repr-fallback {display: none;}</style><div id=\"sk-container-id-15\" class=\"sk-top-container\"><div class=\"sk-text-repr-fallback\"><pre>DecisionTreeRegressor(max_depth=4)</pre><b>In a Jupyter environment, please rerun this cell to show the HTML representation or trust the notebook. <br />On GitHub, the HTML representation is unable to render, please try loading this page with nbviewer.org.</b></div><div class=\"sk-container\" hidden><div class=\"sk-item\"><div class=\"sk-estimator sk-toggleable\"><input class=\"sk-toggleable__control sk-hidden--visually\" id=\"sk-estimator-id-25\" type=\"checkbox\" checked><label for=\"sk-estimator-id-25\" class=\"sk-toggleable__label sk-toggleable__label-arrow\">DecisionTreeRegressor</label><div class=\"sk-toggleable__content\"><pre>DecisionTreeRegressor(max_depth=4)</pre></div></div></div></div></div>"
      ],
      "text/plain": [
       "DecisionTreeRegressor(max_depth=4)"
      ]
     },
     "execution_count": 80,
     "metadata": {},
     "output_type": "execute_result"
    }
   ],
   "source": [
    "from sklearn.tree import DecisionTreeRegressor\n",
    "\n",
    "tree_reg = DecisionTreeRegressor(max_depth=5) \n",
    "\n",
    "tree_reg.fit(train_x, train_target)"
   ]
  },
  {
   "cell_type": "code",
   "execution_count": 81,
   "metadata": {},
   "outputs": [
    {
     "name": "stdout",
     "output_type": "stream",
     "text": [
      "Train RMSE: 268928.5684185048\n"
     ]
    }
   ],
   "source": [
    "#Train RMSE\n",
    "train_pred = tree_reg.predict(train_x)\n",
    "\n",
    "train_mse = mean_squared_error(train_target, train_pred)\n",
    "\n",
    "train_rmse = np.sqrt(train_mse)\n",
    "\n",
    "print('Train RMSE: {}' .format(train_rmse))"
   ]
  },
  {
   "cell_type": "code",
   "execution_count": 82,
   "metadata": {},
   "outputs": [
    {
     "name": "stdout",
     "output_type": "stream",
     "text": [
      "Test RMSE: 629822.6269433041\n"
     ]
    }
   ],
   "source": [
    "#Test RMSE\n",
    "test_pred = tree_reg.predict(test_x)\n",
    "\n",
    "test_mse = mean_squared_error(test_target, test_pred)\n",
    "\n",
    "test_rmse = np.sqrt(test_mse)\n",
    "\n",
    "print('Test RMSE: {}' .format(test_rmse))"
   ]
  },
  {
   "cell_type": "markdown",
   "metadata": {},
   "source": [
    "### Is the model overfitting? Provide your answer below. If yes, please add more cells below and show how you corrected overfitting. If your model is overfitting and you don't correct it, you will lose points."
   ]
  },
  {
   "cell_type": "markdown",
   "metadata": {},
   "source": [
    "Baseline Model:\n",
    "\n",
    "Train RMSE: 574,386.41\n",
    "Test RMSE: 482,867.50\n",
    "\n",
    "Decision Tree (max_depth=5):\n",
    "\n",
    "Train RMSE: 268,928.57\n",
    "Test RMSE: 629,822.63\n",
    "\n",
    "This model has lower training RMSE, indicating a good fit to the training data. But its test RMSE is a little higher than that of the baseline test RMSE which indicates that it's overfitting the training data and not generalizing well to the test data. \n",
    "\n",
    "To remediate that I have played around a lot with the min_samples_leaf and max_depth. \n",
    "\n",
    "The updated the Decision Tree (min_samples_leaf=26, max_depth=20):\n",
    "\n",
    "Train RMSE: 547,699.37\n",
    "Test RMSE: 473,840.15\n",
    "\n",
    "The training RMSE is close to that of the baseline showing similar level of fit to the training data.\n",
    "Most importantly, its test RMSE is lower than the baseline's test RMSE, indicating better performance on unseen data."
   ]
  },
  {
   "cell_type": "code",
   "execution_count": 83,
   "metadata": {},
   "outputs": [
    {
     "data": {
      "text/html": [
       "<style>#sk-container-id-16 {color: black;}#sk-container-id-16 pre{padding: 0;}#sk-container-id-16 div.sk-toggleable {background-color: white;}#sk-container-id-16 label.sk-toggleable__label {cursor: pointer;display: block;width: 100%;margin-bottom: 0;padding: 0.3em;box-sizing: border-box;text-align: center;}#sk-container-id-16 label.sk-toggleable__label-arrow:before {content: \"▸\";float: left;margin-right: 0.25em;color: #696969;}#sk-container-id-16 label.sk-toggleable__label-arrow:hover:before {color: black;}#sk-container-id-16 div.sk-estimator:hover label.sk-toggleable__label-arrow:before {color: black;}#sk-container-id-16 div.sk-toggleable__content {max-height: 0;max-width: 0;overflow: hidden;text-align: left;background-color: #f0f8ff;}#sk-container-id-16 div.sk-toggleable__content pre {margin: 0.2em;color: black;border-radius: 0.25em;background-color: #f0f8ff;}#sk-container-id-16 input.sk-toggleable__control:checked~div.sk-toggleable__content {max-height: 200px;max-width: 100%;overflow: auto;}#sk-container-id-16 input.sk-toggleable__control:checked~label.sk-toggleable__label-arrow:before {content: \"▾\";}#sk-container-id-16 div.sk-estimator input.sk-toggleable__control:checked~label.sk-toggleable__label {background-color: #d4ebff;}#sk-container-id-16 div.sk-label input.sk-toggleable__control:checked~label.sk-toggleable__label {background-color: #d4ebff;}#sk-container-id-16 input.sk-hidden--visually {border: 0;clip: rect(1px 1px 1px 1px);clip: rect(1px, 1px, 1px, 1px);height: 1px;margin: -1px;overflow: hidden;padding: 0;position: absolute;width: 1px;}#sk-container-id-16 div.sk-estimator {font-family: monospace;background-color: #f0f8ff;border: 1px dotted black;border-radius: 0.25em;box-sizing: border-box;margin-bottom: 0.5em;}#sk-container-id-16 div.sk-estimator:hover {background-color: #d4ebff;}#sk-container-id-16 div.sk-parallel-item::after {content: \"\";width: 100%;border-bottom: 1px solid gray;flex-grow: 1;}#sk-container-id-16 div.sk-label:hover label.sk-toggleable__label {background-color: #d4ebff;}#sk-container-id-16 div.sk-serial::before {content: \"\";position: absolute;border-left: 1px solid gray;box-sizing: border-box;top: 0;bottom: 0;left: 50%;z-index: 0;}#sk-container-id-16 div.sk-serial {display: flex;flex-direction: column;align-items: center;background-color: white;padding-right: 0.2em;padding-left: 0.2em;position: relative;}#sk-container-id-16 div.sk-item {position: relative;z-index: 1;}#sk-container-id-16 div.sk-parallel {display: flex;align-items: stretch;justify-content: center;background-color: white;position: relative;}#sk-container-id-16 div.sk-item::before, #sk-container-id-16 div.sk-parallel-item::before {content: \"\";position: absolute;border-left: 1px solid gray;box-sizing: border-box;top: 0;bottom: 0;left: 50%;z-index: -1;}#sk-container-id-16 div.sk-parallel-item {display: flex;flex-direction: column;z-index: 1;position: relative;background-color: white;}#sk-container-id-16 div.sk-parallel-item:first-child::after {align-self: flex-end;width: 50%;}#sk-container-id-16 div.sk-parallel-item:last-child::after {align-self: flex-start;width: 50%;}#sk-container-id-16 div.sk-parallel-item:only-child::after {width: 0;}#sk-container-id-16 div.sk-dashed-wrapped {border: 1px dashed gray;margin: 0 0.4em 0.5em 0.4em;box-sizing: border-box;padding-bottom: 0.4em;background-color: white;}#sk-container-id-16 div.sk-label label {font-family: monospace;font-weight: bold;display: inline-block;line-height: 1.2em;}#sk-container-id-16 div.sk-label-container {text-align: center;}#sk-container-id-16 div.sk-container {/* jupyter's `normalize.less` sets `[hidden] { display: none; }` but bootstrap.min.css set `[hidden] { display: none !important; }` so we also need the `!important` here to be able to override the default hidden behavior on the sphinx rendered scikit-learn.org. See: https://github.com/scikit-learn/scikit-learn/issues/21755 */display: inline-block !important;position: relative;}#sk-container-id-16 div.sk-text-repr-fallback {display: none;}</style><div id=\"sk-container-id-16\" class=\"sk-top-container\"><div class=\"sk-text-repr-fallback\"><pre>DecisionTreeRegressor(max_depth=20, min_samples_leaf=26)</pre><b>In a Jupyter environment, please rerun this cell to show the HTML representation or trust the notebook. <br />On GitHub, the HTML representation is unable to render, please try loading this page with nbviewer.org.</b></div><div class=\"sk-container\" hidden><div class=\"sk-item\"><div class=\"sk-estimator sk-toggleable\"><input class=\"sk-toggleable__control sk-hidden--visually\" id=\"sk-estimator-id-26\" type=\"checkbox\" checked><label for=\"sk-estimator-id-26\" class=\"sk-toggleable__label sk-toggleable__label-arrow\">DecisionTreeRegressor</label><div class=\"sk-toggleable__content\"><pre>DecisionTreeRegressor(max_depth=20, min_samples_leaf=26)</pre></div></div></div></div></div>"
      ],
      "text/plain": [
       "DecisionTreeRegressor(max_depth=20, min_samples_leaf=26)"
      ]
     },
     "execution_count": 83,
     "metadata": {},
     "output_type": "execute_result"
    }
   ],
   "source": [
    "from sklearn.tree import DecisionTreeRegressor\n",
    "\n",
    "tree_reg = DecisionTreeRegressor(min_samples_leaf = 26,max_depth=20) \n",
    "\n",
    "tree_reg.fit(train_x, train_target)"
   ]
  },
  {
   "cell_type": "code",
   "execution_count": 84,
   "metadata": {},
   "outputs": [
    {
     "name": "stdout",
     "output_type": "stream",
     "text": [
      "Train RMSE: 547699.3719292778\n"
     ]
    }
   ],
   "source": [
    "#Train RMSE\n",
    "train_pred = tree_reg.predict(train_x)\n",
    "\n",
    "train_mse = mean_squared_error(train_target, train_pred)\n",
    "\n",
    "train_rmse = np.sqrt(train_mse)\n",
    "\n",
    "print('Train RMSE: {}' .format(train_rmse))"
   ]
  },
  {
   "cell_type": "code",
   "execution_count": 85,
   "metadata": {},
   "outputs": [
    {
     "name": "stdout",
     "output_type": "stream",
     "text": [
      "Test RMSE: 473840.1460378704\n"
     ]
    }
   ],
   "source": [
    "#Test RMSE\n",
    "test_pred = tree_reg.predict(test_x)\n",
    "\n",
    "test_mse = mean_squared_error(test_target, test_pred)\n",
    "\n",
    "test_rmse = np.sqrt(test_mse)\n",
    "\n",
    "print('Test RMSE: {}' .format(test_rmse))"
   ]
  },
  {
   "cell_type": "markdown",
   "metadata": {},
   "source": [
    "## Voting regressor :\n",
    "\n",
    "The voting regressor should have at least 3 individual models"
   ]
  },
  {
   "cell_type": "code",
   "execution_count": 86,
   "metadata": {},
   "outputs": [
    {
     "name": "stderr",
     "output_type": "stream",
     "text": [
      "C:\\Users\\akush\\anaconda3\\Lib\\site-packages\\sklearn\\ensemble\\_voting.py:604: DataConversionWarning: A column-vector y was passed when a 1d array was expected. Please change the shape of y to (n_samples, ), for example using ravel().\n",
      "  y = column_or_1d(y, warn=True)\n"
     ]
    },
    {
     "data": {
      "text/html": [
       "<style>#sk-container-id-17 {color: black;}#sk-container-id-17 pre{padding: 0;}#sk-container-id-17 div.sk-toggleable {background-color: white;}#sk-container-id-17 label.sk-toggleable__label {cursor: pointer;display: block;width: 100%;margin-bottom: 0;padding: 0.3em;box-sizing: border-box;text-align: center;}#sk-container-id-17 label.sk-toggleable__label-arrow:before {content: \"▸\";float: left;margin-right: 0.25em;color: #696969;}#sk-container-id-17 label.sk-toggleable__label-arrow:hover:before {color: black;}#sk-container-id-17 div.sk-estimator:hover label.sk-toggleable__label-arrow:before {color: black;}#sk-container-id-17 div.sk-toggleable__content {max-height: 0;max-width: 0;overflow: hidden;text-align: left;background-color: #f0f8ff;}#sk-container-id-17 div.sk-toggleable__content pre {margin: 0.2em;color: black;border-radius: 0.25em;background-color: #f0f8ff;}#sk-container-id-17 input.sk-toggleable__control:checked~div.sk-toggleable__content {max-height: 200px;max-width: 100%;overflow: auto;}#sk-container-id-17 input.sk-toggleable__control:checked~label.sk-toggleable__label-arrow:before {content: \"▾\";}#sk-container-id-17 div.sk-estimator input.sk-toggleable__control:checked~label.sk-toggleable__label {background-color: #d4ebff;}#sk-container-id-17 div.sk-label input.sk-toggleable__control:checked~label.sk-toggleable__label {background-color: #d4ebff;}#sk-container-id-17 input.sk-hidden--visually {border: 0;clip: rect(1px 1px 1px 1px);clip: rect(1px, 1px, 1px, 1px);height: 1px;margin: -1px;overflow: hidden;padding: 0;position: absolute;width: 1px;}#sk-container-id-17 div.sk-estimator {font-family: monospace;background-color: #f0f8ff;border: 1px dotted black;border-radius: 0.25em;box-sizing: border-box;margin-bottom: 0.5em;}#sk-container-id-17 div.sk-estimator:hover {background-color: #d4ebff;}#sk-container-id-17 div.sk-parallel-item::after {content: \"\";width: 100%;border-bottom: 1px solid gray;flex-grow: 1;}#sk-container-id-17 div.sk-label:hover label.sk-toggleable__label {background-color: #d4ebff;}#sk-container-id-17 div.sk-serial::before {content: \"\";position: absolute;border-left: 1px solid gray;box-sizing: border-box;top: 0;bottom: 0;left: 50%;z-index: 0;}#sk-container-id-17 div.sk-serial {display: flex;flex-direction: column;align-items: center;background-color: white;padding-right: 0.2em;padding-left: 0.2em;position: relative;}#sk-container-id-17 div.sk-item {position: relative;z-index: 1;}#sk-container-id-17 div.sk-parallel {display: flex;align-items: stretch;justify-content: center;background-color: white;position: relative;}#sk-container-id-17 div.sk-item::before, #sk-container-id-17 div.sk-parallel-item::before {content: \"\";position: absolute;border-left: 1px solid gray;box-sizing: border-box;top: 0;bottom: 0;left: 50%;z-index: -1;}#sk-container-id-17 div.sk-parallel-item {display: flex;flex-direction: column;z-index: 1;position: relative;background-color: white;}#sk-container-id-17 div.sk-parallel-item:first-child::after {align-self: flex-end;width: 50%;}#sk-container-id-17 div.sk-parallel-item:last-child::after {align-self: flex-start;width: 50%;}#sk-container-id-17 div.sk-parallel-item:only-child::after {width: 0;}#sk-container-id-17 div.sk-dashed-wrapped {border: 1px dashed gray;margin: 0 0.4em 0.5em 0.4em;box-sizing: border-box;padding-bottom: 0.4em;background-color: white;}#sk-container-id-17 div.sk-label label {font-family: monospace;font-weight: bold;display: inline-block;line-height: 1.2em;}#sk-container-id-17 div.sk-label-container {text-align: center;}#sk-container-id-17 div.sk-container {/* jupyter's `normalize.less` sets `[hidden] { display: none; }` but bootstrap.min.css set `[hidden] { display: none !important; }` so we also need the `!important` here to be able to override the default hidden behavior on the sphinx rendered scikit-learn.org. See: https://github.com/scikit-learn/scikit-learn/issues/21755 */display: inline-block !important;position: relative;}#sk-container-id-17 div.sk-text-repr-fallback {display: none;}</style><div id=\"sk-container-id-17\" class=\"sk-top-container\"><div class=\"sk-text-repr-fallback\"><pre>VotingRegressor(estimators=[(&#x27;dt&#x27;, DecisionTreeRegressor(max_depth=20)),\n",
       "                            (&#x27;svr&#x27;, SVR(C=10, epsilon=0.01)),\n",
       "                            (&#x27;sgd&#x27;, SGDRegressor(max_iter=10000))],\n",
       "                weights=[0.6, 0.2, 0.2])</pre><b>In a Jupyter environment, please rerun this cell to show the HTML representation or trust the notebook. <br />On GitHub, the HTML representation is unable to render, please try loading this page with nbviewer.org.</b></div><div class=\"sk-container\" hidden><div class=\"sk-item sk-dashed-wrapped\"><div class=\"sk-label-container\"><div class=\"sk-label sk-toggleable\"><input class=\"sk-toggleable__control sk-hidden--visually\" id=\"sk-estimator-id-27\" type=\"checkbox\" ><label for=\"sk-estimator-id-27\" class=\"sk-toggleable__label sk-toggleable__label-arrow\">VotingRegressor</label><div class=\"sk-toggleable__content\"><pre>VotingRegressor(estimators=[(&#x27;dt&#x27;, DecisionTreeRegressor(max_depth=20)),\n",
       "                            (&#x27;svr&#x27;, SVR(C=10, epsilon=0.01)),\n",
       "                            (&#x27;sgd&#x27;, SGDRegressor(max_iter=10000))],\n",
       "                weights=[0.6, 0.2, 0.2])</pre></div></div></div><div class=\"sk-parallel\"><div class=\"sk-parallel-item\"><div class=\"sk-item\"><div class=\"sk-label-container\"><div class=\"sk-label sk-toggleable\"><label>dt</label></div></div><div class=\"sk-serial\"><div class=\"sk-item\"><div class=\"sk-estimator sk-toggleable\"><input class=\"sk-toggleable__control sk-hidden--visually\" id=\"sk-estimator-id-28\" type=\"checkbox\" ><label for=\"sk-estimator-id-28\" class=\"sk-toggleable__label sk-toggleable__label-arrow\">DecisionTreeRegressor</label><div class=\"sk-toggleable__content\"><pre>DecisionTreeRegressor(max_depth=20)</pre></div></div></div></div></div></div><div class=\"sk-parallel-item\"><div class=\"sk-item\"><div class=\"sk-label-container\"><div class=\"sk-label sk-toggleable\"><label>svr</label></div></div><div class=\"sk-serial\"><div class=\"sk-item\"><div class=\"sk-estimator sk-toggleable\"><input class=\"sk-toggleable__control sk-hidden--visually\" id=\"sk-estimator-id-29\" type=\"checkbox\" ><label for=\"sk-estimator-id-29\" class=\"sk-toggleable__label sk-toggleable__label-arrow\">SVR</label><div class=\"sk-toggleable__content\"><pre>SVR(C=10, epsilon=0.01)</pre></div></div></div></div></div></div><div class=\"sk-parallel-item\"><div class=\"sk-item\"><div class=\"sk-label-container\"><div class=\"sk-label sk-toggleable\"><label>sgd</label></div></div><div class=\"sk-serial\"><div class=\"sk-item\"><div class=\"sk-estimator sk-toggleable\"><input class=\"sk-toggleable__control sk-hidden--visually\" id=\"sk-estimator-id-30\" type=\"checkbox\" ><label for=\"sk-estimator-id-30\" class=\"sk-toggleable__label sk-toggleable__label-arrow\">SGDRegressor</label><div class=\"sk-toggleable__content\"><pre>SGDRegressor(max_iter=10000)</pre></div></div></div></div></div></div></div></div></div></div>"
      ],
      "text/plain": [
       "VotingRegressor(estimators=[('dt', DecisionTreeRegressor(max_depth=20)),\n",
       "                            ('svr', SVR(C=10, epsilon=0.01)),\n",
       "                            ('sgd', SGDRegressor(max_iter=10000))],\n",
       "                weights=[0.6, 0.2, 0.2])"
      ]
     },
     "execution_count": 86,
     "metadata": {},
     "output_type": "execute_result"
    }
   ],
   "source": [
    "from sklearn.tree import DecisionTreeRegressor\n",
    "from sklearn.linear_model import SGDRegressor \n",
    "from sklearn.svm import SVR \n",
    "from sklearn.ensemble import VotingRegressor\n",
    "\n",
    "\n",
    "dtree_reg = DecisionTreeRegressor(max_depth=20)\n",
    "svm_reg = SVR(kernel=\"rbf\", C=10, epsilon=0.01, gamma='scale') \n",
    "sgd_reg = SGDRegressor(max_iter=10000, tol=1e-3)\n",
    "\n",
    "voting_reg = VotingRegressor(\n",
    "            estimators=[('dt', dtree_reg), ('svr', svm_reg), ('sgd', sgd_reg)],\n",
    "                        weights=[0.6, 0.2, 0.2])\n",
    "\n",
    "voting_reg.fit(train_x, train_target)"
   ]
  },
  {
   "cell_type": "code",
   "execution_count": 87,
   "metadata": {},
   "outputs": [
    {
     "name": "stdout",
     "output_type": "stream",
     "text": [
      "Train RMSE: 165003.67186654703\n"
     ]
    }
   ],
   "source": [
    "#Train RMSE\n",
    "train_pred = voting_reg.predict(train_x)\n",
    "\n",
    "train_mse = mean_squared_error(train_target, train_pred)\n",
    "\n",
    "train_rmse = np.sqrt(train_mse)\n",
    "\n",
    "print('Train RMSE: {}' .format(train_rmse))"
   ]
  },
  {
   "cell_type": "code",
   "execution_count": 88,
   "metadata": {},
   "outputs": [
    {
     "name": "stdout",
     "output_type": "stream",
     "text": [
      "Test RMSE: 584257.801469813\n"
     ]
    }
   ],
   "source": [
    "#Test RMSE\n",
    "test_pred = voting_reg.predict(test_x)\n",
    "\n",
    "test_mse = mean_squared_error(test_target, test_pred)\n",
    "\n",
    "test_rmse = np.sqrt(test_mse)\n",
    "\n",
    "print('Test RMSE: {}' .format(test_rmse))"
   ]
  },
  {
   "cell_type": "markdown",
   "metadata": {},
   "source": [
    "### Is the model overfitting? Provide your answer below. If yes, please add more cells below and show how you corrected overfitting. If your model is overfitting and you don't correct it, you will lose points."
   ]
  },
  {
   "cell_type": "markdown",
   "metadata": {},
   "source": [
    "Baseline Model:\n",
    "\n",
    "Train RMSE: 574,386.41\n",
    "Test RMSE: 482,867.50\n",
    "\n",
    "Voting Regressor 1st:\n",
    "\n",
    "Train RMSE: 166,090.54\n",
    "Test RMSE: 512,367.84\n",
    "\n",
    "The VR Model has a lower training RMSE compared to the baseline model, indicating it fits the training data much better. But its test RMSE is higher than the baseline's test RMSE. Which indicates that it doesn't generalize as effectively to the test data as the baseline model does. Which is likely overfitting.\n",
    "\n",
    "To remediate that I have changed the hyper parameters like below,\n",
    "\n",
    "dtree_reg = DecisionTreeRegressor(min_samples_leaf = 26,max_depth=20) \n",
    "svm_reg = SVR(kernel=\"rbf\", C=10, epsilon=0.5, gamma='scale') \n",
    "sgd_reg = SGDRegressor(max_iter=50, penalty='l2', alpha = 0.1, eta0=0.01)\n",
    "\n",
    "Voting Regressor 2nd:\n",
    "\n",
    "Train RMSE: 545,549.31\n",
    "Test RMSE: 469,450.16\n",
    "\n",
    "The second model has training RMSE comparable to the baseline, indicating a better level of fit to the training data.\n",
    "Its test RMSE is lower than both the baseline and the first Voting Regressor, indicating better generalization to unseen data i.e test data."
   ]
  },
  {
   "cell_type": "code",
   "execution_count": 92,
   "metadata": {},
   "outputs": [
    {
     "name": "stderr",
     "output_type": "stream",
     "text": [
      "C:\\Users\\akush\\anaconda3\\Lib\\site-packages\\sklearn\\ensemble\\_voting.py:604: DataConversionWarning: A column-vector y was passed when a 1d array was expected. Please change the shape of y to (n_samples, ), for example using ravel().\n",
      "  y = column_or_1d(y, warn=True)\n"
     ]
    },
    {
     "data": {
      "text/html": [
       "<style>#sk-container-id-19 {color: black;}#sk-container-id-19 pre{padding: 0;}#sk-container-id-19 div.sk-toggleable {background-color: white;}#sk-container-id-19 label.sk-toggleable__label {cursor: pointer;display: block;width: 100%;margin-bottom: 0;padding: 0.3em;box-sizing: border-box;text-align: center;}#sk-container-id-19 label.sk-toggleable__label-arrow:before {content: \"▸\";float: left;margin-right: 0.25em;color: #696969;}#sk-container-id-19 label.sk-toggleable__label-arrow:hover:before {color: black;}#sk-container-id-19 div.sk-estimator:hover label.sk-toggleable__label-arrow:before {color: black;}#sk-container-id-19 div.sk-toggleable__content {max-height: 0;max-width: 0;overflow: hidden;text-align: left;background-color: #f0f8ff;}#sk-container-id-19 div.sk-toggleable__content pre {margin: 0.2em;color: black;border-radius: 0.25em;background-color: #f0f8ff;}#sk-container-id-19 input.sk-toggleable__control:checked~div.sk-toggleable__content {max-height: 200px;max-width: 100%;overflow: auto;}#sk-container-id-19 input.sk-toggleable__control:checked~label.sk-toggleable__label-arrow:before {content: \"▾\";}#sk-container-id-19 div.sk-estimator input.sk-toggleable__control:checked~label.sk-toggleable__label {background-color: #d4ebff;}#sk-container-id-19 div.sk-label input.sk-toggleable__control:checked~label.sk-toggleable__label {background-color: #d4ebff;}#sk-container-id-19 input.sk-hidden--visually {border: 0;clip: rect(1px 1px 1px 1px);clip: rect(1px, 1px, 1px, 1px);height: 1px;margin: -1px;overflow: hidden;padding: 0;position: absolute;width: 1px;}#sk-container-id-19 div.sk-estimator {font-family: monospace;background-color: #f0f8ff;border: 1px dotted black;border-radius: 0.25em;box-sizing: border-box;margin-bottom: 0.5em;}#sk-container-id-19 div.sk-estimator:hover {background-color: #d4ebff;}#sk-container-id-19 div.sk-parallel-item::after {content: \"\";width: 100%;border-bottom: 1px solid gray;flex-grow: 1;}#sk-container-id-19 div.sk-label:hover label.sk-toggleable__label {background-color: #d4ebff;}#sk-container-id-19 div.sk-serial::before {content: \"\";position: absolute;border-left: 1px solid gray;box-sizing: border-box;top: 0;bottom: 0;left: 50%;z-index: 0;}#sk-container-id-19 div.sk-serial {display: flex;flex-direction: column;align-items: center;background-color: white;padding-right: 0.2em;padding-left: 0.2em;position: relative;}#sk-container-id-19 div.sk-item {position: relative;z-index: 1;}#sk-container-id-19 div.sk-parallel {display: flex;align-items: stretch;justify-content: center;background-color: white;position: relative;}#sk-container-id-19 div.sk-item::before, #sk-container-id-19 div.sk-parallel-item::before {content: \"\";position: absolute;border-left: 1px solid gray;box-sizing: border-box;top: 0;bottom: 0;left: 50%;z-index: -1;}#sk-container-id-19 div.sk-parallel-item {display: flex;flex-direction: column;z-index: 1;position: relative;background-color: white;}#sk-container-id-19 div.sk-parallel-item:first-child::after {align-self: flex-end;width: 50%;}#sk-container-id-19 div.sk-parallel-item:last-child::after {align-self: flex-start;width: 50%;}#sk-container-id-19 div.sk-parallel-item:only-child::after {width: 0;}#sk-container-id-19 div.sk-dashed-wrapped {border: 1px dashed gray;margin: 0 0.4em 0.5em 0.4em;box-sizing: border-box;padding-bottom: 0.4em;background-color: white;}#sk-container-id-19 div.sk-label label {font-family: monospace;font-weight: bold;display: inline-block;line-height: 1.2em;}#sk-container-id-19 div.sk-label-container {text-align: center;}#sk-container-id-19 div.sk-container {/* jupyter's `normalize.less` sets `[hidden] { display: none; }` but bootstrap.min.css set `[hidden] { display: none !important; }` so we also need the `!important` here to be able to override the default hidden behavior on the sphinx rendered scikit-learn.org. See: https://github.com/scikit-learn/scikit-learn/issues/21755 */display: inline-block !important;position: relative;}#sk-container-id-19 div.sk-text-repr-fallback {display: none;}</style><div id=\"sk-container-id-19\" class=\"sk-top-container\"><div class=\"sk-text-repr-fallback\"><pre>VotingRegressor(estimators=[(&#x27;dt&#x27;,\n",
       "                             DecisionTreeRegressor(max_depth=20,\n",
       "                                                   min_samples_leaf=26)),\n",
       "                            (&#x27;svr&#x27;, SVR(C=10, epsilon=0.5)),\n",
       "                            (&#x27;sgd&#x27;, SGDRegressor(alpha=0.1, max_iter=50))],\n",
       "                weights=[0.6, 0.2, 0.2])</pre><b>In a Jupyter environment, please rerun this cell to show the HTML representation or trust the notebook. <br />On GitHub, the HTML representation is unable to render, please try loading this page with nbviewer.org.</b></div><div class=\"sk-container\" hidden><div class=\"sk-item sk-dashed-wrapped\"><div class=\"sk-label-container\"><div class=\"sk-label sk-toggleable\"><input class=\"sk-toggleable__control sk-hidden--visually\" id=\"sk-estimator-id-35\" type=\"checkbox\" ><label for=\"sk-estimator-id-35\" class=\"sk-toggleable__label sk-toggleable__label-arrow\">VotingRegressor</label><div class=\"sk-toggleable__content\"><pre>VotingRegressor(estimators=[(&#x27;dt&#x27;,\n",
       "                             DecisionTreeRegressor(max_depth=20,\n",
       "                                                   min_samples_leaf=26)),\n",
       "                            (&#x27;svr&#x27;, SVR(C=10, epsilon=0.5)),\n",
       "                            (&#x27;sgd&#x27;, SGDRegressor(alpha=0.1, max_iter=50))],\n",
       "                weights=[0.6, 0.2, 0.2])</pre></div></div></div><div class=\"sk-parallel\"><div class=\"sk-parallel-item\"><div class=\"sk-item\"><div class=\"sk-label-container\"><div class=\"sk-label sk-toggleable\"><label>dt</label></div></div><div class=\"sk-serial\"><div class=\"sk-item\"><div class=\"sk-estimator sk-toggleable\"><input class=\"sk-toggleable__control sk-hidden--visually\" id=\"sk-estimator-id-36\" type=\"checkbox\" ><label for=\"sk-estimator-id-36\" class=\"sk-toggleable__label sk-toggleable__label-arrow\">DecisionTreeRegressor</label><div class=\"sk-toggleable__content\"><pre>DecisionTreeRegressor(max_depth=20, min_samples_leaf=26)</pre></div></div></div></div></div></div><div class=\"sk-parallel-item\"><div class=\"sk-item\"><div class=\"sk-label-container\"><div class=\"sk-label sk-toggleable\"><label>svr</label></div></div><div class=\"sk-serial\"><div class=\"sk-item\"><div class=\"sk-estimator sk-toggleable\"><input class=\"sk-toggleable__control sk-hidden--visually\" id=\"sk-estimator-id-37\" type=\"checkbox\" ><label for=\"sk-estimator-id-37\" class=\"sk-toggleable__label sk-toggleable__label-arrow\">SVR</label><div class=\"sk-toggleable__content\"><pre>SVR(C=10, epsilon=0.5)</pre></div></div></div></div></div></div><div class=\"sk-parallel-item\"><div class=\"sk-item\"><div class=\"sk-label-container\"><div class=\"sk-label sk-toggleable\"><label>sgd</label></div></div><div class=\"sk-serial\"><div class=\"sk-item\"><div class=\"sk-estimator sk-toggleable\"><input class=\"sk-toggleable__control sk-hidden--visually\" id=\"sk-estimator-id-38\" type=\"checkbox\" ><label for=\"sk-estimator-id-38\" class=\"sk-toggleable__label sk-toggleable__label-arrow\">SGDRegressor</label><div class=\"sk-toggleable__content\"><pre>SGDRegressor(alpha=0.1, max_iter=50)</pre></div></div></div></div></div></div></div></div></div></div>"
      ],
      "text/plain": [
       "VotingRegressor(estimators=[('dt',\n",
       "                             DecisionTreeRegressor(max_depth=20,\n",
       "                                                   min_samples_leaf=26)),\n",
       "                            ('svr', SVR(C=10, epsilon=0.5)),\n",
       "                            ('sgd', SGDRegressor(alpha=0.1, max_iter=50))],\n",
       "                weights=[0.6, 0.2, 0.2])"
      ]
     },
     "execution_count": 92,
     "metadata": {},
     "output_type": "execute_result"
    }
   ],
   "source": [
    "from sklearn.tree import DecisionTreeRegressor\n",
    "from sklearn.linear_model import SGDRegressor \n",
    "from sklearn.svm import SVR \n",
    "from sklearn.ensemble import VotingRegressor\n",
    "\n",
    "\n",
    "dtree_reg = DecisionTreeRegressor(min_samples_leaf = 26,max_depth=20) \n",
    "svm_reg = SVR(kernel=\"rbf\", C=10, epsilon=0.5, gamma='scale') \n",
    "sgd_reg = SGDRegressor(max_iter=50, penalty='l2', alpha = 0.1, eta0=0.01)\n",
    "\n",
    "voting_reg = VotingRegressor(\n",
    "            estimators=[('dt', dtree_reg), ('svr', svm_reg), ('sgd', sgd_reg)],\n",
    "                        weights=[0.6, 0.2, 0.2])\n",
    "\n",
    "voting_reg.fit(train_x, train_target)"
   ]
  },
  {
   "cell_type": "code",
   "execution_count": 93,
   "metadata": {},
   "outputs": [
    {
     "name": "stdout",
     "output_type": "stream",
     "text": [
      "Train RMSE: 545549.3191641965\n"
     ]
    }
   ],
   "source": [
    "#Train RMSE\n",
    "train_pred = voting_reg.predict(train_x)\n",
    "\n",
    "train_mse = mean_squared_error(train_target, train_pred)\n",
    "\n",
    "train_rmse = np.sqrt(train_mse)\n",
    "\n",
    "print('Train RMSE: {}' .format(train_rmse))"
   ]
  },
  {
   "cell_type": "code",
   "execution_count": 94,
   "metadata": {},
   "outputs": [
    {
     "name": "stdout",
     "output_type": "stream",
     "text": [
      "Test RMSE: 469450.15983156324\n"
     ]
    }
   ],
   "source": [
    "#Test RMSE\n",
    "test_pred = voting_reg.predict(test_x)\n",
    "\n",
    "test_mse = mean_squared_error(test_target, test_pred)\n",
    "\n",
    "test_rmse = np.sqrt(test_mse)\n",
    "\n",
    "print('Test RMSE: {}' .format(test_rmse))"
   ]
  },
  {
   "cell_type": "markdown",
   "metadata": {},
   "source": [
    "## A Boosting model: \n",
    "\n",
    "Build either an Adaboost or a GradientBoost model"
   ]
  },
  {
   "cell_type": "code",
   "execution_count": 95,
   "metadata": {},
   "outputs": [
    {
     "name": "stderr",
     "output_type": "stream",
     "text": [
      "C:\\Users\\akush\\anaconda3\\Lib\\site-packages\\sklearn\\ensemble\\_gb.py:424: DataConversionWarning: A column-vector y was passed when a 1d array was expected. Please change the shape of y to (n_samples, ), for example using ravel().\n",
      "  y = column_or_1d(y, warn=True)\n"
     ]
    },
    {
     "data": {
      "text/html": [
       "<style>#sk-container-id-20 {color: black;}#sk-container-id-20 pre{padding: 0;}#sk-container-id-20 div.sk-toggleable {background-color: white;}#sk-container-id-20 label.sk-toggleable__label {cursor: pointer;display: block;width: 100%;margin-bottom: 0;padding: 0.3em;box-sizing: border-box;text-align: center;}#sk-container-id-20 label.sk-toggleable__label-arrow:before {content: \"▸\";float: left;margin-right: 0.25em;color: #696969;}#sk-container-id-20 label.sk-toggleable__label-arrow:hover:before {color: black;}#sk-container-id-20 div.sk-estimator:hover label.sk-toggleable__label-arrow:before {color: black;}#sk-container-id-20 div.sk-toggleable__content {max-height: 0;max-width: 0;overflow: hidden;text-align: left;background-color: #f0f8ff;}#sk-container-id-20 div.sk-toggleable__content pre {margin: 0.2em;color: black;border-radius: 0.25em;background-color: #f0f8ff;}#sk-container-id-20 input.sk-toggleable__control:checked~div.sk-toggleable__content {max-height: 200px;max-width: 100%;overflow: auto;}#sk-container-id-20 input.sk-toggleable__control:checked~label.sk-toggleable__label-arrow:before {content: \"▾\";}#sk-container-id-20 div.sk-estimator input.sk-toggleable__control:checked~label.sk-toggleable__label {background-color: #d4ebff;}#sk-container-id-20 div.sk-label input.sk-toggleable__control:checked~label.sk-toggleable__label {background-color: #d4ebff;}#sk-container-id-20 input.sk-hidden--visually {border: 0;clip: rect(1px 1px 1px 1px);clip: rect(1px, 1px, 1px, 1px);height: 1px;margin: -1px;overflow: hidden;padding: 0;position: absolute;width: 1px;}#sk-container-id-20 div.sk-estimator {font-family: monospace;background-color: #f0f8ff;border: 1px dotted black;border-radius: 0.25em;box-sizing: border-box;margin-bottom: 0.5em;}#sk-container-id-20 div.sk-estimator:hover {background-color: #d4ebff;}#sk-container-id-20 div.sk-parallel-item::after {content: \"\";width: 100%;border-bottom: 1px solid gray;flex-grow: 1;}#sk-container-id-20 div.sk-label:hover label.sk-toggleable__label {background-color: #d4ebff;}#sk-container-id-20 div.sk-serial::before {content: \"\";position: absolute;border-left: 1px solid gray;box-sizing: border-box;top: 0;bottom: 0;left: 50%;z-index: 0;}#sk-container-id-20 div.sk-serial {display: flex;flex-direction: column;align-items: center;background-color: white;padding-right: 0.2em;padding-left: 0.2em;position: relative;}#sk-container-id-20 div.sk-item {position: relative;z-index: 1;}#sk-container-id-20 div.sk-parallel {display: flex;align-items: stretch;justify-content: center;background-color: white;position: relative;}#sk-container-id-20 div.sk-item::before, #sk-container-id-20 div.sk-parallel-item::before {content: \"\";position: absolute;border-left: 1px solid gray;box-sizing: border-box;top: 0;bottom: 0;left: 50%;z-index: -1;}#sk-container-id-20 div.sk-parallel-item {display: flex;flex-direction: column;z-index: 1;position: relative;background-color: white;}#sk-container-id-20 div.sk-parallel-item:first-child::after {align-self: flex-end;width: 50%;}#sk-container-id-20 div.sk-parallel-item:last-child::after {align-self: flex-start;width: 50%;}#sk-container-id-20 div.sk-parallel-item:only-child::after {width: 0;}#sk-container-id-20 div.sk-dashed-wrapped {border: 1px dashed gray;margin: 0 0.4em 0.5em 0.4em;box-sizing: border-box;padding-bottom: 0.4em;background-color: white;}#sk-container-id-20 div.sk-label label {font-family: monospace;font-weight: bold;display: inline-block;line-height: 1.2em;}#sk-container-id-20 div.sk-label-container {text-align: center;}#sk-container-id-20 div.sk-container {/* jupyter's `normalize.less` sets `[hidden] { display: none; }` but bootstrap.min.css set `[hidden] { display: none !important; }` so we also need the `!important` here to be able to override the default hidden behavior on the sphinx rendered scikit-learn.org. See: https://github.com/scikit-learn/scikit-learn/issues/21755 */display: inline-block !important;position: relative;}#sk-container-id-20 div.sk-text-repr-fallback {display: none;}</style><div id=\"sk-container-id-20\" class=\"sk-top-container\"><div class=\"sk-text-repr-fallback\"><pre>GradientBoostingRegressor(max_depth=5)</pre><b>In a Jupyter environment, please rerun this cell to show the HTML representation or trust the notebook. <br />On GitHub, the HTML representation is unable to render, please try loading this page with nbviewer.org.</b></div><div class=\"sk-container\" hidden><div class=\"sk-item\"><div class=\"sk-estimator sk-toggleable\"><input class=\"sk-toggleable__control sk-hidden--visually\" id=\"sk-estimator-id-39\" type=\"checkbox\" checked><label for=\"sk-estimator-id-39\" class=\"sk-toggleable__label sk-toggleable__label-arrow\">GradientBoostingRegressor</label><div class=\"sk-toggleable__content\"><pre>GradientBoostingRegressor(max_depth=5)</pre></div></div></div></div></div>"
      ],
      "text/plain": [
       "GradientBoostingRegressor(max_depth=5)"
      ]
     },
     "execution_count": 95,
     "metadata": {},
     "output_type": "execute_result"
    }
   ],
   "source": [
    "#Use GradientBoosting\n",
    "\n",
    "from sklearn.ensemble import GradientBoostingRegressor\n",
    "\n",
    "gb_reg = GradientBoostingRegressor(max_depth=5, n_estimators=100, learning_rate=0.1) \n",
    "\n",
    "gb_reg.fit(train_x, train_target)"
   ]
  },
  {
   "cell_type": "code",
   "execution_count": 96,
   "metadata": {},
   "outputs": [
    {
     "name": "stdout",
     "output_type": "stream",
     "text": [
      "Train RMSE: 35433.15627982174\n"
     ]
    }
   ],
   "source": [
    "#Train RMSE\n",
    "train_pred = gb_reg.predict(train_x)\n",
    "\n",
    "train_mse = mean_squared_error(train_target, train_pred)\n",
    "\n",
    "train_rmse = np.sqrt(train_mse)\n",
    "\n",
    "print('Train RMSE: {}' .format(train_rmse))"
   ]
  },
  {
   "cell_type": "code",
   "execution_count": 97,
   "metadata": {},
   "outputs": [
    {
     "name": "stdout",
     "output_type": "stream",
     "text": [
      "Test RMSE: 509069.51467035245\n"
     ]
    }
   ],
   "source": [
    "#Test RMSE\n",
    "test_pred = gb_reg.predict(test_x)\n",
    "\n",
    "test_mse = mean_squared_error(test_target, test_pred)\n",
    "\n",
    "test_rmse = np.sqrt(test_mse)\n",
    "\n",
    "print('Test RMSE: {}' .format(test_rmse))"
   ]
  },
  {
   "cell_type": "markdown",
   "metadata": {},
   "source": [
    "### Is the model overfitting? Provide your answer below. If yes, please add more cells below and show how you corrected overfitting. If your model is overfitting and you don't correct it, you will lose points. "
   ]
  },
  {
   "cell_type": "markdown",
   "metadata": {},
   "source": [
    "Baseline Model:\n",
    "\n",
    "Train RMSE: 574,386.41\n",
    "Test RMSE: 482,867.50\n",
    "\n",
    "Gradient Boosting Model:\n",
    "\n",
    "Train RMSE: 35,433.16\n",
    "Test RMSE: 509,069.51\n",
    "\n",
    "The Gradient Boosting Model shows an extremely low training RMSE, suggesting it fits the training data well, actually too well. This is an indicative of overfitting. On the other hand the test RMSE is higher than the baseline, which clearly shows overfitting. The model has performed well on the training data but fails to generalize effectively to the test data.\n",
    "\n",
    "To remediate that I have decided to use Early stopping for performance tuning. By changing below hyperparmeters,\n",
    "(max_depth=3, n_estimators=100, learning_rate=0.1, tol=0.1, n_iter_no_change=5, validation_fraction=0.2,verbose=1) \n",
    "\n",
    "Gradient Boosting with early stopping\n",
    "Train RMSE: 539520.83 \n",
    "Test RMSE: 479889.25\n",
    "\n",
    "Gradient Boosting with early stopping has training RMSE closer to the baseline, indicating a reduction in overfitting compared to the first Gradient Boosting Model.Also, The test RMSE is slightly lower than the baseline's test RMSE, suggesting better generalization to unseen data compared to both the baseline and the initial Gradient Boosting model."
   ]
  },
  {
   "cell_type": "code",
   "execution_count": 118,
   "metadata": {},
   "outputs": [
    {
     "name": "stdout",
     "output_type": "stream",
     "text": [
      "      Iter       Train Loss   Remaining Time \n",
      "         1 304646964128.4088           40.69s\n",
      "         2 263127495482.0468           41.70s\n",
      "         3 229496725878.4936           41.49s\n",
      "         4 202255802499.6155           40.85s\n",
      "         5 180190654562.7242           40.26s\n",
      "         6 162285874455.7681           39.88s\n"
     ]
    },
    {
     "data": {
      "text/html": [
       "<style>#sk-container-id-26 {color: black;}#sk-container-id-26 pre{padding: 0;}#sk-container-id-26 div.sk-toggleable {background-color: white;}#sk-container-id-26 label.sk-toggleable__label {cursor: pointer;display: block;width: 100%;margin-bottom: 0;padding: 0.3em;box-sizing: border-box;text-align: center;}#sk-container-id-26 label.sk-toggleable__label-arrow:before {content: \"▸\";float: left;margin-right: 0.25em;color: #696969;}#sk-container-id-26 label.sk-toggleable__label-arrow:hover:before {color: black;}#sk-container-id-26 div.sk-estimator:hover label.sk-toggleable__label-arrow:before {color: black;}#sk-container-id-26 div.sk-toggleable__content {max-height: 0;max-width: 0;overflow: hidden;text-align: left;background-color: #f0f8ff;}#sk-container-id-26 div.sk-toggleable__content pre {margin: 0.2em;color: black;border-radius: 0.25em;background-color: #f0f8ff;}#sk-container-id-26 input.sk-toggleable__control:checked~div.sk-toggleable__content {max-height: 200px;max-width: 100%;overflow: auto;}#sk-container-id-26 input.sk-toggleable__control:checked~label.sk-toggleable__label-arrow:before {content: \"▾\";}#sk-container-id-26 div.sk-estimator input.sk-toggleable__control:checked~label.sk-toggleable__label {background-color: #d4ebff;}#sk-container-id-26 div.sk-label input.sk-toggleable__control:checked~label.sk-toggleable__label {background-color: #d4ebff;}#sk-container-id-26 input.sk-hidden--visually {border: 0;clip: rect(1px 1px 1px 1px);clip: rect(1px, 1px, 1px, 1px);height: 1px;margin: -1px;overflow: hidden;padding: 0;position: absolute;width: 1px;}#sk-container-id-26 div.sk-estimator {font-family: monospace;background-color: #f0f8ff;border: 1px dotted black;border-radius: 0.25em;box-sizing: border-box;margin-bottom: 0.5em;}#sk-container-id-26 div.sk-estimator:hover {background-color: #d4ebff;}#sk-container-id-26 div.sk-parallel-item::after {content: \"\";width: 100%;border-bottom: 1px solid gray;flex-grow: 1;}#sk-container-id-26 div.sk-label:hover label.sk-toggleable__label {background-color: #d4ebff;}#sk-container-id-26 div.sk-serial::before {content: \"\";position: absolute;border-left: 1px solid gray;box-sizing: border-box;top: 0;bottom: 0;left: 50%;z-index: 0;}#sk-container-id-26 div.sk-serial {display: flex;flex-direction: column;align-items: center;background-color: white;padding-right: 0.2em;padding-left: 0.2em;position: relative;}#sk-container-id-26 div.sk-item {position: relative;z-index: 1;}#sk-container-id-26 div.sk-parallel {display: flex;align-items: stretch;justify-content: center;background-color: white;position: relative;}#sk-container-id-26 div.sk-item::before, #sk-container-id-26 div.sk-parallel-item::before {content: \"\";position: absolute;border-left: 1px solid gray;box-sizing: border-box;top: 0;bottom: 0;left: 50%;z-index: -1;}#sk-container-id-26 div.sk-parallel-item {display: flex;flex-direction: column;z-index: 1;position: relative;background-color: white;}#sk-container-id-26 div.sk-parallel-item:first-child::after {align-self: flex-end;width: 50%;}#sk-container-id-26 div.sk-parallel-item:last-child::after {align-self: flex-start;width: 50%;}#sk-container-id-26 div.sk-parallel-item:only-child::after {width: 0;}#sk-container-id-26 div.sk-dashed-wrapped {border: 1px dashed gray;margin: 0 0.4em 0.5em 0.4em;box-sizing: border-box;padding-bottom: 0.4em;background-color: white;}#sk-container-id-26 div.sk-label label {font-family: monospace;font-weight: bold;display: inline-block;line-height: 1.2em;}#sk-container-id-26 div.sk-label-container {text-align: center;}#sk-container-id-26 div.sk-container {/* jupyter's `normalize.less` sets `[hidden] { display: none; }` but bootstrap.min.css set `[hidden] { display: none !important; }` so we also need the `!important` here to be able to override the default hidden behavior on the sphinx rendered scikit-learn.org. See: https://github.com/scikit-learn/scikit-learn/issues/21755 */display: inline-block !important;position: relative;}#sk-container-id-26 div.sk-text-repr-fallback {display: none;}</style><div id=\"sk-container-id-26\" class=\"sk-top-container\"><div class=\"sk-text-repr-fallback\"><pre>GradientBoostingRegressor(n_iter_no_change=5, tol=0.1, validation_fraction=0.2,\n",
       "                          verbose=1)</pre><b>In a Jupyter environment, please rerun this cell to show the HTML representation or trust the notebook. <br />On GitHub, the HTML representation is unable to render, please try loading this page with nbviewer.org.</b></div><div class=\"sk-container\" hidden><div class=\"sk-item\"><div class=\"sk-estimator sk-toggleable\"><input class=\"sk-toggleable__control sk-hidden--visually\" id=\"sk-estimator-id-45\" type=\"checkbox\" checked><label for=\"sk-estimator-id-45\" class=\"sk-toggleable__label sk-toggleable__label-arrow\">GradientBoostingRegressor</label><div class=\"sk-toggleable__content\"><pre>GradientBoostingRegressor(n_iter_no_change=5, tol=0.1, validation_fraction=0.2,\n",
       "                          verbose=1)</pre></div></div></div></div></div>"
      ],
      "text/plain": [
       "GradientBoostingRegressor(n_iter_no_change=5, tol=0.1, validation_fraction=0.2,\n",
       "                          verbose=1)"
      ]
     },
     "execution_count": 118,
     "metadata": {},
     "output_type": "execute_result"
    }
   ],
   "source": [
    "#Notice that learning rate and tol are high to see early stopping\n",
    "gb_reg = GradientBoostingRegressor(max_depth=3, n_estimators=100, \n",
    "                                   learning_rate=0.1, \n",
    "                                  tol=0.1, n_iter_no_change=5, validation_fraction=0.2,\n",
    "                                  verbose=1) \n",
    "\n",
    "gb_reg.fit(train_x, train_target['Total Cost'])"
   ]
  },
  {
   "cell_type": "code",
   "execution_count": 119,
   "metadata": {},
   "outputs": [
    {
     "data": {
      "text/plain": [
       "6"
      ]
     },
     "execution_count": 119,
     "metadata": {},
     "output_type": "execute_result"
    }
   ],
   "source": [
    "gb_reg.n_estimators_"
   ]
  },
  {
   "cell_type": "code",
   "execution_count": 120,
   "metadata": {},
   "outputs": [
    {
     "name": "stdout",
     "output_type": "stream",
     "text": [
      "Train RMSE: 417771.92650419974\n"
     ]
    }
   ],
   "source": [
    "#Train RMSE\n",
    "train_pred = gb_reg.predict(train_x)\n",
    "\n",
    "train_mse = mean_squared_error(train_target, train_pred)\n",
    "\n",
    "train_rmse = np.sqrt(train_mse)\n",
    "\n",
    "print('Train RMSE: {}' .format(train_rmse))"
   ]
  },
  {
   "cell_type": "code",
   "execution_count": 117,
   "metadata": {},
   "outputs": [
    {
     "name": "stdout",
     "output_type": "stream",
     "text": [
      "Test RMSE: 492292.731364155\n"
     ]
    }
   ],
   "source": [
    "#Test RMSE\n",
    "test_pred = gb_reg.predict(test_x)\n",
    "\n",
    "test_mse = mean_squared_error(test_target, test_pred)\n",
    "\n",
    "test_rmse = np.sqrt(test_mse)\n",
    "\n",
    "print('Test RMSE: {}' .format(test_rmse))"
   ]
  },
  {
   "cell_type": "markdown",
   "metadata": {},
   "source": [
    "## Neural network: "
   ]
  },
  {
   "cell_type": "code",
   "execution_count": 121,
   "metadata": {},
   "outputs": [
    {
     "name": "stderr",
     "output_type": "stream",
     "text": [
      "C:\\Users\\akush\\anaconda3\\Lib\\site-packages\\sklearn\\neural_network\\_multilayer_perceptron.py:1625: DataConversionWarning: A column-vector y was passed when a 1d array was expected. Please change the shape of y to (n_samples, ), for example using ravel().\n",
      "  y = column_or_1d(y, warn=True)\n",
      "C:\\Users\\akush\\anaconda3\\Lib\\site-packages\\sklearn\\neural_network\\_multilayer_perceptron.py:691: ConvergenceWarning: Stochastic Optimizer: Maximum iterations (200) reached and the optimization hasn't converged yet.\n",
      "  warnings.warn(\n"
     ]
    },
    {
     "data": {
      "text/html": [
       "<style>#sk-container-id-27 {color: black;}#sk-container-id-27 pre{padding: 0;}#sk-container-id-27 div.sk-toggleable {background-color: white;}#sk-container-id-27 label.sk-toggleable__label {cursor: pointer;display: block;width: 100%;margin-bottom: 0;padding: 0.3em;box-sizing: border-box;text-align: center;}#sk-container-id-27 label.sk-toggleable__label-arrow:before {content: \"▸\";float: left;margin-right: 0.25em;color: #696969;}#sk-container-id-27 label.sk-toggleable__label-arrow:hover:before {color: black;}#sk-container-id-27 div.sk-estimator:hover label.sk-toggleable__label-arrow:before {color: black;}#sk-container-id-27 div.sk-toggleable__content {max-height: 0;max-width: 0;overflow: hidden;text-align: left;background-color: #f0f8ff;}#sk-container-id-27 div.sk-toggleable__content pre {margin: 0.2em;color: black;border-radius: 0.25em;background-color: #f0f8ff;}#sk-container-id-27 input.sk-toggleable__control:checked~div.sk-toggleable__content {max-height: 200px;max-width: 100%;overflow: auto;}#sk-container-id-27 input.sk-toggleable__control:checked~label.sk-toggleable__label-arrow:before {content: \"▾\";}#sk-container-id-27 div.sk-estimator input.sk-toggleable__control:checked~label.sk-toggleable__label {background-color: #d4ebff;}#sk-container-id-27 div.sk-label input.sk-toggleable__control:checked~label.sk-toggleable__label {background-color: #d4ebff;}#sk-container-id-27 input.sk-hidden--visually {border: 0;clip: rect(1px 1px 1px 1px);clip: rect(1px, 1px, 1px, 1px);height: 1px;margin: -1px;overflow: hidden;padding: 0;position: absolute;width: 1px;}#sk-container-id-27 div.sk-estimator {font-family: monospace;background-color: #f0f8ff;border: 1px dotted black;border-radius: 0.25em;box-sizing: border-box;margin-bottom: 0.5em;}#sk-container-id-27 div.sk-estimator:hover {background-color: #d4ebff;}#sk-container-id-27 div.sk-parallel-item::after {content: \"\";width: 100%;border-bottom: 1px solid gray;flex-grow: 1;}#sk-container-id-27 div.sk-label:hover label.sk-toggleable__label {background-color: #d4ebff;}#sk-container-id-27 div.sk-serial::before {content: \"\";position: absolute;border-left: 1px solid gray;box-sizing: border-box;top: 0;bottom: 0;left: 50%;z-index: 0;}#sk-container-id-27 div.sk-serial {display: flex;flex-direction: column;align-items: center;background-color: white;padding-right: 0.2em;padding-left: 0.2em;position: relative;}#sk-container-id-27 div.sk-item {position: relative;z-index: 1;}#sk-container-id-27 div.sk-parallel {display: flex;align-items: stretch;justify-content: center;background-color: white;position: relative;}#sk-container-id-27 div.sk-item::before, #sk-container-id-27 div.sk-parallel-item::before {content: \"\";position: absolute;border-left: 1px solid gray;box-sizing: border-box;top: 0;bottom: 0;left: 50%;z-index: -1;}#sk-container-id-27 div.sk-parallel-item {display: flex;flex-direction: column;z-index: 1;position: relative;background-color: white;}#sk-container-id-27 div.sk-parallel-item:first-child::after {align-self: flex-end;width: 50%;}#sk-container-id-27 div.sk-parallel-item:last-child::after {align-self: flex-start;width: 50%;}#sk-container-id-27 div.sk-parallel-item:only-child::after {width: 0;}#sk-container-id-27 div.sk-dashed-wrapped {border: 1px dashed gray;margin: 0 0.4em 0.5em 0.4em;box-sizing: border-box;padding-bottom: 0.4em;background-color: white;}#sk-container-id-27 div.sk-label label {font-family: monospace;font-weight: bold;display: inline-block;line-height: 1.2em;}#sk-container-id-27 div.sk-label-container {text-align: center;}#sk-container-id-27 div.sk-container {/* jupyter's `normalize.less` sets `[hidden] { display: none; }` but bootstrap.min.css set `[hidden] { display: none !important; }` so we also need the `!important` here to be able to override the default hidden behavior on the sphinx rendered scikit-learn.org. See: https://github.com/scikit-learn/scikit-learn/issues/21755 */display: inline-block !important;position: relative;}#sk-container-id-27 div.sk-text-repr-fallback {display: none;}</style><div id=\"sk-container-id-27\" class=\"sk-top-container\"><div class=\"sk-text-repr-fallback\"><pre>MLPRegressor()</pre><b>In a Jupyter environment, please rerun this cell to show the HTML representation or trust the notebook. <br />On GitHub, the HTML representation is unable to render, please try loading this page with nbviewer.org.</b></div><div class=\"sk-container\" hidden><div class=\"sk-item\"><div class=\"sk-estimator sk-toggleable\"><input class=\"sk-toggleable__control sk-hidden--visually\" id=\"sk-estimator-id-46\" type=\"checkbox\" checked><label for=\"sk-estimator-id-46\" class=\"sk-toggleable__label sk-toggleable__label-arrow\">MLPRegressor</label><div class=\"sk-toggleable__content\"><pre>MLPRegressor()</pre></div></div></div></div></div>"
      ],
      "text/plain": [
       "MLPRegressor()"
      ]
     },
     "execution_count": 121,
     "metadata": {},
     "output_type": "execute_result"
    }
   ],
   "source": [
    "from sklearn.neural_network import MLPRegressor\n",
    "\n",
    "#Default settings create 1 hidden layer with 100 neurons\n",
    "mlp_reg = MLPRegressor(hidden_layer_sizes=(100,))\n",
    "\n",
    "mlp_reg.fit(train_x, train_target)"
   ]
  },
  {
   "cell_type": "code",
   "execution_count": 122,
   "metadata": {},
   "outputs": [
    {
     "name": "stdout",
     "output_type": "stream",
     "text": [
      "Train RMSE: 585166.131317479\n"
     ]
    }
   ],
   "source": [
    "#Train RMSE\n",
    "train_pred = mlp_reg.predict(train_x)\n",
    "\n",
    "train_mse = mean_squared_error(train_target, train_pred)\n",
    "\n",
    "train_rmse = np.sqrt(train_mse)\n",
    "\n",
    "print('Train RMSE: {}' .format(train_rmse))"
   ]
  },
  {
   "cell_type": "code",
   "execution_count": 123,
   "metadata": {},
   "outputs": [
    {
     "name": "stdout",
     "output_type": "stream",
     "text": [
      "Test RMSE: 499243.94627652405\n"
     ]
    }
   ],
   "source": [
    "#Test RMSE\n",
    "test_pred = mlp_reg.predict(test_x)\n",
    "\n",
    "test_mse = mean_squared_error(test_target, test_pred)\n",
    "\n",
    "test_rmse = np.sqrt(test_mse)\n",
    "\n",
    "print('Test RMSE: {}' .format(test_rmse))"
   ]
  },
  {
   "cell_type": "markdown",
   "metadata": {},
   "source": [
    "### Is the model overfitting? Provide your answer below. If yes, please add more cells below and show how you corrected overfitting. If your model is overfitting and you don't correct it, you will lose points. "
   ]
  },
  {
   "cell_type": "markdown",
   "metadata": {},
   "source": [
    "Baseline Model:\n",
    "\n",
    "Train RMSE: 574,386.41\n",
    "Test RMSE: 482,867.50\n",
    "Neural Network 1st:\n",
    "\n",
    "Train RMSE: 585,166.13\n",
    "Test RMSE: 499,243.95\n",
    "\n",
    "The training RMSE is slightly higher than the baseline, suggesting that this neural network model is performing worse than the baseline model.Also, The test RMSE is higher than the baseline, indicating that this model does not generalize well to unseen data. The gap between the training and test RMSEs suggests that the model may be overfitting.\n",
    "\n",
    "To remediate that I have decided to use Early stopping for performance tuning. By changing below hyperparmeters,\n",
    "hidden_layer_sizes=(50,50,50),max_iter=100,tol=0.1,alpha=0.1,learning_rate='constant',early_stopping=True\n",
    "\n",
    "The training RMSE is very close to that of the first neural network model hence showing not much of a change. The test RMSE is significantly higher than the baseline. This suggests that the model, even with early stopping, is not generalizing effectively to new data. I decided to use early stopping mechanism to get rid of the overfitting but even after multiple attempts I was not able to improve its performance."
   ]
  },
  {
   "cell_type": "code",
   "execution_count": 142,
   "metadata": {},
   "outputs": [
    {
     "name": "stderr",
     "output_type": "stream",
     "text": [
      "C:\\Users\\akush\\anaconda3\\Lib\\site-packages\\sklearn\\neural_network\\_multilayer_perceptron.py:1625: DataConversionWarning: A column-vector y was passed when a 1d array was expected. Please change the shape of y to (n_samples, ), for example using ravel().\n",
      "  y = column_or_1d(y, warn=True)\n"
     ]
    },
    {
     "data": {
      "text/html": [
       "<style>#sk-container-id-34 {color: black;}#sk-container-id-34 pre{padding: 0;}#sk-container-id-34 div.sk-toggleable {background-color: white;}#sk-container-id-34 label.sk-toggleable__label {cursor: pointer;display: block;width: 100%;margin-bottom: 0;padding: 0.3em;box-sizing: border-box;text-align: center;}#sk-container-id-34 label.sk-toggleable__label-arrow:before {content: \"▸\";float: left;margin-right: 0.25em;color: #696969;}#sk-container-id-34 label.sk-toggleable__label-arrow:hover:before {color: black;}#sk-container-id-34 div.sk-estimator:hover label.sk-toggleable__label-arrow:before {color: black;}#sk-container-id-34 div.sk-toggleable__content {max-height: 0;max-width: 0;overflow: hidden;text-align: left;background-color: #f0f8ff;}#sk-container-id-34 div.sk-toggleable__content pre {margin: 0.2em;color: black;border-radius: 0.25em;background-color: #f0f8ff;}#sk-container-id-34 input.sk-toggleable__control:checked~div.sk-toggleable__content {max-height: 200px;max-width: 100%;overflow: auto;}#sk-container-id-34 input.sk-toggleable__control:checked~label.sk-toggleable__label-arrow:before {content: \"▾\";}#sk-container-id-34 div.sk-estimator input.sk-toggleable__control:checked~label.sk-toggleable__label {background-color: #d4ebff;}#sk-container-id-34 div.sk-label input.sk-toggleable__control:checked~label.sk-toggleable__label {background-color: #d4ebff;}#sk-container-id-34 input.sk-hidden--visually {border: 0;clip: rect(1px 1px 1px 1px);clip: rect(1px, 1px, 1px, 1px);height: 1px;margin: -1px;overflow: hidden;padding: 0;position: absolute;width: 1px;}#sk-container-id-34 div.sk-estimator {font-family: monospace;background-color: #f0f8ff;border: 1px dotted black;border-radius: 0.25em;box-sizing: border-box;margin-bottom: 0.5em;}#sk-container-id-34 div.sk-estimator:hover {background-color: #d4ebff;}#sk-container-id-34 div.sk-parallel-item::after {content: \"\";width: 100%;border-bottom: 1px solid gray;flex-grow: 1;}#sk-container-id-34 div.sk-label:hover label.sk-toggleable__label {background-color: #d4ebff;}#sk-container-id-34 div.sk-serial::before {content: \"\";position: absolute;border-left: 1px solid gray;box-sizing: border-box;top: 0;bottom: 0;left: 50%;z-index: 0;}#sk-container-id-34 div.sk-serial {display: flex;flex-direction: column;align-items: center;background-color: white;padding-right: 0.2em;padding-left: 0.2em;position: relative;}#sk-container-id-34 div.sk-item {position: relative;z-index: 1;}#sk-container-id-34 div.sk-parallel {display: flex;align-items: stretch;justify-content: center;background-color: white;position: relative;}#sk-container-id-34 div.sk-item::before, #sk-container-id-34 div.sk-parallel-item::before {content: \"\";position: absolute;border-left: 1px solid gray;box-sizing: border-box;top: 0;bottom: 0;left: 50%;z-index: -1;}#sk-container-id-34 div.sk-parallel-item {display: flex;flex-direction: column;z-index: 1;position: relative;background-color: white;}#sk-container-id-34 div.sk-parallel-item:first-child::after {align-self: flex-end;width: 50%;}#sk-container-id-34 div.sk-parallel-item:last-child::after {align-self: flex-start;width: 50%;}#sk-container-id-34 div.sk-parallel-item:only-child::after {width: 0;}#sk-container-id-34 div.sk-dashed-wrapped {border: 1px dashed gray;margin: 0 0.4em 0.5em 0.4em;box-sizing: border-box;padding-bottom: 0.4em;background-color: white;}#sk-container-id-34 div.sk-label label {font-family: monospace;font-weight: bold;display: inline-block;line-height: 1.2em;}#sk-container-id-34 div.sk-label-container {text-align: center;}#sk-container-id-34 div.sk-container {/* jupyter's `normalize.less` sets `[hidden] { display: none; }` but bootstrap.min.css set `[hidden] { display: none !important; }` so we also need the `!important` here to be able to override the default hidden behavior on the sphinx rendered scikit-learn.org. See: https://github.com/scikit-learn/scikit-learn/issues/21755 */display: inline-block !important;position: relative;}#sk-container-id-34 div.sk-text-repr-fallback {display: none;}</style><div id=\"sk-container-id-34\" class=\"sk-top-container\"><div class=\"sk-text-repr-fallback\"><pre>MLPRegressor(alpha=0.1, early_stopping=True, hidden_layer_sizes=(50, 50, 50),\n",
       "             max_iter=100, tol=0.1)</pre><b>In a Jupyter environment, please rerun this cell to show the HTML representation or trust the notebook. <br />On GitHub, the HTML representation is unable to render, please try loading this page with nbviewer.org.</b></div><div class=\"sk-container\" hidden><div class=\"sk-item\"><div class=\"sk-estimator sk-toggleable\"><input class=\"sk-toggleable__control sk-hidden--visually\" id=\"sk-estimator-id-53\" type=\"checkbox\" checked><label for=\"sk-estimator-id-53\" class=\"sk-toggleable__label sk-toggleable__label-arrow\">MLPRegressor</label><div class=\"sk-toggleable__content\"><pre>MLPRegressor(alpha=0.1, early_stopping=True, hidden_layer_sizes=(50, 50, 50),\n",
       "             max_iter=100, tol=0.1)</pre></div></div></div></div></div>"
      ],
      "text/plain": [
       "MLPRegressor(alpha=0.1, early_stopping=True, hidden_layer_sizes=(50, 50, 50),\n",
       "             max_iter=100, tol=0.1)"
      ]
     },
     "execution_count": 142,
     "metadata": {},
     "output_type": "execute_result"
    }
   ],
   "source": [
    "dnn_reg = MLPRegressor(hidden_layer_sizes=(50,50,50),\n",
    "                       max_iter=100,tol=0.1,alpha=0.1,learning_rate='constant',\n",
    "                       early_stopping=True)\n",
    "\n",
    "dnn_reg.fit(train_x, train_target)"
   ]
  },
  {
   "cell_type": "code",
   "execution_count": 143,
   "metadata": {},
   "outputs": [
    {
     "name": "stdout",
     "output_type": "stream",
     "text": [
      "Train RMSE: 585333.857788859\n"
     ]
    }
   ],
   "source": [
    "#Train RMSE\n",
    "train_pred = dnn_reg.predict(train_x)\n",
    "\n",
    "train_mse = mean_squared_error(train_target, train_pred)\n",
    "\n",
    "train_rmse = np.sqrt(train_mse)\n",
    "\n",
    "print('Train RMSE: {}' .format(train_rmse))"
   ]
  },
  {
   "cell_type": "code",
   "execution_count": 144,
   "metadata": {},
   "outputs": [
    {
     "name": "stdout",
     "output_type": "stream",
     "text": [
      "Test RMSE: 499464.5624696545\n"
     ]
    }
   ],
   "source": [
    "#Test RMSE\n",
    "test_pred = dnn_reg.predict(test_x)\n",
    "\n",
    "test_mse = mean_squared_error(test_target, test_pred)\n",
    "\n",
    "test_rmse = np.sqrt(test_mse)\n",
    "\n",
    "print('Test RMSE: {}' .format(test_rmse))"
   ]
  },
  {
   "cell_type": "markdown",
   "metadata": {},
   "source": [
    "## Grid search \n",
    "\n",
    "Perform either a full or randomized grid search on any model you want. There has to be at least two parameters for the search. "
   ]
  },
  {
   "cell_type": "code",
   "execution_count": 145,
   "metadata": {},
   "outputs": [
    {
     "name": "stdout",
     "output_type": "stream",
     "text": [
      "Fitting 5 folds for each of 10 candidates, totalling 50 fits\n"
     ]
    },
    {
     "data": {
      "text/html": [
       "<style>#sk-container-id-35 {color: black;}#sk-container-id-35 pre{padding: 0;}#sk-container-id-35 div.sk-toggleable {background-color: white;}#sk-container-id-35 label.sk-toggleable__label {cursor: pointer;display: block;width: 100%;margin-bottom: 0;padding: 0.3em;box-sizing: border-box;text-align: center;}#sk-container-id-35 label.sk-toggleable__label-arrow:before {content: \"▸\";float: left;margin-right: 0.25em;color: #696969;}#sk-container-id-35 label.sk-toggleable__label-arrow:hover:before {color: black;}#sk-container-id-35 div.sk-estimator:hover label.sk-toggleable__label-arrow:before {color: black;}#sk-container-id-35 div.sk-toggleable__content {max-height: 0;max-width: 0;overflow: hidden;text-align: left;background-color: #f0f8ff;}#sk-container-id-35 div.sk-toggleable__content pre {margin: 0.2em;color: black;border-radius: 0.25em;background-color: #f0f8ff;}#sk-container-id-35 input.sk-toggleable__control:checked~div.sk-toggleable__content {max-height: 200px;max-width: 100%;overflow: auto;}#sk-container-id-35 input.sk-toggleable__control:checked~label.sk-toggleable__label-arrow:before {content: \"▾\";}#sk-container-id-35 div.sk-estimator input.sk-toggleable__control:checked~label.sk-toggleable__label {background-color: #d4ebff;}#sk-container-id-35 div.sk-label input.sk-toggleable__control:checked~label.sk-toggleable__label {background-color: #d4ebff;}#sk-container-id-35 input.sk-hidden--visually {border: 0;clip: rect(1px 1px 1px 1px);clip: rect(1px, 1px, 1px, 1px);height: 1px;margin: -1px;overflow: hidden;padding: 0;position: absolute;width: 1px;}#sk-container-id-35 div.sk-estimator {font-family: monospace;background-color: #f0f8ff;border: 1px dotted black;border-radius: 0.25em;box-sizing: border-box;margin-bottom: 0.5em;}#sk-container-id-35 div.sk-estimator:hover {background-color: #d4ebff;}#sk-container-id-35 div.sk-parallel-item::after {content: \"\";width: 100%;border-bottom: 1px solid gray;flex-grow: 1;}#sk-container-id-35 div.sk-label:hover label.sk-toggleable__label {background-color: #d4ebff;}#sk-container-id-35 div.sk-serial::before {content: \"\";position: absolute;border-left: 1px solid gray;box-sizing: border-box;top: 0;bottom: 0;left: 50%;z-index: 0;}#sk-container-id-35 div.sk-serial {display: flex;flex-direction: column;align-items: center;background-color: white;padding-right: 0.2em;padding-left: 0.2em;position: relative;}#sk-container-id-35 div.sk-item {position: relative;z-index: 1;}#sk-container-id-35 div.sk-parallel {display: flex;align-items: stretch;justify-content: center;background-color: white;position: relative;}#sk-container-id-35 div.sk-item::before, #sk-container-id-35 div.sk-parallel-item::before {content: \"\";position: absolute;border-left: 1px solid gray;box-sizing: border-box;top: 0;bottom: 0;left: 50%;z-index: -1;}#sk-container-id-35 div.sk-parallel-item {display: flex;flex-direction: column;z-index: 1;position: relative;background-color: white;}#sk-container-id-35 div.sk-parallel-item:first-child::after {align-self: flex-end;width: 50%;}#sk-container-id-35 div.sk-parallel-item:last-child::after {align-self: flex-start;width: 50%;}#sk-container-id-35 div.sk-parallel-item:only-child::after {width: 0;}#sk-container-id-35 div.sk-dashed-wrapped {border: 1px dashed gray;margin: 0 0.4em 0.5em 0.4em;box-sizing: border-box;padding-bottom: 0.4em;background-color: white;}#sk-container-id-35 div.sk-label label {font-family: monospace;font-weight: bold;display: inline-block;line-height: 1.2em;}#sk-container-id-35 div.sk-label-container {text-align: center;}#sk-container-id-35 div.sk-container {/* jupyter's `normalize.less` sets `[hidden] { display: none; }` but bootstrap.min.css set `[hidden] { display: none !important; }` so we also need the `!important` here to be able to override the default hidden behavior on the sphinx rendered scikit-learn.org. See: https://github.com/scikit-learn/scikit-learn/issues/21755 */display: inline-block !important;position: relative;}#sk-container-id-35 div.sk-text-repr-fallback {display: none;}</style><div id=\"sk-container-id-35\" class=\"sk-top-container\"><div class=\"sk-text-repr-fallback\"><pre>RandomizedSearchCV(cv=5, estimator=DecisionTreeRegressor(),\n",
       "                   param_distributions=[{&#x27;max_depth&#x27;: array([ 1,  2,  3,  4,  5,  6,  7,  8,  9, 10, 11, 12, 13, 14, 15, 16, 17,\n",
       "       18, 19, 20, 21, 22, 23, 24, 25, 26, 27, 28, 29]),\n",
       "                                         &#x27;min_samples_leaf&#x27;: array([ 1,  2,  3,  4,  5,  6,  7,  8,  9, 10, 11, 12, 13, 14, 15, 16, 17,\n",
       "       18, 19, 20, 21, 22, 23, 24, 25, 26, 27, 28, 29])}],\n",
       "                   return_train_score=True, scoring=&#x27;neg_mean_squared_error&#x27;,\n",
       "                   verbose=1)</pre><b>In a Jupyter environment, please rerun this cell to show the HTML representation or trust the notebook. <br />On GitHub, the HTML representation is unable to render, please try loading this page with nbviewer.org.</b></div><div class=\"sk-container\" hidden><div class=\"sk-item sk-dashed-wrapped\"><div class=\"sk-label-container\"><div class=\"sk-label sk-toggleable\"><input class=\"sk-toggleable__control sk-hidden--visually\" id=\"sk-estimator-id-54\" type=\"checkbox\" ><label for=\"sk-estimator-id-54\" class=\"sk-toggleable__label sk-toggleable__label-arrow\">RandomizedSearchCV</label><div class=\"sk-toggleable__content\"><pre>RandomizedSearchCV(cv=5, estimator=DecisionTreeRegressor(),\n",
       "                   param_distributions=[{&#x27;max_depth&#x27;: array([ 1,  2,  3,  4,  5,  6,  7,  8,  9, 10, 11, 12, 13, 14, 15, 16, 17,\n",
       "       18, 19, 20, 21, 22, 23, 24, 25, 26, 27, 28, 29]),\n",
       "                                         &#x27;min_samples_leaf&#x27;: array([ 1,  2,  3,  4,  5,  6,  7,  8,  9, 10, 11, 12, 13, 14, 15, 16, 17,\n",
       "       18, 19, 20, 21, 22, 23, 24, 25, 26, 27, 28, 29])}],\n",
       "                   return_train_score=True, scoring=&#x27;neg_mean_squared_error&#x27;,\n",
       "                   verbose=1)</pre></div></div></div><div class=\"sk-parallel\"><div class=\"sk-parallel-item\"><div class=\"sk-item\"><div class=\"sk-label-container\"><div class=\"sk-label sk-toggleable\"><input class=\"sk-toggleable__control sk-hidden--visually\" id=\"sk-estimator-id-55\" type=\"checkbox\" ><label for=\"sk-estimator-id-55\" class=\"sk-toggleable__label sk-toggleable__label-arrow\">estimator: DecisionTreeRegressor</label><div class=\"sk-toggleable__content\"><pre>DecisionTreeRegressor()</pre></div></div></div><div class=\"sk-serial\"><div class=\"sk-item\"><div class=\"sk-estimator sk-toggleable\"><input class=\"sk-toggleable__control sk-hidden--visually\" id=\"sk-estimator-id-56\" type=\"checkbox\" ><label for=\"sk-estimator-id-56\" class=\"sk-toggleable__label sk-toggleable__label-arrow\">DecisionTreeRegressor</label><div class=\"sk-toggleable__content\"><pre>DecisionTreeRegressor()</pre></div></div></div></div></div></div></div></div></div></div>"
      ],
      "text/plain": [
       "RandomizedSearchCV(cv=5, estimator=DecisionTreeRegressor(),\n",
       "                   param_distributions=[{'max_depth': array([ 1,  2,  3,  4,  5,  6,  7,  8,  9, 10, 11, 12, 13, 14, 15, 16, 17,\n",
       "       18, 19, 20, 21, 22, 23, 24, 25, 26, 27, 28, 29]),\n",
       "                                         'min_samples_leaf': array([ 1,  2,  3,  4,  5,  6,  7,  8,  9, 10, 11, 12, 13, 14, 15, 16, 17,\n",
       "       18, 19, 20, 21, 22, 23, 24, 25, 26, 27, 28, 29])}],\n",
       "                   return_train_score=True, scoring='neg_mean_squared_error',\n",
       "                   verbose=1)"
      ]
     },
     "execution_count": 145,
     "metadata": {},
     "output_type": "execute_result"
    }
   ],
   "source": [
    "from sklearn.model_selection import RandomizedSearchCV\n",
    "\n",
    "param_grid = [\n",
    "    {'min_samples_leaf': np.arange(1, 30), \n",
    "     'max_depth': np.arange(1,30)}\n",
    "  ]\n",
    "\n",
    "tree_reg = DecisionTreeRegressor()\n",
    "\n",
    "grid_search = RandomizedSearchCV(tree_reg, param_grid, cv=5, n_iter=10,\n",
    "                           scoring='neg_mean_squared_error', verbose=1,\n",
    "                           return_train_score=True)\n",
    "\n",
    "grid_search.fit(train_x, train_target)"
   ]
  },
  {
   "cell_type": "code",
   "execution_count": 146,
   "metadata": {},
   "outputs": [
    {
     "name": "stdout",
     "output_type": "stream",
     "text": [
      "659368.1339209817 {'min_samples_leaf': 3, 'max_depth': 2}\n",
      "657945.7565166292 {'min_samples_leaf': 5, 'max_depth': 4}\n",
      "617866.5930710235 {'min_samples_leaf': 16, 'max_depth': 5}\n",
      "602248.1385677645 {'min_samples_leaf': 19, 'max_depth': 16}\n",
      "599129.3034196673 {'min_samples_leaf': 19, 'max_depth': 3}\n",
      "616211.1840377086 {'min_samples_leaf': 13, 'max_depth': 4}\n",
      "594356.4433650728 {'min_samples_leaf': 26, 'max_depth': 18}\n",
      "593462.9442373025 {'min_samples_leaf': 29, 'max_depth': 24}\n",
      "690019.4133289763 {'min_samples_leaf': 3, 'max_depth': 4}\n",
      "590026.0542875259 {'min_samples_leaf': 28, 'max_depth': 27}\n"
     ]
    }
   ],
   "source": [
    "cvres = grid_search.cv_results_\n",
    "\n",
    "for mean_score, params in zip(cvres[\"mean_test_score\"], cvres[\"params\"]):\n",
    "    print(np.sqrt(-mean_score), params)"
   ]
  },
  {
   "cell_type": "code",
   "execution_count": 68,
   "metadata": {},
   "outputs": [
    {
     "data": {
      "text/plain": [
       "{'min_samples_leaf': 28, 'max_depth': 23}"
      ]
     },
     "execution_count": 68,
     "metadata": {},
     "output_type": "execute_result"
    }
   ],
   "source": [
    "grid_search.best_params_"
   ]
  },
  {
   "cell_type": "code",
   "execution_count": 69,
   "metadata": {},
   "outputs": [
    {
     "data": {
      "text/html": [
       "<style>#sk-container-id-11 {color: black;}#sk-container-id-11 pre{padding: 0;}#sk-container-id-11 div.sk-toggleable {background-color: white;}#sk-container-id-11 label.sk-toggleable__label {cursor: pointer;display: block;width: 100%;margin-bottom: 0;padding: 0.3em;box-sizing: border-box;text-align: center;}#sk-container-id-11 label.sk-toggleable__label-arrow:before {content: \"▸\";float: left;margin-right: 0.25em;color: #696969;}#sk-container-id-11 label.sk-toggleable__label-arrow:hover:before {color: black;}#sk-container-id-11 div.sk-estimator:hover label.sk-toggleable__label-arrow:before {color: black;}#sk-container-id-11 div.sk-toggleable__content {max-height: 0;max-width: 0;overflow: hidden;text-align: left;background-color: #f0f8ff;}#sk-container-id-11 div.sk-toggleable__content pre {margin: 0.2em;color: black;border-radius: 0.25em;background-color: #f0f8ff;}#sk-container-id-11 input.sk-toggleable__control:checked~div.sk-toggleable__content {max-height: 200px;max-width: 100%;overflow: auto;}#sk-container-id-11 input.sk-toggleable__control:checked~label.sk-toggleable__label-arrow:before {content: \"▾\";}#sk-container-id-11 div.sk-estimator input.sk-toggleable__control:checked~label.sk-toggleable__label {background-color: #d4ebff;}#sk-container-id-11 div.sk-label input.sk-toggleable__control:checked~label.sk-toggleable__label {background-color: #d4ebff;}#sk-container-id-11 input.sk-hidden--visually {border: 0;clip: rect(1px 1px 1px 1px);clip: rect(1px, 1px, 1px, 1px);height: 1px;margin: -1px;overflow: hidden;padding: 0;position: absolute;width: 1px;}#sk-container-id-11 div.sk-estimator {font-family: monospace;background-color: #f0f8ff;border: 1px dotted black;border-radius: 0.25em;box-sizing: border-box;margin-bottom: 0.5em;}#sk-container-id-11 div.sk-estimator:hover {background-color: #d4ebff;}#sk-container-id-11 div.sk-parallel-item::after {content: \"\";width: 100%;border-bottom: 1px solid gray;flex-grow: 1;}#sk-container-id-11 div.sk-label:hover label.sk-toggleable__label {background-color: #d4ebff;}#sk-container-id-11 div.sk-serial::before {content: \"\";position: absolute;border-left: 1px solid gray;box-sizing: border-box;top: 0;bottom: 0;left: 50%;z-index: 0;}#sk-container-id-11 div.sk-serial {display: flex;flex-direction: column;align-items: center;background-color: white;padding-right: 0.2em;padding-left: 0.2em;position: relative;}#sk-container-id-11 div.sk-item {position: relative;z-index: 1;}#sk-container-id-11 div.sk-parallel {display: flex;align-items: stretch;justify-content: center;background-color: white;position: relative;}#sk-container-id-11 div.sk-item::before, #sk-container-id-11 div.sk-parallel-item::before {content: \"\";position: absolute;border-left: 1px solid gray;box-sizing: border-box;top: 0;bottom: 0;left: 50%;z-index: -1;}#sk-container-id-11 div.sk-parallel-item {display: flex;flex-direction: column;z-index: 1;position: relative;background-color: white;}#sk-container-id-11 div.sk-parallel-item:first-child::after {align-self: flex-end;width: 50%;}#sk-container-id-11 div.sk-parallel-item:last-child::after {align-self: flex-start;width: 50%;}#sk-container-id-11 div.sk-parallel-item:only-child::after {width: 0;}#sk-container-id-11 div.sk-dashed-wrapped {border: 1px dashed gray;margin: 0 0.4em 0.5em 0.4em;box-sizing: border-box;padding-bottom: 0.4em;background-color: white;}#sk-container-id-11 div.sk-label label {font-family: monospace;font-weight: bold;display: inline-block;line-height: 1.2em;}#sk-container-id-11 div.sk-label-container {text-align: center;}#sk-container-id-11 div.sk-container {/* jupyter's `normalize.less` sets `[hidden] { display: none; }` but bootstrap.min.css set `[hidden] { display: none !important; }` so we also need the `!important` here to be able to override the default hidden behavior on the sphinx rendered scikit-learn.org. See: https://github.com/scikit-learn/scikit-learn/issues/21755 */display: inline-block !important;position: relative;}#sk-container-id-11 div.sk-text-repr-fallback {display: none;}</style><div id=\"sk-container-id-11\" class=\"sk-top-container\"><div class=\"sk-text-repr-fallback\"><pre>DecisionTreeRegressor(max_depth=23, min_samples_leaf=28)</pre><b>In a Jupyter environment, please rerun this cell to show the HTML representation or trust the notebook. <br />On GitHub, the HTML representation is unable to render, please try loading this page with nbviewer.org.</b></div><div class=\"sk-container\" hidden><div class=\"sk-item\"><div class=\"sk-estimator sk-toggleable\"><input class=\"sk-toggleable__control sk-hidden--visually\" id=\"sk-estimator-id-19\" type=\"checkbox\" checked><label for=\"sk-estimator-id-19\" class=\"sk-toggleable__label sk-toggleable__label-arrow\">DecisionTreeRegressor</label><div class=\"sk-toggleable__content\"><pre>DecisionTreeRegressor(max_depth=23, min_samples_leaf=28)</pre></div></div></div></div></div>"
      ],
      "text/plain": [
       "DecisionTreeRegressor(max_depth=23, min_samples_leaf=28)"
      ]
     },
     "execution_count": 69,
     "metadata": {},
     "output_type": "execute_result"
    }
   ],
   "source": [
    "grid_search.best_estimator_"
   ]
  },
  {
   "cell_type": "code",
   "execution_count": 70,
   "metadata": {},
   "outputs": [
    {
     "name": "stdout",
     "output_type": "stream",
     "text": [
      "Train RMSE: 540974.1603672268\n"
     ]
    }
   ],
   "source": [
    "#Train RMSE\n",
    "train_pred = grid_search.best_estimator_.predict(train_x)\n",
    "\n",
    "train_mse = mean_squared_error(train_target, train_pred)\n",
    "\n",
    "train_rmse = np.sqrt(train_mse)\n",
    "\n",
    "print('Train RMSE: {}' .format(train_rmse))"
   ]
  },
  {
   "cell_type": "code",
   "execution_count": 71,
   "metadata": {},
   "outputs": [
    {
     "name": "stdout",
     "output_type": "stream",
     "text": [
      "Test RMSE: 470670.41666696436\n"
     ]
    }
   ],
   "source": [
    "#Test RMSE\n",
    "test_pred = grid_search.best_estimator_.predict(test_x)\n",
    "\n",
    "test_mse = mean_squared_error(test_target, test_pred)\n",
    "\n",
    "test_rmse = np.sqrt(test_mse)\n",
    "\n",
    "print('Test RMSE: {}' .format(test_rmse))"
   ]
  },
  {
   "cell_type": "markdown",
   "metadata": {},
   "source": [
    "### Is the model overfitting? Provide your answer below. If yes, please add more cells below and show how you corrected overfitting. If your model is overfitting and you don't correct it, you will lose points. (0.25 points)"
   ]
  },
  {
   "cell_type": "markdown",
   "metadata": {},
   "source": [
    "Baseline Model:\n",
    "\n",
    "Train RMSE: 574,386.41\n",
    "Test RMSE: 482,867.50\n",
    "\n",
    "Grid Search Decision Tree:\n",
    "\n",
    "Train RMSE: 540,974.16\n",
    "Test RMSE: 470,670.42\n",
    "\n",
    "I believe there is no Overfitting.The Grid Search Decision Tree model has outperformed the baseline model. It shows a lower training RMSE 540,974.16 than the baseline 574,386.41, indicating a better fit to the training data. More importantly, it has a significantly lower test RMSE 470,670.42 compared to the baseline 482,867.50, demonstrating better generalization to unseen data. "
   ]
  },
  {
   "cell_type": "markdown",
   "metadata": {},
   "source": [
    "# Discussion \n"
   ]
  },
  {
   "cell_type": "markdown",
   "metadata": {},
   "source": [
    "## List the train and test values of each model you built (1 points)"
   ]
  },
  {
   "cell_type": "raw",
   "metadata": {},
   "source": [
    "Baseline Train RMSE: 574,386.41\n",
    "Baseline Test RMSE: 482,867.50\n",
    "\n",
    "Decision Tree (max_depth=5)\n",
    "Train RMSE: 268,928.57\n",
    "Test RMSE: 629,822.63\n",
    "\n",
    "Decision Tree (min_samples_leaf = 26,max_depth=20)\n",
    "Train RMSE: 547699.37 \n",
    "Test RMSE: 473840.15\n",
    "------------------------------------------\n",
    "Baseline Train RMSE: 574386.41\n",
    "Baseline Test RMSE: 482867.50\n",
    "\n",
    "Voting regressor  1st\n",
    "Train RMSE: 166090.54\n",
    "Test RMSE: 512367.84\n",
    "\n",
    "Voting regressor 2nd\n",
    "Train RMSE: 545549.31 \n",
    "Test RMSE: 469450.16 \n",
    "---------------------------------------------\n",
    "Baseline Train RMSE: 574386.41\n",
    "Baseline Test RMSE: 482867.50\n",
    "\n",
    "Gradient Boosting model\n",
    "Train RMSE: 35433.16 \n",
    "Test RMSE: 509069.51\n",
    "\n",
    "Gradient Boosting with early stopping\n",
    "Train RMSE: 539520.83 \n",
    "Test RMSE: 479889.25\n",
    "---------------------------------------------\n",
    "Baseline Train RMSE: 574386.41\n",
    "Baseline Test RMSE: 482867.50\n",
    "\n",
    "Neural network 1st\n",
    "\n",
    "Train RMSE: 585166.13\n",
    "Test RMSE: 499243.95\n",
    "\n",
    "Neural network with early stopping\n",
    "Train RMSE: 585333.93\n",
    "Test RMSE: 499464.66\n",
    "---------------------------------------------\n",
    "Baseline Train RMSE: 574386.41\n",
    "Baseline Test RMSE: 482867.50\n",
    "\n",
    "Grid search Decision Tree 1st\n",
    "Train RMSE: 540974.16\n",
    "Test RMSE: 470670.42 \n"
   ]
  },
  {
   "cell_type": "markdown",
   "metadata": {},
   "source": [
    "## Which model performs the best and why? \n",
    "\n",
    "Hint: The best model is the one that has the best TEST value (regardless of any of the training values). If you select your model based on TRAIN values, you will lose points."
   ]
  },
  {
   "cell_type": "markdown",
   "metadata": {},
   "source": [
    "Voting Regressor 2nd: Test RMSE = 469,450.16\n",
    "\n",
    "The Voting Regressor 2nd model has the lowest test RMSE 469,450.16 indicating that it has performed the best at generalizing to unseen data compared to the other models. I believe that The Voting Regressor 2nd model has performed the best in terms of both reducing overfitting and enhancing predictive accuracy on unseen data."
   ]
  },
  {
   "cell_type": "markdown",
   "metadata": {},
   "source": [
    "## How does it compare to baseline? "
   ]
  },
  {
   "cell_type": "markdown",
   "metadata": {},
   "source": [
    "The Voting Regressor 2nd model shows better performance than the baseline model. It has a slightly lower training RMSE 545,549.31 vs. 574,386.41 and more importantly, a lower test RMSE 469,450.16 vs. 482,867.50 \n",
    "This lower test RMSE shows that the Voting Regressor 2nd model generalizes better to unseen data than the baseline, making it a more effective model for predictive accuracy on this dataset."
   ]
  }
 ],
 "metadata": {
  "kernelspec": {
   "display_name": "Python 3 (ipykernel)",
   "language": "python",
   "name": "python3"
  },
  "language_info": {
   "codemirror_mode": {
    "name": "ipython",
    "version": 3
   },
   "file_extension": ".py",
   "mimetype": "text/x-python",
   "name": "python",
   "nbconvert_exporter": "python",
   "pygments_lexer": "ipython3",
   "version": "3.11.5"
  },
  "toc": {
   "base_numbering": 1,
   "nav_menu": {},
   "number_sections": false,
   "sideBar": true,
   "skip_h1_title": false,
   "title_cell": "Table of Contents",
   "title_sidebar": "Contents",
   "toc_cell": false,
   "toc_position": {},
   "toc_section_display": true,
   "toc_window_display": false
  },
  "varInspector": {
   "cols": {
    "lenName": 16,
    "lenType": 16,
    "lenVar": 40
   },
   "kernels_config": {
    "python": {
     "delete_cmd_postfix": "",
     "delete_cmd_prefix": "del ",
     "library": "var_list.py",
     "varRefreshCmd": "print(var_dic_list())"
    },
    "r": {
     "delete_cmd_postfix": ") ",
     "delete_cmd_prefix": "rm(",
     "library": "var_list.r",
     "varRefreshCmd": "cat(var_dic_list()) "
    }
   },
   "types_to_exclude": [
    "module",
    "function",
    "builtin_function_or_method",
    "instance",
    "_Feature"
   ],
   "window_display": false
  }
 },
 "nbformat": 4,
 "nbformat_minor": 2
}
